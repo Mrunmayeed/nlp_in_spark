{
 "cells": [
  {
   "cell_type": "markdown",
   "metadata": {
    "application/vnd.databricks.v1+cell": {
     "cellMetadata": {},
     "inputWidgets": {},
     "nuid": "1d9b8893-69f6-4eb2-b225-75c0e0f011a1",
     "showTitle": false,
     "title": ""
    }
   },
   "source": [
    "###Sentiment Analysis of Movie Reviews"
   ]
  },
  {
   "cell_type": "code",
   "execution_count": 0,
   "metadata": {
    "application/vnd.databricks.v1+cell": {
     "cellMetadata": {
      "byteLimit": 2048000,
      "rowLimit": 10000
     },
     "inputWidgets": {},
     "nuid": "05e4be8e-c893-4fd3-9f28-11196d6557be",
     "showTitle": false,
     "title": ""
    }
   },
   "outputs": [
    {
     "output_type": "display_data",
     "data": {
      "application/vnd.databricks.v1+bamboolib_hint": "{\"pd.DataFrames\": [], \"version\": \"0.0.1\"}",
      "text/plain": []
     },
     "metadata": {},
     "output_type": "display_data"
    }
   ],
   "source": [
    "from pyspark.sql.types import (StringType, BooleanType, IntegerType, FloatType, DateType, ArrayType, DoubleType) \n",
    "from pyspark.sql.functions import col, udf, array_join, split, shuffle, rand\n",
    "from pyspark.ml.feature import StopWordsRemover, Tokenizer\n",
    "from pyspark.ml.functions import array_to_vector\n",
    "from pyspark.ml.classification import LogisticRegression, LinearSVC, DecisionTreeClassifier, RandomForestClassifier, GBTClassifier, MultilayerPerceptronClassifier\n",
    "from nltk.stem import WordNetLemmatizer\n",
    "from nltk.sentiment.vader import SentimentIntensityAnalyzer\n",
    "from imblearn.over_sampling import SMOTE\n",
    "import numpy as np\n",
    "import pandas as pd\n",
    "from gensim.models import Word2Vec, FastText\n",
    "import matplotlib.pyplot as plt"
   ]
  },
  {
   "cell_type": "code",
   "execution_count": 0,
   "metadata": {
    "application/vnd.databricks.v1+cell": {
     "cellMetadata": {
      "byteLimit": 2048000,
      "rowLimit": 10000
     },
     "inputWidgets": {},
     "nuid": "d3f1b979-e65b-40cb-ab31-2ebad07c84df",
     "showTitle": false,
     "title": ""
    }
   },
   "outputs": [
    {
     "output_type": "stream",
     "name": "stderr",
     "output_type": "stream",
     "text": [
      "[nltk_data] Downloading collection 'all'\n[nltk_data]    | \n[nltk_data]    | Downloading package abc to /root/nltk_data...\n[nltk_data]    |   Unzipping corpora/abc.zip.\n[nltk_data]    | Downloading package alpino to /root/nltk_data...\n[nltk_data]    |   Unzipping corpora/alpino.zip.\n[nltk_data]    | Downloading package averaged_perceptron_tagger to\n[nltk_data]    |     /root/nltk_data...\n[nltk_data]    |   Unzipping taggers/averaged_perceptron_tagger.zip.\n[nltk_data]    | Downloading package averaged_perceptron_tagger_ru to\n[nltk_data]    |     /root/nltk_data...\n[nltk_data]    |   Unzipping\n[nltk_data]    |       taggers/averaged_perceptron_tagger_ru.zip.\n[nltk_data]    | Downloading package basque_grammars to\n[nltk_data]    |     /root/nltk_data...\n[nltk_data]    |   Unzipping grammars/basque_grammars.zip.\n[nltk_data]    | Downloading package bcp47 to /root/nltk_data...\n[nltk_data]    | Downloading package biocreative_ppi to\n[nltk_data]    |     /root/nltk_data...\n[nltk_data]    |   Unzipping corpora/biocreative_ppi.zip.\n[nltk_data]    | Downloading package bllip_wsj_no_aux to\n[nltk_data]    |     /root/nltk_data...\n[nltk_data]    |   Unzipping models/bllip_wsj_no_aux.zip.\n[nltk_data]    | Downloading package book_grammars to\n[nltk_data]    |     /root/nltk_data...\n[nltk_data]    |   Unzipping grammars/book_grammars.zip.\n[nltk_data]    | Downloading package brown to /root/nltk_data...\n[nltk_data]    |   Unzipping corpora/brown.zip.\n[nltk_data]    | Downloading package brown_tei to /root/nltk_data...\n[nltk_data]    |   Unzipping corpora/brown_tei.zip.\n[nltk_data]    | Downloading package cess_cat to /root/nltk_data...\n[nltk_data]    |   Unzipping corpora/cess_cat.zip.\n[nltk_data]    | Downloading package cess_esp to /root/nltk_data...\n[nltk_data]    |   Unzipping corpora/cess_esp.zip.\n[nltk_data]    | Downloading package chat80 to /root/nltk_data...\n[nltk_data]    |   Unzipping corpora/chat80.zip.\n[nltk_data]    | Downloading package city_database to\n[nltk_data]    |     /root/nltk_data...\n[nltk_data]    |   Unzipping corpora/city_database.zip.\n[nltk_data]    | Downloading package cmudict to /root/nltk_data...\n[nltk_data]    |   Unzipping corpora/cmudict.zip.\n[nltk_data]    | Downloading package comparative_sentences to\n[nltk_data]    |     /root/nltk_data...\n[nltk_data]    |   Unzipping corpora/comparative_sentences.zip.\n[nltk_data]    | Downloading package comtrans to /root/nltk_data...\n[nltk_data]    | Downloading package conll2000 to /root/nltk_data...\n[nltk_data]    |   Unzipping corpora/conll2000.zip.\n[nltk_data]    | Downloading package conll2002 to /root/nltk_data...\n[nltk_data]    |   Unzipping corpora/conll2002.zip.\n[nltk_data]    | Downloading package conll2007 to /root/nltk_data...\n[nltk_data]    | Downloading package crubadan to /root/nltk_data...\n[nltk_data]    |   Unzipping corpora/crubadan.zip.\n[nltk_data]    | Downloading package dependency_treebank to\n[nltk_data]    |     /root/nltk_data...\n[nltk_data]    |   Unzipping corpora/dependency_treebank.zip.\n[nltk_data]    | Downloading package dolch to /root/nltk_data...\n[nltk_data]    |   Unzipping corpora/dolch.zip.\n[nltk_data]    | Downloading package europarl_raw to\n[nltk_data]    |     /root/nltk_data...\n[nltk_data]    |   Unzipping corpora/europarl_raw.zip.\n[nltk_data]    | Downloading package extended_omw to\n[nltk_data]    |     /root/nltk_data...\n[nltk_data]    | Downloading package floresta to /root/nltk_data...\n[nltk_data]    |   Unzipping corpora/floresta.zip.\n[nltk_data]    | Downloading package framenet_v15 to\n[nltk_data]    |     /root/nltk_data...\n[nltk_data]    |   Unzipping corpora/framenet_v15.zip.\n[nltk_data]    | Downloading package framenet_v17 to\n[nltk_data]    |     /root/nltk_data...\n[nltk_data]    |   Unzipping corpora/framenet_v17.zip.\n[nltk_data]    | Downloading package gazetteers to /root/nltk_data...\n[nltk_data]    |   Unzipping corpora/gazetteers.zip.\n[nltk_data]    | Downloading package genesis to /root/nltk_data...\n[nltk_data]    |   Unzipping corpora/genesis.zip.\n[nltk_data]    | Downloading package gutenberg to /root/nltk_data...\n[nltk_data]    |   Unzipping corpora/gutenberg.zip.\n[nltk_data]    | Downloading package ieer to /root/nltk_data...\n[nltk_data]    |   Unzipping corpora/ieer.zip.\n[nltk_data]    | Downloading package inaugural to /root/nltk_data...\n[nltk_data]    |   Unzipping corpora/inaugural.zip.\n[nltk_data]    | Downloading package indian to /root/nltk_data...\n[nltk_data]    |   Unzipping corpora/indian.zip.\n[nltk_data]    | Downloading package jeita to /root/nltk_data...\n[nltk_data]    | Downloading package kimmo to /root/nltk_data...\n[nltk_data]    |   Unzipping corpora/kimmo.zip.\n[nltk_data]    | Downloading package knbc to /root/nltk_data...\n[nltk_data]    | Downloading package large_grammars to\n[nltk_data]    |     /root/nltk_data...\n[nltk_data]    |   Unzipping grammars/large_grammars.zip.\n[nltk_data]    | Downloading package lin_thesaurus to\n[nltk_data]    |     /root/nltk_data...\n[nltk_data]    |   Unzipping corpora/lin_thesaurus.zip.\n[nltk_data]    | Downloading package mac_morpho to /root/nltk_data...\n[nltk_data]    |   Unzipping corpora/mac_morpho.zip.\n[nltk_data]    | Downloading package machado to /root/nltk_data...\n[nltk_data]    | Downloading package masc_tagged to /root/nltk_data...\n[nltk_data]    | Downloading package maxent_ne_chunker to\n[nltk_data]    |     /root/nltk_data...\n[nltk_data]    |   Unzipping chunkers/maxent_ne_chunker.zip.\n[nltk_data]    | Downloading package maxent_treebank_pos_tagger to\n[nltk_data]    |     /root/nltk_data...\n[nltk_data]    |   Unzipping taggers/maxent_treebank_pos_tagger.zip.\n[nltk_data]    | Downloading package moses_sample to\n[nltk_data]    |     /root/nltk_data...\n[nltk_data]    |   Unzipping models/moses_sample.zip.\n[nltk_data]    | Downloading package movie_reviews to\n[nltk_data]    |     /root/nltk_data...\n[nltk_data]    |   Unzipping corpora/movie_reviews.zip.\n[nltk_data]    | Downloading package mte_teip5 to /root/nltk_data...\n[nltk_data]    |   Unzipping corpora/mte_teip5.zip.\n[nltk_data]    | Downloading package mwa_ppdb to /root/nltk_data...\n[nltk_data]    |   Unzipping misc/mwa_ppdb.zip.\n[nltk_data]    | Downloading package names to /root/nltk_data...\n[nltk_data]    |   Unzipping corpora/names.zip.\n[nltk_data]    | Downloading package nombank.1.0 to /root/nltk_data...\n[nltk_data]    | Downloading package nonbreaking_prefixes to\n[nltk_data]    |     /root/nltk_data...\n[nltk_data]    |   Unzipping corpora/nonbreaking_prefixes.zip.\n[nltk_data]    | Downloading package nps_chat to /root/nltk_data...\n[nltk_data]    |   Unzipping corpora/nps_chat.zip.\n[nltk_data]    | Downloading package omw to /root/nltk_data...\n[nltk_data]    | Downloading package omw-1.4 to /root/nltk_data...\n[nltk_data]    | Downloading package opinion_lexicon to\n[nltk_data]    |     /root/nltk_data...\n[nltk_data]    |   Unzipping corpora/opinion_lexicon.zip.\n[nltk_data]    | Downloading package panlex_swadesh to\n[nltk_data]    |     /root/nltk_data...\n[nltk_data]    | Downloading package paradigms to /root/nltk_data...\n[nltk_data]    |   Unzipping corpora/paradigms.zip.\n[nltk_data]    | Downloading package pe08 to /root/nltk_data...\n[nltk_data]    |   Unzipping corpora/pe08.zip.\n[nltk_data]    | Downloading package perluniprops to\n[nltk_data]    |     /root/nltk_data...\n[nltk_data]    |   Unzipping misc/perluniprops.zip.\n[nltk_data]    | Downloading package pil to /root/nltk_data...\n[nltk_data]    |   Unzipping corpora/pil.zip.\n[nltk_data]    | Downloading package pl196x to /root/nltk_data...\n[nltk_data]    |   Unzipping corpora/pl196x.zip.\n[nltk_data]    | Downloading package porter_test to /root/nltk_data...\n[nltk_data]    |   Unzipping stemmers/porter_test.zip.\n[nltk_data]    | Downloading package ppattach to /root/nltk_data...\n[nltk_data]    |   Unzipping corpora/ppattach.zip.\n[nltk_data]    | Downloading package problem_reports to\n[nltk_data]    |     /root/nltk_data...\n[nltk_data]    |   Unzipping corpora/problem_reports.zip.\n[nltk_data]    | Downloading package product_reviews_1 to\n[nltk_data]    |     /root/nltk_data...\n[nltk_data]    |   Unzipping corpora/product_reviews_1.zip.\n[nltk_data]    | Downloading package product_reviews_2 to\n[nltk_data]    |     /root/nltk_data...\n[nltk_data]    |   Unzipping corpora/product_reviews_2.zip.\n[nltk_data]    | Downloading package propbank to /root/nltk_data...\n[nltk_data]    | Downloading package pros_cons to /root/nltk_data...\n[nltk_data]    |   Unzipping corpora/pros_cons.zip.\n[nltk_data]    | Downloading package ptb to /root/nltk_data...\n[nltk_data]    |   Unzipping corpora/ptb.zip.\n[nltk_data]    | Downloading package punkt to /root/nltk_data...\n[nltk_data]    |   Unzipping tokenizers/punkt.zip.\n[nltk_data]    | Downloading package qc to /root/nltk_data...\n[nltk_data]    |   Unzipping corpora/qc.zip.\n[nltk_data]    | Downloading package reuters to /root/nltk_data...\n[nltk_data]    | Downloading package rslp to /root/nltk_data...\n[nltk_data]    |   Unzipping stemmers/rslp.zip.\n[nltk_data]    | Downloading package rte to /root/nltk_data...\n[nltk_data]    |   Unzipping corpora/rte.zip.\n[nltk_data]    | Downloading package sample_grammars to\n[nltk_data]    |     /root/nltk_data...\n[nltk_data]    |   Unzipping grammars/sample_grammars.zip.\n[nltk_data]    | Downloading package semcor to /root/nltk_data...\n[nltk_data]    | Downloading package senseval to /root/nltk_data...\n[nltk_data]    |   Unzipping corpora/senseval.zip.\n[nltk_data]    | Downloading package sentence_polarity to\n[nltk_data]    |     /root/nltk_data...\n[nltk_data]    |   Unzipping corpora/sentence_polarity.zip.\n[nltk_data]    | Downloading package sentiwordnet to\n[nltk_data]    |     /root/nltk_data...\n[nltk_data]    |   Unzipping corpora/sentiwordnet.zip.\n[nltk_data]    | Downloading package shakespeare to /root/nltk_data...\n[nltk_data]    |   Unzipping corpora/shakespeare.zip.\n[nltk_data]    | Downloading package sinica_treebank to\n[nltk_data]    |     /root/nltk_data...\n[nltk_data]    |   Unzipping corpora/sinica_treebank.zip.\n[nltk_data]    | Downloading package smultron to /root/nltk_data...\n[nltk_data]    |   Unzipping corpora/smultron.zip.\n[nltk_data]    | Downloading package snowball_data to\n[nltk_data]    |     /root/nltk_data...\n[nltk_data]    | Downloading package spanish_grammars to\n[nltk_data]    |     /root/nltk_data...\n[nltk_data]    |   Unzipping grammars/spanish_grammars.zip.\n[nltk_data]    | Downloading package state_union to /root/nltk_data...\n[nltk_data]    |   Unzipping corpora/state_union.zip.\n[nltk_data]    | Downloading package stopwords to /root/nltk_data...\n[nltk_data]    |   Unzipping corpora/stopwords.zip.\n[nltk_data]    | Downloading package subjectivity to\n[nltk_data]    |     /root/nltk_data...\n[nltk_data]    |   Unzipping corpora/subjectivity.zip.\n[nltk_data]    | Downloading package swadesh to /root/nltk_data...\n[nltk_data]    |   Unzipping corpora/swadesh.zip.\n[nltk_data]    | Downloading package switchboard to /root/nltk_data...\n[nltk_data]    |   Unzipping corpora/switchboard.zip.\n[nltk_data]    | Downloading package tagsets to /root/nltk_data...\n[nltk_data]    |   Unzipping help/tagsets.zip.\n[nltk_data]    | Downloading package timit to /root/nltk_data...\n[nltk_data]    |   Unzipping corpora/timit.zip.\n[nltk_data]    | Downloading package toolbox to /root/nltk_data...\n[nltk_data]    |   Unzipping corpora/toolbox.zip.\n[nltk_data]    | Downloading package treebank to /root/nltk_data...\n[nltk_data]    |   Unzipping corpora/treebank.zip.\n[nltk_data]    | Downloading package twitter_samples to\n[nltk_data]    |     /root/nltk_data...\n[nltk_data]    |   Unzipping corpora/twitter_samples.zip.\n[nltk_data]    | Downloading package udhr to /root/nltk_data...\n[nltk_data]    |   Unzipping corpora/udhr.zip.\n[nltk_data]    | Downloading package udhr2 to /root/nltk_data...\n[nltk_data]    |   Unzipping corpora/udhr2.zip.\n[nltk_data]    | Downloading package unicode_samples to\n[nltk_data]    |     /root/nltk_data...\n[nltk_data]    |   Unzipping corpora/unicode_samples.zip.\n[nltk_data]    | Downloading package universal_tagset to\n[nltk_data]    |     /root/nltk_data...\n[nltk_data]    |   Unzipping taggers/universal_tagset.zip.\n[nltk_data]    | Downloading package universal_treebanks_v20 to\n[nltk_data]    |     /root/nltk_data...\n[nltk_data]    | Downloading package vader_lexicon to\n[nltk_data]    |     /root/nltk_data...\n[nltk_data]    | Downloading package verbnet to /root/nltk_data...\n[nltk_data]    |   Unzipping corpora/verbnet.zip.\n[nltk_data]    | Downloading package verbnet3 to /root/nltk_data...\n[nltk_data]    |   Unzipping corpora/verbnet3.zip.\n[nltk_data]    | Downloading package webtext to /root/nltk_data...\n[nltk_data]    |   Unzipping corpora/webtext.zip.\n[nltk_data]    | Downloading package wmt15_eval to /root/nltk_data...\n[nltk_data]    |   Unzipping models/wmt15_eval.zip.\n[nltk_data]    | Downloading package word2vec_sample to\n[nltk_data]    |     /root/nltk_data...\n[nltk_data]    |   Unzipping models/word2vec_sample.zip.\n[nltk_data]    | Downloading package wordnet to /root/nltk_data...\n[nltk_data]    | Downloading package wordnet2021 to /root/nltk_data...\n[nltk_data]    | Downloading package wordnet2022 to /root/nltk_data...\n[nltk_data]    |   Unzipping corpora/wordnet2022.zip.\n[nltk_data]    | Downloading package wordnet31 to /root/nltk_data...\n[nltk_data]    | Downloading package wordnet_ic to /root/nltk_data...\n[nltk_data]    |   Unzipping corpora/wordnet_ic.zip.\n[nltk_data]    | Downloading package words to /root/nltk_data...\n[nltk_data]    |   Unzipping corpora/words.zip.\n[nltk_data]    | Downloading package ycoe to /root/nltk_data...\n[nltk_data]    |   Unzipping corpora/ycoe.zip.\n[nltk_data]    | \n[nltk_data]  Done downloading collection all\n"
     ]
    },
    {
     "output_type": "stream",
     "name": "stdout",
     "output_type": "stream",
     "text": [
      "Out[2]: True"
     ]
    }
   ],
   "source": [
    "import nltk\n",
    "\n",
    "nltk.download('all')"
   ]
  },
  {
   "cell_type": "code",
   "execution_count": 0,
   "metadata": {
    "application/vnd.databricks.v1+cell": {
     "cellMetadata": {
      "byteLimit": 2048000,
      "rowLimit": 10000
     },
     "inputWidgets": {},
     "nuid": "6482be4c-f067-47c9-b0ac-35c938b94601",
     "showTitle": false,
     "title": ""
    }
   },
   "outputs": [],
   "source": [
    "# File location and type\n",
    "file_location = \"/FileStore/tables/movie_reviews.csv\"\n",
    "file_type = \"csv\"\n",
    "\n",
    "# CSV options\n",
    "infer_schema = \"true\"\n",
    "first_row_is_header = \"true\"\n",
    "delimiter = \",\"\n",
    "\n",
    "# The applied options are for CSV files. For other file types, these will be ignored.\n",
    "df = spark.read.format(file_type) \\\n",
    "  .option(\"inferSchema\", infer_schema) \\\n",
    "  .option(\"header\", first_row_is_header) \\\n",
    "  .option(\"sep\", delimiter) \\\n",
    "  .load(file_location)"
   ]
  },
  {
   "cell_type": "code",
   "execution_count": 0,
   "metadata": {
    "application/vnd.databricks.v1+cell": {
     "cellMetadata": {
      "byteLimit": 2048000,
      "rowLimit": 10000
     },
     "inputWidgets": {},
     "nuid": "ff4b4806-04bb-486c-bd95-5a341e47144d",
     "showTitle": false,
     "title": ""
    }
   },
   "outputs": [
    {
     "output_type": "stream",
     "name": "stdout",
     "output_type": "stream",
     "text": [
      "+--------------------+--------------------+--------------------+\n|                name|             reviews|             ratings|\n+--------------------+--------------------+--------------------+\n|      21 Jump Street|I thoroughly enjo...|                 4.5|\n|      21 Jump Street|A great work of c...|                 4.0|\n|      21 Jump Street|Infantile. Cringe...|                 0.5|\n|      21 Jump Street|A classic in mode...|                 5.0|\n|      21 Jump Street|LOL, the funniest...|                 5.0|\n|      21 Jump Street|Absolutely hilari...|                 5.0|\n|      21 Jump Street|Absolutely hilari...|                 4.5|\n|      21 Jump Street|Great self-aware ...|                 4.0|\n|      21 Jump Street|Wasn't sure how a...|                null|\n|One of 2012's bes...|                 4.0|                null|\n|      21 Jump Street|Very funny movie,...|                 4.5|\n|      21 Jump Street|Instant classic. ...|                 4.0|\n|      21 Jump Street|\"Super fun, it wo...| and I love those...|\n|      21 Jump Street|LOL, the funniest...|                 5.0|\n|      21 Jump Street|THEY THOUGHT THE ...|                null|\n|21 Jump Street is...|                null|                null|\n|                 Meh| it passed the ti...|                null|\n|            Just. 😐|                null|                null|\n|            👍🏼👎🏼|                null|                null|\n|      In high school| Schmidt was a do...| both of them joi...|\n+--------------------+--------------------+--------------------+\nonly showing top 20 rows\n\n"
     ]
    }
   ],
   "source": [
    "df.show()"
   ]
  },
  {
   "cell_type": "code",
   "execution_count": 0,
   "metadata": {
    "application/vnd.databricks.v1+cell": {
     "cellMetadata": {
      "byteLimit": 2048000,
      "rowLimit": 10000
     },
     "inputWidgets": {},
     "nuid": "0598c383-1cdb-4dee-a36c-3e2ee3bf4a50",
     "showTitle": false,
     "title": ""
    }
   },
   "outputs": [
    {
     "output_type": "stream",
     "name": "stdout",
     "output_type": "stream",
     "text": [
      "root\n |-- name: string (nullable = true)\n |-- reviews: string (nullable = true)\n |-- ratings: string (nullable = true)\n\n"
     ]
    }
   ],
   "source": [
    "df.printSchema()"
   ]
  },
  {
   "cell_type": "code",
   "execution_count": 0,
   "metadata": {
    "application/vnd.databricks.v1+cell": {
     "cellMetadata": {
      "byteLimit": 2048000,
      "rowLimit": 10000
     },
     "inputWidgets": {},
     "nuid": "f1c37cfb-dcb9-4854-8b05-04ea81f7bbde",
     "showTitle": false,
     "title": ""
    }
   },
   "outputs": [],
   "source": [
    "df.count()"
   ]
  },
  {
   "cell_type": "markdown",
   "metadata": {
    "application/vnd.databricks.v1+cell": {
     "cellMetadata": {},
     "inputWidgets": {},
     "nuid": "6ccecf08-d5f3-40c8-84bb-06e438abae9c",
     "showTitle": false,
     "title": ""
    }
   },
   "source": [
    "#### Data Cleaning"
   ]
  },
  {
   "cell_type": "code",
   "execution_count": 0,
   "metadata": {
    "application/vnd.databricks.v1+cell": {
     "cellMetadata": {
      "byteLimit": 2048000,
      "rowLimit": 10000
     },
     "inputWidgets": {},
     "nuid": "3470aa15-f77b-425c-8962-2b1a4495741f",
     "showTitle": false,
     "title": ""
    }
   },
   "outputs": [
    {
     "output_type": "stream",
     "name": "stdout",
     "output_type": "stream",
     "text": [
      "Out[21]: 1271"
     ]
    }
   ],
   "source": [
    "df = df.withColumn('cleaned_rating', df['ratings'].cast(\"double\")).drop('ratings')\n",
    "df = df.filter( (df.cleaned_rating.isNotNull()) & (df.cleaned_rating<5.1) & (df.cleaned_rating>-0.1) )\n",
    "df = df.select(df.reviews, df.cleaned_rating)\n",
    "df.count()"
   ]
  },
  {
   "cell_type": "code",
   "execution_count": 0,
   "metadata": {
    "application/vnd.databricks.v1+cell": {
     "cellMetadata": {
      "byteLimit": 2048000,
      "rowLimit": 10000
     },
     "inputWidgets": {},
     "nuid": "a129cc8c-62de-429e-ab0c-56777d163120",
     "showTitle": false,
     "title": ""
    }
   },
   "outputs": [
    {
     "output_type": "display_data",
     "data": {
      "image/png": "[encoded data removed]"
     },
     "metadata": {
      "application/vnd.databricks.v1+output": {
       "addedWidgets": {},
       "arguments": {},
       "data": "data:image/png;base64,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\n",
       "datasetInfos": [],
       "metadata": {},
       "removedWidgets": [],
       "type": "image"
      }
     },
     "output_type": "display_data"
    }
   ],
   "source": [
    "rating_count = df.groupBy(\"cleaned_rating\").count().orderBy('cleaned_rating')\n",
    "plt.bar(rating_count.rdd.map(lambda x:x['cleaned_rating']).collect(), rating_count.rdd.map(lambda x:x['count']).collect())\n",
    "plt.title(\"Ratings distribution\",)\n",
    "plt.show()"
   ]
  },
  {
   "cell_type": "code",
   "execution_count": 0,
   "metadata": {
    "application/vnd.databricks.v1+cell": {
     "cellMetadata": {
      "byteLimit": 2048000,
      "rowLimit": 10000
     },
     "inputWidgets": {},
     "nuid": "c46fda92-9768-4e2a-8eac-1cec755d8217",
     "showTitle": false,
     "title": ""
    }
   },
   "outputs": [],
   "source": [
    "@udf\n",
    "def lower_clean_str(x):\n",
    "  punc='!\"#$%&\\'()*+,-./:;<=>?@[\\\\]^_`{|}~'\n",
    "  lowercased_str = x.lower()\n",
    "  for ch in punc:\n",
    "    lowercased_str = lowercased_str.replace(ch, '')\n",
    "  return lowercased_str\n",
    "\n",
    "df = df.withColumn('cleaned_review', lower_clean_str(df[\"reviews\"])).drop('reviews')"
   ]
  },
  {
   "cell_type": "markdown",
   "metadata": {
    "application/vnd.databricks.v1+cell": {
     "cellMetadata": {},
     "inputWidgets": {},
     "nuid": "eef2b61c-03d1-4011-8cbd-6fac6ad76a2b",
     "showTitle": false,
     "title": ""
    }
   },
   "source": [
    "#### Calculate Sentiment Score and Assign Label"
   ]
  },
  {
   "cell_type": "code",
   "execution_count": 0,
   "metadata": {
    "application/vnd.databricks.v1+cell": {
     "cellMetadata": {
      "byteLimit": 2048000,
      "rowLimit": 10000
     },
     "inputWidgets": {},
     "nuid": "fe4b4916-317d-4059-9369-045d2179f049",
     "showTitle": false,
     "title": ""
    }
   },
   "outputs": [
    {
     "output_type": "stream",
     "name": "stdout",
     "output_type": "stream",
     "text": [
      "+--------------+--------------------+-----------+\n|cleaned_rating|      cleaned_review|fake_review|\n+--------------+--------------------+-----------+\n|           4.5|i thoroughly enjo...|          0|\n|           4.0|a great work of c...|          0|\n|           0.5|infantile cringew...|          0|\n|           5.0|a classic in mode...|          0|\n|           5.0|lol the funniest ...|          0|\n|           5.0|absolutely hilari...|          0|\n|           4.5|absolutely hilari...|          0|\n|           4.0|great selfaware a...|          0|\n|           4.5|very funny movie ...|          0|\n|           4.0|instant classic i...|          0|\n|           5.0|lol the funniest ...|          0|\n|           0.5|they changed my b...|          0|\n|           5.0|best movie of tgu...|          0|\n|           5.0|thank you jonah f...|          0|\n|           5.0|amazing movie fan...|          0|\n|           3.5|2nd watch 67 defi...|          1|\n|           3.5|21 jump street is...|          1|\n|           4.0|this movie is so ...|          0|\n|           5.0|there is so much ...|          0|\n|           1.0|childish and moro...|          1|\n+--------------+--------------------+-----------+\nonly showing top 20 rows\n\n"
     ]
    }
   ],
   "source": [
    "# Create sentiment score\n",
    "\n",
    "analyzer = SentimentIntensityAnalyzer()\n",
    "@udf\n",
    "def fake_review(text, ratings):\n",
    "    scores = analyzer.polarity_scores(text)\n",
    "    if scores['pos'] > 0 and ratings<4:\n",
    "        return 1\n",
    "    elif scores['pos'] < 0 and ratings>=4:\n",
    "        return 1\n",
    "    return 0\n",
    "\n",
    "df = df.withColumn('fake_review', fake_review(df[\"cleaned_review\"], df['cleaned_rating']))\n",
    "df = df.withColumn('fake_review',df['fake_review'].cast('int'))\n",
    "df.show()"
   ]
  },
  {
   "cell_type": "code",
   "execution_count": 0,
   "metadata": {
    "application/vnd.databricks.v1+cell": {
     "cellMetadata": {
      "byteLimit": 2048000,
      "rowLimit": 10000
     },
     "inputWidgets": {},
     "nuid": "a4eee73b-6a4d-4703-bdc4-e2fdaf2845fa",
     "showTitle": false,
     "title": ""
    }
   },
   "outputs": [],
   "source": [
    "df.printSchema()"
   ]
  },
  {
   "cell_type": "code",
   "execution_count": 0,
   "metadata": {
    "application/vnd.databricks.v1+cell": {
     "cellMetadata": {
      "byteLimit": 2048000,
      "rowLimit": 10000
     },
     "inputWidgets": {},
     "nuid": "552df317-d9de-4e4a-8699-79f69f369b23",
     "showTitle": false,
     "title": ""
    }
   },
   "outputs": [],
   "source": [
    "rating_count = df.groupBy(\"fake_review\").count().orderBy('fake_review')\n",
    "plt.figure(figsize =(4, 4))\n",
    "plt.bar(rating_count.rdd.map(lambda x:x['fake_review']).collect(), rating_count.rdd.map(lambda x:x['count']).collect())\n",
    "plt.title(\"Ratings distribution\",)\n",
    "plt.ylabel('Count')\n",
    "plt.xlabel('Fake Review')\n",
    "plt.xticks(rating_count.rdd.map(lambda x:x['fake_review']).collect(), labels=['False', 'True'])\n",
    "\n",
    "plt.show()"
   ]
  },
  {
   "cell_type": "code",
   "execution_count": 0,
   "metadata": {
    "application/vnd.databricks.v1+cell": {
     "cellMetadata": {
      "byteLimit": 2048000,
      "rowLimit": 10000
     },
     "inputWidgets": {},
     "nuid": "aa49d12e-92e4-4abf-83a3-7837aecb5f48",
     "showTitle": false,
     "title": ""
    }
   },
   "outputs": [],
   "source": [
    "df.filter(df['fake_review']==1).count()/df.count()"
   ]
  },
  {
   "cell_type": "markdown",
   "metadata": {
    "application/vnd.databricks.v1+cell": {
     "cellMetadata": {},
     "inputWidgets": {},
     "nuid": "75bfae6e-442a-4457-857f-6496b2683877",
     "showTitle": false,
     "title": ""
    }
   },
   "source": [
    "#### Text Preprocessing\n",
    "1. Tokenize\n",
    "2. Lemmatize\n",
    "3. Remove Stopwords"
   ]
  },
  {
   "cell_type": "code",
   "execution_count": 0,
   "metadata": {
    "application/vnd.databricks.v1+cell": {
     "cellMetadata": {
      "byteLimit": 2048000,
      "rowLimit": 10000
     },
     "inputWidgets": {},
     "nuid": "122bd3cf-9d3f-482a-a006-318bfa0a0387",
     "showTitle": false,
     "title": ""
    }
   },
   "outputs": [],
   "source": [
    "# Tokenize\n",
    "tokenizer = Tokenizer(inputCol=\"cleaned_review\", outputCol=\"tokens\")\n",
    "df = tokenizer.transform(df)"
   ]
  },
  {
   "cell_type": "code",
   "execution_count": 0,
   "metadata": {
    "application/vnd.databricks.v1+cell": {
     "cellMetadata": {
      "byteLimit": 2048000,
      "rowLimit": 10000
     },
     "inputWidgets": {},
     "nuid": "f097d98f-41f8-4fb9-af01-b79deb8fbde3",
     "showTitle": false,
     "title": ""
    }
   },
   "outputs": [],
   "source": [
    "# Lemmatize\n",
    "lemmatizer = WordNetLemmatizer()\n",
    "@udf\n",
    "def lemmatize_tokens(tokens):\n",
    "    lemmatized_tokens = ' '.join([lemmatizer.lemmatize(token) for token in tokens])\n",
    "    return lemmatized_tokens\n",
    "\n",
    "df = df.withColumn('lemmatized_tokens', lemmatize_tokens(df[\"tokens\"]))\n",
    "tokenizer2 = Tokenizer(inputCol=\"lemmatized_tokens\", outputCol=\"lemmatized_tokens_array\")\n",
    "df = tokenizer2.transform(df)"
   ]
  },
  {
   "cell_type": "code",
   "execution_count": 0,
   "metadata": {
    "application/vnd.databricks.v1+cell": {
     "cellMetadata": {
      "byteLimit": 2048000,
      "rowLimit": 10000
     },
     "inputWidgets": {},
     "nuid": "88f13f48-bf04-4453-ab73-d95ada8b9a90",
     "showTitle": false,
     "title": ""
    }
   },
   "outputs": [],
   "source": [
    "# remove stopwords\n",
    "\n",
    "stop = StopWordsRemover.loadDefaultStopWords(\"english\")\n",
    "remover = StopWordsRemover(stopWords=stop, inputCol=\"lemmatized_tokens_array\", outputCol=\"clean_review\")\n",
    "\n",
    "df = remover.transform(df)"
   ]
  },
  {
   "cell_type": "code",
   "execution_count": 0,
   "metadata": {
    "application/vnd.databricks.v1+cell": {
     "cellMetadata": {
      "byteLimit": 2048000,
      "rowLimit": 10000
     },
     "inputWidgets": {},
     "nuid": "68ef1a1b-b9e2-45f4-8512-f608378a8ed9",
     "showTitle": false,
     "title": ""
    }
   },
   "outputs": [],
   "source": [
    "df.show()"
   ]
  },
  {
   "cell_type": "markdown",
   "metadata": {
    "application/vnd.databricks.v1+cell": {
     "cellMetadata": {},
     "inputWidgets": {},
     "nuid": "73446c18-3c4d-448e-9b19-2d569df2ca47",
     "showTitle": false,
     "title": ""
    }
   },
   "source": [
    "####Embedding Word2Vec"
   ]
  },
  {
   "cell_type": "code",
   "execution_count": 0,
   "metadata": {
    "application/vnd.databricks.v1+cell": {
     "cellMetadata": {
      "byteLimit": 2048000,
      "rowLimit": 10000
     },
     "inputWidgets": {},
     "nuid": "51991abb-e3cf-4c1a-80f5-ee538903e28a",
     "showTitle": false,
     "title": ""
    }
   },
   "outputs": [],
   "source": [
    "# Convert PySpark DataFrame to a Gensim-friendly format\n",
    "documents = df.rdd.map(lambda r: r[\"clean_review\"]).collect()\n",
    "\n",
    "# Train a Gensim Word2Vec model\n",
    "model = Word2Vec(sentences=documents, vector_size=100, window=5, min_count=1, sg=1)"
   ]
  },
  {
   "cell_type": "code",
   "execution_count": 0,
   "metadata": {
    "application/vnd.databricks.v1+cell": {
     "cellMetadata": {
      "byteLimit": 2048000,
      "rowLimit": 10000
     },
     "inputWidgets": {},
     "nuid": "a2e13b23-227d-4b4e-96d8-f199bc8e0164",
     "showTitle": false,
     "title": ""
    }
   },
   "outputs": [
    {
     "output_type": "stream",
     "name": "stdout",
     "output_type": "stream",
     "text": [
      "Out[28]: [array([-5.44330895e-01,  4.94225693e+00,  2.55627990e+00,  6.07336402e-01,\n        -7.49432743e-01, -7.95794058e+00,  5.03462839e+00,  1.75996037e+01,\n        -4.62308216e+00, -3.84584475e+00, -1.44509327e+00, -1.32723417e+01,\n        -5.86642456e+00,  3.07933927e+00,  1.02590311e+00, -4.36142397e+00,\n         1.67767477e+00, -4.93789864e+00,  3.13518904e-02, -1.54306755e+01,\n         7.06079245e+00,  1.41630423e+00,  9.87149048e+00, -2.14862156e+00,\n        -1.34036720e-01,  3.44429064e+00, -6.10471678e+00, -3.53138185e+00,\n        -3.55830860e+00,  2.42722845e+00,  8.11555386e+00,  4.08392906e+00,\n         4.01602030e+00, -1.12414398e+01, -4.01437616e+00,  1.66197491e+00,\n         6.14241898e-01, -9.44847488e+00, -3.00501251e+00, -1.39607487e+01,\n        -8.78161751e-03, -6.03014517e+00, -2.79167581e+00, -2.48543334e+00,\n         5.76494455e+00, -5.98971558e+00, -1.88748968e+00,  2.19304752e+00,\n         4.84468699e+00,  3.66368365e+00,  3.49957943e+00, -1.13278742e+01,\n        -4.18209171e+00, -2.24186659e+00, -4.01313543e+00,  2.12673020e+00,\n         6.68551636e+00, -2.50408578e+00, -6.48844814e+00,  3.48532271e+00,\n         2.62481618e+00, -1.67664337e+00,  1.36682153e+00, -6.35569036e-01,\n        -3.44275427e+00,  9.34030533e+00,  4.74300098e+00,  3.81659961e+00,\n        -9.45595074e+00,  1.21871023e+01,  1.33813024e-02,  6.54940414e+00,\n         7.63062096e+00, -1.19324362e+00,  6.02126265e+00,  5.74599171e+00,\n        -6.15708888e-01,  1.25388002e+00, -8.42085171e+00,  2.19753957e+00,\n        -5.16611195e+00, -1.71121225e-01, -8.20700073e+00,  1.05785942e+01,\n        -9.06436980e-01,  5.57651997e-01,  1.56370485e+00,  5.08981943e+00,\n         5.70916557e+00,  4.03088522e+00,  6.17139482e+00,  2.23698235e+00,\n         3.64928579e+00, -4.21175092e-01,  1.13748541e+01,  6.95722342e+00,\n         7.14230686e-02, -8.12708950e+00, -2.70561433e+00, -2.10609674e-01],\n       dtype=float32),\n array([-0.38411328,  2.0250607 ,  1.0441111 ,  0.21521124, -0.1835346 ,\n        -3.0796397 ,  2.0895343 ,  6.9374275 , -1.7974772 , -1.5562831 ,\n        -0.5991066 , -5.2270885 , -2.3217466 ,  1.1619593 ,  0.4918109 ,\n        -1.7552272 ,  0.68172294, -1.9250929 , -0.0431278 , -6.0899878 ,\n         2.646964  ,  0.61022073,  3.9857526 , -0.90288705, -0.0471569 ,\n         1.3698032 , -2.5054777 , -1.5106367 , -1.3913451 ,  0.951858  ,\n         3.267518  ,  1.5828714 ,  1.5685284 , -4.400467  , -1.6935523 ,\n         0.65160125,  0.22835025, -3.5654986 , -1.1139491 , -5.53326   ,\n         0.04166504, -2.342053  , -1.0597714 , -1.037478  ,  2.254022  ,\n        -2.4200447 , -0.7189374 ,  0.88570833,  1.8569798 ,  1.4992392 ,\n         1.3448162 , -4.5241985 , -1.5847038 , -0.88414145, -1.6555749 ,\n         0.8108345 ,  2.5945    , -0.9542309 , -2.5220122 ,  1.437044  ,\n         1.0328258 , -0.707362  ,  0.6565491 , -0.26518086, -1.4058529 ,\n         3.6152344 ,  1.9058506 ,  1.5287161 , -3.871452  ,  4.778022  ,\n         0.0209955 ,  2.649581  ,  3.0413141 , -0.4373172 ,  2.3287525 ,\n         2.2713337 , -0.37878072,  0.50809383, -3.3793142 ,  0.89446294,\n        -2.036648  , -0.1265571 , -3.150898  ,  4.174651  , -0.3113341 ,\n         0.19620456,  0.64570266,  2.0379047 ,  2.2838845 ,  1.5774759 ,\n         2.4770987 ,  0.9106231 ,  1.5177282 , -0.17538577,  4.5603924 ,\n         2.7912068 ,  0.06648424, -3.2215085 , -1.0666729 , -0.12727876],\n       dtype=float32),\n array([-3.0307993e-03,  1.3665875e-02,  1.1825119e-03, -1.3224168e-02,\n         2.7297176e-03, -5.5883839e-03,  1.8405909e-02,  2.6678473e-02,\n        -1.5632104e-02, -1.2399152e-02, -1.5364479e-02, -3.2133345e-02,\n        -6.8391808e-03, -1.4161331e-03, -1.0443413e-02, -2.0532209e-02,\n         1.2275597e-02, -1.0143910e-02,  2.1636379e-03, -2.4439458e-02,\n         4.6128435e-03,  1.5565572e-02,  5.9348112e-03, -9.0617128e-03,\n        -4.7094366e-03,  1.7932538e-02, -1.2633079e-02,  2.3572324e-03,\n         9.1269761e-03,  4.1092560e-03,  2.2604477e-02, -4.2438414e-03,\n         1.0078618e-02, -2.0291056e-02, -1.9284699e-02, -4.3519540e-04,\n         1.7365977e-02, -1.5466109e-02, -5.9352741e-03, -2.5847800e-02,\n        -2.6435282e-03, -2.9100529e-03, -2.1035250e-02, -3.4836102e-03,\n         1.8875943e-02, -1.8474728e-02, -9.7476933e-03,  1.6382929e-02,\n         3.5499437e-03,  1.4106097e-02,  1.3571778e-02, -1.9276047e-02,\n        -2.8153835e-03, -1.5603363e-02,  2.3458563e-03,  5.3296341e-03,\n         5.2858372e-03,  5.7755532e-03, -1.0660084e-02, -2.1066866e-03,\n         4.6056854e-03,  7.3055238e-03,  9.1200583e-03, -7.9301661e-03,\n        -3.9891736e-03,  1.1101522e-02,  7.2359447e-03,  1.3810534e-02,\n        -1.1599877e-02,  1.2428345e-02,  2.2251997e-03,  2.4162145e-02,\n         8.3199712e-03, -2.9396713e-03,  2.7267728e-05,  6.5494794e-03,\n         1.3352221e-02,  4.0772134e-03, -6.3248002e-03,  1.7938532e-03,\n         3.0643747e-03, -7.3429281e-03, -2.1907968e-02,  1.4790069e-02,\n        -1.7907199e-02,  1.2515810e-02,  5.5088028e-03, -2.2783023e-03,\n        -5.0683073e-03,  7.6463623e-03,  2.4491187e-02, -7.0127975e-03,\n        -2.3910247e-03, -6.4387862e-03,  1.7419226e-02,  2.6969880e-02,\n         1.3400402e-02, -1.2219612e-02,  1.4023554e-02,  6.5525295e-04],\n       dtype=float32),\n array([-0.20882334,  1.2528846 ,  0.59988683,  0.11950574, -0.17870049,\n        -2.026535  ,  1.2324415 ,  4.4595523 , -1.2400428 , -0.9843854 ,\n        -0.42298868, -3.3290052 , -1.5685259 ,  0.7657929 ,  0.26755303,\n        -1.147024  ,  0.38351154, -1.2441958 ,  0.0232227 , -3.9201596 ,\n         1.7748945 ,  0.3793521 ,  2.5407531 , -0.52015287, -0.06087022,\n         0.8759327 , -1.5934592 , -0.8571759 , -0.93793285,  0.6589261 ,\n         2.0963423 ,  1.0445945 ,  1.0556163 , -2.9181747 , -0.9905248 ,\n         0.41203216,  0.1636338 , -2.3298502 , -0.7627779 , -3.5392973 ,\n         0.06290066, -1.5761634 , -0.7727284 , -0.6121266 ,  1.534029  ,\n        -1.5417235 , -0.51143557,  0.5525062 ,  1.242532  ,  0.92623603,\n         0.9088018 , -2.8694944 , -0.96285826, -0.57013166, -0.9675236 ,\n         0.55177385,  1.6817911 , -0.6687709 , -1.6139909 ,  0.80104315,\n         0.66281533, -0.4591169 ,  0.4101626 , -0.21014659, -0.91290665,\n         2.3835983 ,  1.234588  ,  1.0386205 , -2.466679  ,  3.123908  ,\n        -0.04600323,  1.665716  ,  1.9232534 , -0.24954967,  1.55745   ,\n         1.4886341 , -0.185302  ,  0.37345082, -2.123221  ,  0.55068237,\n        -1.3797835 , -0.09445701, -2.112928  ,  2.6765885 , -0.2508217 ,\n         0.0917386 ,  0.4492529 ,  1.33469   ,  1.4079466 ,  1.0271713 ,\n         1.6251187 ,  0.59104484,  0.89901674, -0.11751302,  2.9012878 ,\n         1.7315836 ,  0.02415817, -2.0149784 , -0.6943941 , -0.06314725],\n       dtype=float32),\n array([ 1.4703829 ,  0.26332322,  0.5421599 ,  0.80361253, -0.80471516,\n        -2.4413462 ,  1.1108437 ,  4.772793  , -1.5795398 , -0.35682744,\n         0.57383966, -3.9141917 , -1.7204294 ,  1.0184846 , -0.41621435,\n        -1.0695425 , -0.71756595, -1.705683  ,  0.06503901, -4.95404   ,\n         2.5015984 ,  1.188561  ,  2.8933785 , -0.2793156 , -0.02650628,\n         1.3271976 , -0.63843215,  0.23190272, -1.2853757 ,  0.9135629 ,\n         2.3880825 ,  0.98364687,  1.729284  , -3.2711244 , -0.25968778,\n         0.49668658,  0.00800931, -4.1125546 , -1.2237751 , -4.2385464 ,\n        -0.09271186, -2.5020657 , -1.0673519 ,  0.39621148,  1.9163313 ,\n         0.22316408, -1.6127325 ,  0.2933225 ,  1.852102  ,  0.14474174,\n         2.096667  , -3.1643782 , -1.9943535 , -0.9699378 , -0.0883746 ,\n         1.3458574 ,  3.0041406 , -0.37479627, -1.9031106 , -0.4002657 ,\n         0.19964162, -0.38697353, -0.36515933, -0.31106338, -1.3886493 ,\n         3.3531766 ,  1.0678225 ,  1.4981644 , -2.3334105 ,  3.5933757 ,\n        -1.3345461 ,  1.0662137 ,  2.9752228 , -0.5931846 ,  1.7661548 ,\n         1.7417259 ,  0.64139825, -0.1586879 , -2.536963  ,  0.42405993,\n        -2.170156  ,  0.2531067 , -2.988604  ,  3.5132718 , -1.0215244 ,\n        -0.2221757 , -0.22807808,  0.8908906 ,  1.8041093 ,  1.4901053 ,\n         1.5472105 ,  0.5917182 ,  0.5798174 ,  0.26713258,  2.5100052 ,\n         1.677127  ,  0.3975185 , -0.86177415, -1.2623626 , -0.08665329],\n       dtype=float32),\n array([-2.0228201e-01,  1.4138728e+00,  7.7438933e-01,  1.3137335e-01,\n        -1.6852432e-01, -2.2621887e+00,  1.4533088e+00,  5.0108619e+00,\n        -1.2612157e+00, -1.1594323e+00, -3.9241794e-01, -3.7374213e+00,\n        -1.6623515e+00,  8.5986650e-01,  3.1430051e-01, -1.2063057e+00,\n         5.3583419e-01, -1.3915271e+00, -1.2301290e-03, -4.4118829e+00,\n         1.9453479e+00,  4.0794805e-01,  2.7739789e+00, -6.2317467e-01,\n        -2.9534986e-02,  9.7466880e-01, -1.7786752e+00, -1.0306199e+00,\n        -1.0149878e+00,  7.0469439e-01,  2.2754424e+00,  1.1617105e+00,\n         1.1179132e+00, -3.2157280e+00, -1.1895558e+00,  4.9882188e-01,\n         1.7046146e-01, -2.6508801e+00, -8.5265261e-01, -3.9657681e+00,\n         1.9895723e-03, -1.6689883e+00, -7.9215664e-01, -7.6143867e-01,\n         1.6287633e+00, -1.7450317e+00, -5.2349973e-01,  6.0404611e-01,\n         1.3245268e+00,  1.0419282e+00,  9.7109681e-01, -3.2299299e+00,\n        -1.1899561e+00, -6.1414671e-01, -1.1701772e+00,  5.5658615e-01,\n         1.8835258e+00, -7.0836830e-01, -1.8645511e+00,  1.0176899e+00,\n         7.6075059e-01, -4.7798270e-01,  4.1022199e-01, -1.7632096e-01,\n        -1.0010972e+00,  2.6072700e+00,  1.3209512e+00,  1.0236199e+00,\n        -2.7324908e+00,  3.4426904e+00,  1.0217828e-02,  1.8750553e+00,\n         2.1222401e+00, -2.9799110e-01,  1.7179087e+00,  1.6237580e+00,\n        -1.8838175e-01,  3.7508607e-01, -2.4199817e+00,  6.3356733e-01,\n        -1.4731323e+00, -2.9539971e-02, -2.3070543e+00,  3.0195384e+00,\n        -2.6937076e-01,  1.6960822e-01,  4.8030129e-01,  1.4751227e+00,\n         1.5706100e+00,  1.1106995e+00,  1.7777201e+00,  6.4941102e-01,\n         1.0518770e+00, -1.3139212e-01,  3.2338572e+00,  1.9817288e+00,\n         2.5797896e-02, -2.3776131e+00, -7.5985676e-01, -4.9551703e-02],\n       dtype=float32),\n array([-1.00358814e-01,  5.56019366e-01,  3.07121158e-01,  4.33440469e-02,\n        -9.04905573e-02, -9.20485139e-01,  5.89724541e-01,  2.06947899e+00,\n        -5.23608685e-01, -4.48110223e-01, -1.83509097e-01, -1.53463411e+00,\n        -6.87691033e-01,  3.28721523e-01,  1.33244172e-01, -5.12612462e-01,\n         2.00753003e-01, -5.84401727e-01, -1.75985997e-03, -1.81284142e+00,\n         7.95323908e-01,  1.66947231e-01,  1.16042614e+00, -2.55153537e-01,\n        -2.75865011e-02,  3.99681807e-01, -7.13977635e-01, -4.41837460e-01,\n        -4.20583189e-01,  3.00184667e-01,  9.66422081e-01,  4.65513825e-01,\n         4.71051693e-01, -1.32369399e+00, -4.96512830e-01,  2.22615719e-01,\n         5.72881401e-02, -1.10480809e+00, -3.56226295e-01, -1.62058055e+00,\n         9.94971581e-03, -7.13842630e-01, -3.36222917e-01, -2.64991403e-01,\n         6.81296706e-01, -6.95555925e-01, -2.28601351e-01,  2.42372274e-01,\n         5.47016740e-01,  4.12582248e-01,  4.07874644e-01, -1.34105206e+00,\n        -4.75282013e-01, -2.38204837e-01, -4.96684760e-01,  2.38941282e-01,\n         7.87888288e-01, -2.89855838e-01, -7.71778822e-01,  3.84410322e-01,\n         3.22122306e-01, -2.00497970e-01,  1.86673641e-01, -7.74049759e-02,\n        -4.12973672e-01,  1.08395922e+00,  5.47247589e-01,  4.37278867e-01,\n        -1.14303517e+00,  1.40532827e+00, -2.33152565e-02,  7.75434554e-01,\n         8.93539965e-01, -1.38116971e-01,  7.06490040e-01,  6.96427822e-01,\n        -9.95793343e-02,  1.53921202e-01, -1.00859678e+00,  2.59931237e-01,\n        -5.94906926e-01, -2.64815353e-02, -9.61098671e-01,  1.23527706e+00,\n        -1.09786615e-01,  6.73668087e-02,  1.80383429e-01,  6.22288585e-01,\n         6.62359715e-01,  4.54815179e-01,  7.39753008e-01,  2.70808756e-01,\n         4.27822679e-01, -5.12065813e-02,  1.33700752e+00,  8.31783891e-01,\n         2.37080455e-02, -9.59707856e-01, -3.14288735e-01, -2.38917209e-02],\n       dtype=float32),\n array([-0.11119913,  0.5031876 ,  0.24607755,  0.07610156, -0.0819345 ,\n        -0.77753544,  0.4991427 ,  1.7463022 , -0.45302102, -0.3824481 ,\n        -0.16177419, -1.3036964 , -0.5707936 ,  0.2743295 ,  0.12057995,\n        -0.45510224,  0.1745855 , -0.49286476, -0.01342843, -1.5283433 ,\n         0.67350596,  0.13892989,  0.98419905, -0.23421954, -0.02617692,\n         0.33467224, -0.6158265 , -0.3853798 , -0.3419761 ,  0.24243739,\n         0.81982654,  0.3969227 ,  0.38400334, -1.107759  , -0.4097165 ,\n         0.19493037,  0.0807187 , -0.8892391 , -0.281476  , -1.3807836 ,\n         0.01814336, -0.59504324, -0.28048548, -0.26658943,  0.57898855,\n        -0.5800174 , -0.1974835 ,  0.22667514,  0.45381218,  0.35385498,\n         0.33449754, -1.1256434 , -0.38957673, -0.20685256, -0.41294864,\n         0.21885493,  0.66791165, -0.26739937, -0.64382505,  0.3249338 ,\n         0.24872175, -0.18067546,  0.17154786, -0.09822708, -0.34833917,\n         0.9143656 ,  0.43972582,  0.39732435, -0.9817004 ,  1.2000539 ,\n        -0.00791044,  0.6619929 ,  0.76698095, -0.07886092,  0.59141725,\n         0.5642158 , -0.10984235,  0.11492118, -0.85559464,  0.2071136 ,\n        -0.5070371 , -0.04698069, -0.787432  ,  1.0453788 , -0.07745703,\n         0.06720898,  0.16952907,  0.5223103 ,  0.56316775,  0.4047159 ,\n         0.6097849 ,  0.23812297,  0.3531891 , -0.04329793,  1.151947  ,\n         0.69544923,  0.01732844, -0.80883133, -0.2530113 , -0.03833506],\n       dtype=float32),\n array([-7.61518627e-02,  9.50999558e-01,  5.14928639e-01,  1.69022918e-01,\n        -1.81788489e-01, -1.56504893e+00,  9.32588458e-01,  3.38497233e+00,\n        -9.58699584e-01, -7.56179631e-01, -2.28207037e-01, -2.52328682e+00,\n        -1.18889666e+00,  6.53791904e-01,  2.41554797e-01, -8.96276891e-01,\n         2.43949756e-01, -9.08174515e-01,  1.36301275e-02, -2.95353413e+00,\n         1.35958278e+00,  2.68283010e-01,  1.90748465e+00, -4.05327916e-01,\n        -1.03988573e-01,  6.01324797e-01, -1.16904545e+00, -5.75043797e-01,\n        -6.68473959e-01,  4.77936566e-01,  1.52540159e+00,  7.31017470e-01,\n         7.90841043e-01, -2.16198921e+00, -7.03916192e-01,  2.88725227e-01,\n         1.50840521e-01, -1.82258677e+00, -5.89604378e-01, -2.68708038e+00,\n        -1.54161295e-02, -1.14512682e+00, -5.55195570e-01, -4.05791163e-01,\n         1.14094377e+00, -1.02405322e+00, -4.35273886e-01,  3.84738475e-01,\n         9.61574972e-01,  7.14274645e-01,  6.74048364e-01, -2.16646886e+00,\n        -7.56887794e-01, -4.82417256e-01, -6.38291359e-01,  4.65910584e-01,\n         1.35626197e+00, -4.62368906e-01, -1.21660209e+00,  5.61717629e-01,\n         4.12547171e-01, -3.54282498e-01,  2.61903375e-01, -1.63803086e-01,\n        -7.48634398e-01,  1.85740161e+00,  8.98524046e-01,  8.02316308e-01,\n        -1.84135437e+00,  2.35090852e+00, -5.83686791e-02,  1.23488498e+00,\n         1.51281381e+00, -2.03214556e-01,  1.19428062e+00,  1.11063135e+00,\n        -2.42833532e-02,  2.22968251e-01, -1.65778363e+00,  4.08912897e-01,\n        -1.05562687e+00, -1.49465376e-03, -1.62353921e+00,  2.04597831e+00,\n        -2.11905271e-01,  3.24984416e-02,  2.89016366e-01,  9.52278316e-01,\n         1.11096263e+00,  8.12640965e-01,  1.16198969e+00,  4.26226944e-01,\n         6.18505120e-01, -6.71385452e-02,  2.21201324e+00,  1.30620682e+00,\n        -1.17769046e-03, -1.46149421e+00, -5.35635114e-01, -5.48835471e-02],\n       dtype=float32),\n array([-1.2640677e-01,  7.7063870e-01,  3.6871868e-01,  1.0394080e-01,\n        -8.2225963e-02, -1.1694199e+00,  7.3267531e-01,  2.6081088e+00,\n        -6.5731949e-01, -5.9560573e-01, -2.3383021e-01, -1.9514108e+00,\n        -8.7038177e-01,  4.2580652e-01,  1.9252086e-01, -6.7111570e-01,\n         2.5900573e-01, -7.2620118e-01,  3.9458657e-03, -2.2607541e+00,\n         1.0447341e+00,  1.7606132e-01,  1.4585674e+00, -3.1541085e-01,\n        -2.4091488e-02,  5.1392937e-01, -9.3041146e-01, -5.8048391e-01,\n        -5.1828986e-01,  3.5885432e-01,  1.2243086e+00,  6.1176783e-01,\n         5.9279758e-01, -1.6757413e+00, -6.0645723e-01,  2.2662815e-01,\n         8.4175661e-02, -1.3425305e+00, -4.5512223e-01, -2.0674176e+00,\n         6.9194357e-04, -8.9036077e-01, -4.2109108e-01, -3.7722096e-01,\n         8.2251948e-01, -9.5909476e-01, -2.6106739e-01,  3.2527155e-01,\n         7.0637727e-01,  5.5136150e-01,  5.2103800e-01, -1.6807479e+00,\n        -5.9974194e-01, -2.9541683e-01, -6.3589525e-01,  3.1425968e-01,\n         9.8190063e-01, -3.6843488e-01, -9.6993095e-01,  5.6427240e-01,\n         4.2202461e-01, -2.3278002e-01,  2.2655573e-01, -8.9804500e-02,\n        -5.0058490e-01,  1.3797709e+00,  6.9699752e-01,  5.4911077e-01,\n        -1.4001522e+00,  1.7901950e+00,  3.1979278e-02,  9.7428870e-01,\n         1.0787672e+00, -1.6722654e-01,  9.1270781e-01,  8.8142264e-01,\n        -1.3075829e-01,  2.1441644e-01, -1.2498593e+00,  3.3997744e-01,\n        -7.8794348e-01, -8.1079893e-02, -1.2100959e+00,  1.5548145e+00,\n        -1.4280127e-01,  8.8836215e-02,  2.7521706e-01,  7.7041930e-01,\n         8.3847636e-01,  5.7097709e-01,  9.4033474e-01,  3.5498437e-01,\n         5.5055827e-01, -4.0281169e-02,  1.6862071e+00,  1.0302403e+00,\n         1.8789354e-03, -1.2387261e+00, -4.4989786e-01, -3.4054749e-02],\n       dtype=float32),\n array([ 1.4329517e+00, -2.1244138e-02,  3.6314428e-01,  7.4339867e-01,\n        -7.1054626e-01, -1.8607444e+00,  7.8010535e-01,  3.5443075e+00,\n        -1.2617929e+00, -1.2246753e-01,  6.3213086e-01, -2.9590886e+00,\n        -1.2836518e+00,  8.1166232e-01, -4.5036781e-01, -7.7498418e-01,\n        -7.8858101e-01, -1.3160576e+00,  4.6280898e-02, -3.8068943e+00,\n         1.9756479e+00,  1.0488653e+00,  2.1829553e+00, -1.5024337e-01,\n        -3.9180003e-02,  1.0488787e+00, -2.4142224e-01,  4.4525775e-01,\n        -1.0170542e+00,  7.3138297e-01,  1.7996733e+00,  6.9313711e-01,\n         1.4161264e+00, -2.4756708e+00,  1.5848540e-03,  3.8313711e-01,\n         3.6948398e-03, -3.3467562e+00, -9.8093736e-01, -3.2134964e+00,\n        -9.5127903e-02, -2.0096009e+00, -8.4570849e-01,  5.2362084e-01,\n         1.4976404e+00,  5.6438023e-01, -1.4358829e+00,  1.6057086e-01,\n         1.4891871e+00, -7.9346299e-02,  1.7965946e+00, -2.3464415e+00,\n        -1.6598940e+00, -7.9113644e-01,  1.8940078e-01,  1.1507968e+00,\n         2.4731646e+00, -2.2306126e-01, -1.4338374e+00, -5.8515567e-01,\n         2.2381194e-02, -2.6998827e-01, -4.3140051e-01, -2.7238572e-01,\n        -1.1369435e+00,  2.6489253e+00,  7.1748912e-01,  1.2034756e+00,\n        -1.6621871e+00,  2.7229514e+00, -1.2691963e+00,  6.5092480e-01,\n         2.3935976e+00, -5.0170916e-01,  1.3339680e+00,  1.3073840e+00,\n         6.4432001e-01, -2.1078856e-01, -1.9083635e+00,  2.5200993e-01,\n        -1.7747170e+00,  2.5388128e-01, -2.3796451e+00,  2.7319210e+00,\n        -9.3042386e-01, -2.4859601e-01, -3.0338520e-01,  5.6613970e-01,\n         1.3993564e+00,  1.1786201e+00,  1.1099080e+00,  4.4638628e-01,\n         3.4349570e-01,  2.6374686e-01,  1.7499518e+00,  1.1903226e+00,\n         3.5817099e-01, -3.4193674e-01, -1.0391519e+00, -6.9323584e-02],\n       dtype=float32),\n array([-0.11653928,  0.96518433,  0.54114205,  0.13025165, -0.15896268,\n        -1.5834352 ,  0.9492501 ,  3.4567666 , -0.9077847 , -0.7437637 ,\n        -0.27421626, -2.5995786 , -1.1628964 ,  0.62573665,  0.25292492,\n        -0.8585453 ,  0.32911864, -0.97912896,  0.02390945, -3.0444276 ,\n         1.4040289 ,  0.27887425,  1.9447771 , -0.41664907, -0.04301428,\n         0.6974089 , -1.1931993 , -0.6881566 , -0.68763787,  0.47978684,\n         1.572605  ,  0.8276033 ,  0.7211448 , -2.2179601 , -0.8131382 ,\n         0.3083891 ,  0.15694785, -1.862913  , -0.5876938 , -2.7190773 ,\n        -0.00543405, -1.1355172 , -0.548478  , -0.46932858,  1.119497  ,\n        -1.1401742 , -0.36814848,  0.45567206,  0.92363065,  0.72270936,\n         0.6893283 , -2.2581787 , -0.80167943, -0.49051932, -0.8124881 ,\n         0.4199951 ,  1.3198256 , -0.49782717, -1.2751975 ,  0.6937403 ,\n         0.5383251 , -0.26974106,  0.21416372, -0.07138526, -0.66890734,\n         1.8879954 ,  0.91030383,  0.73828304, -1.8242306 ,  2.3819902 ,\n        -0.03929283,  1.3285257 ,  1.4703783 , -0.2274648 ,  1.2117411 ,\n         1.1543384 , -0.13231438,  0.22681181, -1.6584554 ,  0.47256082,\n        -1.0081474 , -0.07278536, -1.6050274 ,  2.084632  , -0.21142077,\n         0.10928121,  0.27249396,  1.0185511 ,  1.0905553 ,  0.7631074 ,\n         1.2014335 ,  0.37518334,  0.6829196 , -0.08341568,  2.241372  ,\n         1.4142371 , -0.00714069, -1.595334  , -0.5541701 , -0.04845594],\n       dtype=float32),\n array([-0.13686782,  1.5774122 ,  0.88949937,  0.2547787 , -0.27983114,\n        -2.6018448 ,  1.5472249 ,  5.669377  , -1.546701  , -1.2064917 ,\n        -0.4288123 , -4.3172812 , -1.9118811 ,  1.0164125 ,  0.3496373 ,\n        -1.4293417 ,  0.47100297, -1.6178796 ,  0.0067471 , -4.97812   ,\n         2.306314  ,  0.43630058,  3.1596987 , -0.7368539 ,  0.01561768,\n         1.1142727 , -1.950569  , -1.1260694 , -1.1288402 ,  0.78029054,\n         2.567478  ,  1.3524324 ,  1.2767812 , -3.561818  , -1.3170313 ,\n         0.5322007 ,  0.18271984, -3.040976  , -0.9940478 , -4.4936914 ,\n        -0.01481168, -1.9113736 , -0.89032865, -0.7997663 ,  1.8139409 ,\n        -1.9104049 , -0.60896516,  0.761075  ,  1.5431665 ,  1.1258425 ,\n         1.1229953 , -3.6911654 , -1.3486818 , -0.73953784, -1.279216  ,\n         0.7134138 ,  2.1374216 , -0.7417281 , -2.0958948 ,  1.0537626 ,\n         0.8451393 , -0.5055172 ,  0.40348724, -0.14946759, -1.1142789 ,\n         3.0494506 ,  1.5513457 ,  1.225369  , -3.0104487 ,  3.917624  ,\n        -0.01942015,  2.1887398 ,  2.4297512 , -0.3274967 ,  1.9724045 ,\n         1.8599278 , -0.16566283,  0.32810542, -2.7174664 ,  0.72688407,\n        -1.6750007 , -0.06036521, -2.6106515 ,  3.4404843 , -0.284136  ,\n         0.11439566,  0.4343574 ,  1.6285532 ,  1.7605038 ,  1.3005139 ,\n         2.0060372 ,  0.66124487,  1.1547006 , -0.11990643,  3.6288357 ,\n         2.2611384 , -0.01363826, -2.5999982 , -0.8906588 , -0.05670523],\n       dtype=float32),\n array([-0.22678702,  1.6362941 ,  0.88644195,  0.20862298, -0.26300934,\n        -2.633681  ,  1.6108938 ,  5.84457   , -1.5769576 , -1.3361912 ,\n        -0.43586147, -4.3857923 , -1.9356765 ,  1.001157  ,  0.34272793,\n        -1.472042  ,  0.50933164, -1.66876   , -0.01984544, -5.135889  ,\n         2.32018   ,  0.45217386,  3.2510839 , -0.74345136, -0.07956723,\n         1.117803  , -2.05689   , -1.1722962 , -1.2297347 ,  0.82994235,\n         2.678574  ,  1.3586969 ,  1.3433387 , -3.7407045 , -1.3391579 ,\n         0.5526222 ,  0.19233748, -3.130309  , -1.0377725 , -4.651479  ,\n         0.06271777, -2.0006344 , -0.94933677, -0.84115946,  1.9506478 ,\n        -2.0245707 , -0.6646218 ,  0.7653569 ,  1.5845199 ,  1.198638  ,\n         1.1484154 , -3.7526033 , -1.3307011 , -0.76131   , -1.3220285 ,\n         0.72266495,  2.1849575 , -0.8241739 , -2.1364524 ,  1.1396146 ,\n         0.9403237 , -0.5282944 ,  0.44696227, -0.182207  , -1.1247318 ,\n         3.0863266 ,  1.5751569 ,  1.282228  , -3.1302216 ,  4.0483265 ,\n        -0.03813224,  2.1755664 ,  2.5206604 , -0.3482348 ,  2.03379   ,\n         1.9550529 , -0.17904712,  0.40844837, -2.7677915 ,  0.75921875,\n        -1.7828687 , -0.08435314, -2.7520342 ,  3.5554395 , -0.2785644 ,\n         0.13454032,  0.53340876,  1.7071534 ,  1.8982079 ,  1.330841  ,\n         2.1021528 ,  0.74404854,  1.1929841 , -0.12454076,  3.7407045 ,\n         2.3538492 , -0.02443501, -2.7075737 , -0.920283  , -0.0415359 ],\n       dtype=float32),\n array([-3.3252057e-01,  1.7571959e+00,  9.0713519e-01,  2.8206000e-01,\n        -1.7924353e-01, -2.8708217e+00,  1.8317319e+00,  6.2375188e+00,\n        -1.6579441e+00, -1.4992797e+00, -5.1457369e-01, -4.6317773e+00,\n        -2.1921265e+00,  1.1679116e+00,  4.8409450e-01, -1.5639484e+00,\n         6.4097351e-01, -1.6595240e+00, -2.4869118e-02, -5.4077802e+00,\n         2.4240367e+00,  4.8765615e-01,  3.5645697e+00, -8.1534642e-01,\n        -1.0682406e-01,  1.2357042e+00, -2.2385991e+00, -1.1976897e+00,\n        -1.2655529e+00,  9.0106565e-01,  2.8803434e+00,  1.3987374e+00,\n         1.4313023e+00, -4.0173597e+00, -1.3979948e+00,  6.0460943e-01,\n         2.6930103e-01, -3.1818185e+00, -9.9798471e-01, -4.8579001e+00,\n         3.6041483e-02, -2.1071064e+00, -1.0400648e+00, -8.9382142e-01,\n         2.0948312e+00, -2.0770352e+00, -6.8559557e-01,  7.6593739e-01,\n         1.6894475e+00,  1.3646123e+00,  1.1811621e+00, -3.9894848e+00,\n        -1.3692069e+00, -7.9389071e-01, -1.3377160e+00,  7.7833700e-01,\n         2.3575947e+00, -9.4018131e-01, -2.2047696e+00,  1.2672422e+00,\n         8.4346074e-01, -5.9538692e-01,  5.5659389e-01, -2.9611993e-01,\n        -1.2362027e+00,  3.3289495e+00,  1.7358613e+00,  1.3950642e+00,\n        -3.4024956e+00,  4.3786225e+00,  6.0842644e-02,  2.2753301e+00,\n         2.6823802e+00, -2.7858093e-01,  2.1622303e+00,  1.9585280e+00,\n        -2.7415803e-01,  4.9116108e-01, -2.9219801e+00,  7.3462456e-01,\n        -1.9389267e+00, -5.8915745e-02, -2.8353634e+00,  3.6923122e+00,\n        -2.7189833e-01,\n\n*** WARNING: max output size exceeded, skipping output. ***\n\n66247e-01, -3.8012595e+00,  2.4670699e+00,  8.3121719e+00,\n        -2.1269970e+00, -1.9748936e+00, -6.8682528e-01, -6.1632385e+00,\n        -2.8577797e+00,  1.4091938e+00,  6.5487432e-01, -2.0717068e+00,\n         9.7772807e-01, -2.2718213e+00, -7.0040472e-02, -7.1862364e+00,\n         3.2258558e+00,  5.7746571e-01,  4.7771859e+00, -1.1953133e+00,\n        -1.1503458e-01,  1.6857109e+00, -2.9914083e+00, -1.7251033e+00,\n        -1.6546037e+00,  1.1825988e+00,  3.8513389e+00,  1.9042506e+00,\n         1.8641537e+00, -5.3688574e+00, -1.9392070e+00,  8.4685326e-01,\n         3.4733224e-01, -4.2839818e+00, -1.3444749e+00, -6.5035028e+00,\n         8.5827090e-02, -2.8035638e+00, -1.2975377e+00, -1.2973816e+00,\n         2.7487667e+00, -2.8762369e+00, -8.5223269e-01,  1.0238258e+00,\n         2.1915545e+00,  1.7908742e+00,  1.6067469e+00, -5.3653331e+00,\n        -1.8717086e+00, -9.9806535e-01, -1.9509361e+00,  1.0288404e+00,\n         3.1219368e+00, -1.1561136e+00, -2.9835677e+00,  1.7310132e+00,\n         1.2192341e+00, -8.1440389e-01,  7.2168529e-01, -3.2843015e-01,\n        -1.5998747e+00,  4.4476104e+00,  2.2513473e+00,  1.7795570e+00,\n        -4.5796480e+00,  5.7565565e+00,  2.7952189e-02,  3.0927458e+00,\n         3.5931451e+00, -4.1092202e-01,  2.8897297e+00,  2.6002944e+00,\n        -4.0516019e-01,  6.4228481e-01, -3.9176722e+00,  1.0585568e+00,\n        -2.5489945e+00, -6.7859977e-02, -3.8025579e+00,  4.9469795e+00,\n        -3.6682719e-01,  2.5701052e-01,  8.8949490e-01,  2.3658421e+00,\n         2.6075313e+00,  1.7649857e+00,  2.8843048e+00,  1.0684923e+00,\n         1.7887087e+00, -2.7078959e-01,  5.3866634e+00,  3.2850199e+00,\n        -7.8407172e-03, -3.9042826e+00, -1.3814801e+00, -9.7793758e-02],\n       dtype=float32),\n array([-0.3340294 ,  1.8936362 ,  0.98632854,  0.20633736, -0.16728434,\n        -2.8908658 ,  1.8639593 ,  6.478908  , -1.6433964 , -1.4246362 ,\n        -0.5011271 , -4.893944  , -2.1792202 ,  1.1035941 ,  0.4531647 ,\n        -1.5796236 ,  0.67168695, -1.8035074 ,  0.02051381, -5.672682  ,\n         2.565912  ,  0.5230558 ,  3.6891406 , -0.8826553 ,  0.05396254,\n         1.3453873 , -2.3340702 , -1.3628318 , -1.2702138 ,  0.84179366,\n         3.018402  ,  1.504151  ,  1.3983212 , -4.113158  , -1.5149444 ,\n         0.60876656,  0.15481995, -3.4457545 , -1.1036327 , -5.1524453 ,\n         0.02441327, -2.1614666 , -0.9265031 , -0.9766331 ,  2.085383  ,\n        -2.3423018 , -0.6541247 ,  0.84246963,  1.791972  ,  1.3205405 ,\n         1.302668  , -4.2611885 , -1.576444  , -0.8011397 , -1.5884176 ,\n         0.77550143,  2.4289408 , -0.8822333 , -2.3321264 ,  1.3403485 ,\n         0.9374313 , -0.56604475,  0.4585719 , -0.22703092, -1.2642685 ,\n         3.4326997 ,  1.7900283 ,  1.4201585 , -3.5196269 ,  4.4780173 ,\n         0.00669952,  2.4234295 ,  2.762823  , -0.380859  ,  2.2123446 ,\n         2.1101584 , -0.30935174,  0.46350005, -3.1060758 ,  0.8400942 ,\n        -1.9488226 , -0.11631259, -2.9350805 ,  3.9264145 , -0.27677357,\n         0.22428781,  0.58633804,  1.9191588 ,  2.101874  ,  1.491547  ,\n         2.3023372 ,  0.8504197 ,  1.4174427 , -0.14115344,  4.2165446 ,\n         2.640684  ,  0.01465122, -3.038009  , -1.0247935 , -0.01282364],\n       dtype=float32),\n array([ -0.8749102 ,   7.4413614 ,   3.965107  ,   0.77383745,\n         -1.0102968 , -11.973893  ,   7.450593  ,  26.542984  ,\n         -6.9426928 ,  -5.6953454 ,  -2.1281264 , -20.130215  ,\n         -8.862008  ,   4.5807576 ,   1.5553497 ,  -6.5612087 ,\n          2.4383364 ,  -7.664423  ,   0.04351637, -23.232054  ,\n         10.731685  ,   2.1965783 ,  15.061637  ,  -3.2352726 ,\n         -0.17399524,   5.237436  ,  -9.258211  ,  -5.563589  ,\n         -5.274327  ,   3.5721707 ,  12.202334  ,   6.3236575 ,\n          5.961112  , -16.97103   ,  -6.2548056 ,   2.5177796 ,\n          0.92810875, -14.3897085 ,  -4.7074656 , -21.134262  ,\n          0.14409469,  -9.24946   ,  -4.1868157 ,  -3.8538952 ,\n          8.57133   ,  -9.229671  ,  -2.8238704 ,   3.2876036 ,\n          7.2596655 ,   5.436007  ,   5.392239  , -17.218077  ,\n         -6.3389664 ,  -3.475384  ,  -6.2124066 ,   3.1637084 ,\n         10.055665  ,  -3.6627119 ,  -9.675042  ,   5.251035  ,\n          4.11      ,  -2.572032  ,   1.869122  ,  -0.8325811 ,\n         -5.119368  ,  14.32429   ,   7.167114  ,   5.6721783 ,\n        -14.378772  ,  18.492628  ,  -0.22702636,  10.014889  ,\n         11.275381  ,  -1.7531807 ,   8.995692  ,   8.771483  ,\n         -0.88481784,   1.8460819 , -12.839536  ,   3.4703429 ,\n         -7.926497  ,  -0.47292244, -12.436626  ,  16.0762    ,\n         -1.2732953 ,   0.88907593,   2.3961737 ,   7.8528523 ,\n          8.434757  ,   6.0268173 ,   9.273947  ,   3.3011625 ,\n          5.6076255 ,  -0.5187633 ,  17.056862  ,  10.607987  ,\n          0.2702374 , -12.349495  ,  -4.1231194 ,  -0.32005066],\n       dtype=float32),\n array([-1.12070374e-01,  1.19399834e+00,  6.18973613e-01,  1.24754474e-01,\n        -1.34118482e-01, -1.90019977e+00,  1.17160642e+00,  4.14124107e+00,\n        -1.07521951e+00, -9.06236112e-01, -3.60419691e-01, -3.13895202e+00,\n        -1.40059090e+00,  7.34325409e-01,  2.68105537e-01, -1.03253853e+00,\n         4.22278643e-01, -1.17737484e+00, -3.28493230e-02, -3.62317777e+00,\n         1.67052794e+00,  3.31110686e-01,  2.31955361e+00, -5.18016338e-01,\n        -3.66422832e-02,  8.73902857e-01, -1.45960963e+00, -8.95534635e-01,\n        -7.98982382e-01,  6.15566492e-01,  1.94501555e+00,  9.77385938e-01,\n         9.46687639e-01, -2.65458536e+00, -9.75713968e-01,  4.03814822e-01,\n         1.71136886e-01, -2.19947720e+00, -7.22759068e-01, -3.29550219e+00,\n         6.76705502e-03, -1.43177330e+00, -6.57420397e-01, -6.52018666e-01,\n         1.31793535e+00, -1.49289489e+00, -3.94472569e-01,  4.95524168e-01,\n         1.10591185e+00,  8.58454406e-01,  8.33247721e-01, -2.69402790e+00,\n        -9.77493525e-01, -5.05113423e-01, -1.04551327e+00,  4.90094930e-01,\n         1.49242461e+00, -6.13481641e-01, -1.49453104e+00,  8.64060640e-01,\n         6.62599087e-01, -3.53478462e-01,  3.06678414e-01, -1.08985066e-01,\n        -7.67184079e-01,  2.18807483e+00,  1.17338800e+00,  8.87710094e-01,\n        -2.27900505e+00,  2.89467621e+00,  2.96708290e-03,  1.57111716e+00,\n         1.78583717e+00, -2.86114722e-01,  1.40728939e+00,  1.35314226e+00,\n        -1.56915307e-01,  2.80110180e-01, -1.97159433e+00,  5.61394811e-01,\n        -1.21806753e+00, -1.15461588e-01, -1.93646276e+00,  2.47615314e+00,\n        -1.49084672e-01,  1.08119197e-01,  3.77955467e-01,  1.22039318e+00,\n         1.33529198e+00,  9.17005301e-01,  1.47226048e+00,  5.25770485e-01,\n         9.15081441e-01, -1.09579861e-01,  2.69712901e+00,  1.66574788e+00,\n         6.90254755e-03, -1.93271589e+00, -6.47232592e-01, -4.86964807e-02],\n       dtype=float32),\n array([-0.06914821,  0.4120161 ,  0.22306919,  0.06086423, -0.08049692,\n        -0.66359603,  0.4186328 ,  1.4767861 , -0.38280213, -0.33545047,\n        -0.12608054, -1.1266749 , -0.49960706,  0.25884742,  0.07566657,\n        -0.37331975,  0.12831765, -0.4282024 , -0.00653139, -1.3004333 ,\n         0.5655721 ,  0.11701019,  0.83844244, -0.16647801, -0.01161581,\n         0.29280034, -0.51327866, -0.28936294, -0.29891333,  0.20870158,\n         0.6849654 ,  0.3499098 ,  0.33337998, -0.9405796 , -0.3398732 ,\n         0.15727298,  0.06701602, -0.7986025 , -0.26271322, -1.1853746 ,\n         0.01925557, -0.50956684, -0.2515282 , -0.20355052,  0.47640195,\n        -0.51394606, -0.15944481,  0.1960229 ,  0.39984453,  0.31774715,\n         0.31291276, -0.96203583, -0.3427119 , -0.18877453, -0.35218856,\n         0.18400085,  0.5771534 , -0.22088823, -0.5565146 ,  0.26717198,\n         0.24404529, -0.1317541 ,  0.13804606, -0.04384633, -0.3032312 ,\n         0.7918569 ,  0.40235695,  0.3410265 , -0.8034307 ,  1.023736  ,\n         0.00891808,  0.54590464,  0.64122   , -0.08420139,  0.52029526,\n         0.52051824, -0.06766093,  0.097688  , -0.7084944 ,  0.1859721 ,\n        -0.43955183, -0.02850547, -0.678311  ,  0.8722826 , -0.08740554,\n         0.03019638,  0.12757315,  0.4441869 ,  0.47102997,  0.3499644 ,\n         0.55041367,  0.19966376,  0.29667103, -0.01805197,  0.9517254 ,\n         0.59886646,  0.0158552 , -0.6801677 , -0.24781555, -0.01732377],\n       dtype=float32),\n array([-0.12107831,  0.82453406,  0.44662791,  0.10710786, -0.10068249,\n        -1.3458359 ,  0.8291477 ,  2.9365554 , -0.7647379 , -0.6783724 ,\n        -0.2755689 , -2.2364185 , -0.98384583,  0.4910115 ,  0.1970214 ,\n        -0.7257319 ,  0.32136056, -0.85004896,  0.01049709, -2.5550725 ,\n         1.1458471 ,  0.21004488,  1.6689535 , -0.38691604, -0.01145899,\n         0.57988805, -1.0570928 , -0.6254833 , -0.5666783 ,  0.40020424,\n         1.3511986 ,  0.7335529 ,  0.62676734, -1.8684373 , -0.7171716 ,\n         0.27219704,  0.12865017, -1.559911  , -0.4993757 , -2.3059516 ,\n         0.01381493, -0.9906511 , -0.4563131 , -0.5049361 ,  0.96099156,\n        -1.0453901 , -0.27179068,  0.35263005,  0.8091986 ,  0.6362064 ,\n         0.58230704, -1.8984224 , -0.68328416, -0.37234604, -0.70456195,\n         0.30843824,  1.0530884 , -0.4715551 , -1.0315659 ,  0.61622393,\n         0.46576065, -0.2680714 ,  0.27562088, -0.09883355, -0.591541  ,\n         1.5329564 ,  0.776995  ,  0.6152683 , -1.5879407 ,  2.0350556 ,\n         0.03615241,  1.1079551 ,  1.2315304 , -0.1987225 ,  0.98465055,\n         0.9552639 , -0.11770864,  0.2170535 , -1.3690434 ,  0.39218634,\n        -0.8492166 , -0.09548657, -1.3874695 ,  1.7424135 , -0.11811988,\n         0.08015563,  0.2857267 ,  0.8603002 ,  0.92586684,  0.66719365,\n         1.0433646 ,  0.38191968,  0.6315402 , -0.04593912,  1.925096  ,\n         1.1551588 , -0.0246113 , -1.3669002 , -0.47061923, -0.0421498 ],\n       dtype=float32),\n array([-3.3142161e-01,  2.1446908e+00,  1.1142497e+00,  2.6513925e-01,\n        -2.3956940e-01, -3.3926241e+00,  2.1572685e+00,  7.4989491e+00,\n        -1.9737413e+00, -1.6872969e+00, -6.2338257e-01, -5.6466861e+00,\n        -2.5214977e+00,  1.3293729e+00,  5.0268453e-01, -1.8565782e+00,\n         7.5583780e-01, -2.0958316e+00,  3.6616956e-03, -6.5829244e+00,\n         2.9716597e+00,  5.9626436e-01,  4.2398782e+00, -9.8971146e-01,\n        -5.8348671e-02,  1.4742733e+00, -2.6713824e+00, -1.5462776e+00,\n        -1.5503985e+00,  1.0148480e+00,  3.4655688e+00,  1.7592061e+00,\n         1.6624169e+00, -4.7950974e+00, -1.7600545e+00,  7.0489496e-01,\n         2.6444423e-01, -3.9140024e+00, -1.2591103e+00, -5.9659901e+00,\n         5.1181566e-02, -2.5445783e+00, -1.2107631e+00, -1.1371046e+00,\n         2.4791939e+00, -2.6639943e+00, -7.8996265e-01,  9.5348984e-01,\n         2.0358787e+00,  1.5795311e+00,  1.4737793e+00, -4.8758078e+00,\n        -1.7228961e+00, -9.3693137e-01, -1.7227247e+00,  8.9131224e-01,\n         2.7674096e+00, -1.0696176e+00, -2.7527678e+00,  1.4711241e+00,\n         1.1207538e+00, -7.2605926e-01,  6.3244587e-01, -2.6277384e-01,\n        -1.4936514e+00,  3.9536779e+00,  2.0346367e+00,  1.6331201e+00,\n        -4.1152024e+00,  5.2115111e+00,  4.7612041e-03,  2.8145440e+00,\n         3.2476721e+00, -4.4871756e-01,  2.5524838e+00,  2.4623916e+00,\n        -3.2379517e-01,  5.1174188e-01, -3.6169939e+00,  9.5777112e-01,\n        -2.2095551e+00, -1.0723357e-01, -3.4742658e+00,  4.4967990e+00,\n        -3.3896616e-01,  2.3147848e-01,  7.0274198e-01,  2.2015047e+00,\n         2.4131842e+00,  1.7270089e+00,  2.6493587e+00,  9.6868140e-01,\n         1.5569264e+00, -1.9613038e-01,  4.8709121e+00,  2.9922576e+00,\n         3.6102820e-02, -3.4636171e+00, -1.1659085e+00, -1.3255677e-01],\n       dtype=float32),\n array([-0.12812462,  1.1316236 ,  0.58875513,  0.16048111, -0.20984714,\n        -1.8998979 ,  1.1691389 ,  4.173958  , -1.1356341 , -0.89606845,\n        -0.33105832, -3.0812185 , -1.436263  ,  0.7687438 ,  0.23864746,\n        -1.0752132 ,  0.36752695, -1.1545124 ,  0.02229155, -3.6484728 ,\n         1.6584178 ,  0.3369134 ,  2.3638914 , -0.5073622 , -0.07413245,\n         0.7473071 , -1.4467381 , -0.79745114, -0.8765898 ,  0.591356  ,\n         1.9297287 ,  0.8969568 ,  1.0167608 , -2.6933079 , -0.8955446 ,\n         0.4037923 ,  0.14305371, -2.2374845 , -0.7497875 , -3.3191464 ,\n         0.01979393, -1.4753278 , -0.73791635, -0.51786685,  1.4372535 ,\n        -1.3903253 , -0.4738714 ,  0.5189597 ,  1.14552   ,  0.8459605 ,\n         0.88150465, -2.6691515 , -0.93082744, -0.5259519 , -0.8986799 ,\n         0.5515963 ,  1.6113411 , -0.5896219 , -1.5164894 ,  0.7328381 ,\n         0.588931  , -0.4178137 ,  0.3496874 , -0.17031361, -0.8513284 ,\n         2.235122  ,  1.1328404 ,  0.96291405, -2.2887406 ,  2.870394  ,\n        -0.03685417,  1.5500325 ,  1.8389701 , -0.25345904,  1.4477981 ,\n         1.4181461 , -0.14756836,  0.30231458, -2.0048575 ,  0.4891064 ,\n        -1.2942911 , -0.01026304, -1.9235437 ,  2.494112  , -0.2312244 ,\n         0.0589321 ,  0.3649342 ,  1.2191348 ,  1.3113172 ,  1.0208442 ,\n         1.492764  ,  0.5239133 ,  0.80055666, -0.08833892,  2.6794553 ,\n         1.6456164 ,  0.00995451, -1.8412831 , -0.62803894, -0.06534764],\n       dtype=float32),\n array([-0.15693945,  0.8480886 ,  0.4363879 ,  0.12705643, -0.10320406,\n        -1.3620001 ,  0.8660724 ,  2.9803746 , -0.7900094 , -0.72048044,\n        -0.22909066, -2.2130265 , -1.0056413 ,  0.536583  ,  0.21600482,\n        -0.7261492 ,  0.34657386, -0.839876  , -0.01664265, -2.5716612 ,\n         1.168642  ,  0.22062653,  1.6881013 , -0.40610695, -0.03118822,\n         0.60082793, -1.0913265 , -0.59571505, -0.57211703,  0.4191302 ,\n         1.3752342 ,  0.6931383 ,  0.6863469 , -1.9136415 , -0.70595694,\n         0.28703454,  0.14153537, -1.5175383 , -0.47965798, -2.338704  ,\n         0.02335919, -0.9852763 , -0.47843635, -0.49628636,  0.97353673,\n        -1.0291166 , -0.29738465,  0.37930298,  0.79750097,  0.6634796 ,\n         0.5869839 , -1.8861274 , -0.6562377 , -0.3574745 , -0.68222   ,\n         0.31052548,  1.109468  , -0.43640524, -1.0584967 ,  0.62752384,\n         0.4224642 , -0.2713779 ,  0.2691274 , -0.10446779, -0.59045005,\n         1.5842644 ,  0.8187927 ,  0.6361335 , -1.6228678 ,  2.063144  ,\n         0.03708781,  1.113507  ,  1.2522103 , -0.17211698,  1.0468903 ,\n         0.92708087, -0.12263011,  0.22012526, -1.3768317 ,  0.38268828,\n        -0.89860755, -0.05216946, -1.3491211 ,  1.7692211 , -0.13522623,\n         0.09147969,  0.32983202,  0.828567  ,  0.93845356,  0.6807313 ,\n         1.0568457 ,  0.3792821 ,  0.6616847 , -0.0788008 ,  1.9378858 ,\n         1.1663038 , -0.03383717, -1.3900295 , -0.47912243, -0.03131131],\n       dtype=float32),\n array([-4.9367833e-01,  3.6507273e+00,  1.9576951e+00,  3.6077034e-01,\n        -4.5760641e-01, -5.9049397e+00,  3.7007847e+00,  1.2893187e+01,\n        -3.3283989e+00, -3.0308948e+00, -1.0145767e+00, -9.6801329e+00,\n        -4.3189354e+00,  2.1691992e+00,  8.5275185e-01, -3.1712079e+00,\n         1.3408626e+00, -3.6800365e+00, -4.9754411e-02, -1.1237686e+01,\n         5.1010118e+00,  1.0296333e+00,  7.2709265e+00, -1.6144321e+00,\n        -1.5671334e-01,  2.5962679e+00, -4.6081805e+00, -2.7352471e+00,\n        -2.5271976e+00,  1.8042494e+00,  5.8241043e+00,  3.0634460e+00,\n         2.9114375e+00, -8.2437410e+00, -3.0656111e+00,  1.2790245e+00,\n         4.9524716e-01, -6.8166327e+00, -2.2206597e+00, -1.0186479e+01,\n        -2.4345964e-02, -4.3862596e+00, -1.9813157e+00, -1.9537966e+00,\n         4.2336164e+00, -4.4934096e+00, -1.3534460e+00,  1.6871561e+00,\n         3.4621058e+00,  2.7677553e+00,  2.4875474e+00, -8.2953157e+00,\n        -3.0265810e+00, -1.6651592e+00, -3.0188973e+00,  1.4651819e+00,\n         4.7564931e+00, -1.8240820e+00, -4.6194267e+00,  2.6330566e+00,\n         1.9327598e+00, -1.2054207e+00,  1.0060841e+00, -3.8491380e-01,\n        -2.5046492e+00,  6.8906865e+00,  3.4001107e+00,  2.7786167e+00,\n        -6.9397316e+00,  8.8949108e+00,  4.1229151e-02,  4.8794332e+00,\n         5.4553123e+00, -7.4594635e-01,  4.4408627e+00,  4.2216816e+00,\n        -4.5495668e-01,  9.3108600e-01, -6.1400442e+00,  1.6824411e+00,\n        -3.8345268e+00, -1.4809582e-01, -5.9913073e+00,  7.7286429e+00,\n        -6.0847533e-01,  4.2827955e-01,  1.2918702e+00,  3.8424633e+00,\n         4.1374393e+00,  2.9362304e+00,  4.4983654e+00,  1.6518793e+00,\n         2.6842616e+00, -2.2710586e-01,  8.3265247e+00,  5.1429887e+00,\n         7.3480643e-03, -6.0494170e+00, -1.9677976e+00, -1.8107533e-01],\n       dtype=float32),\n array([-0.18736212,  1.4706354 ,  0.72727257,  0.15761578, -0.16816829,\n        -2.3474877 ,  1.4365875 ,  5.1617455 , -1.2952622 , -1.1858641 ,\n        -0.3756251 , -3.8427575 , -1.7598038 ,  0.838383  ,  0.38501433,\n        -1.3052925 ,  0.5264294 , -1.4797026 ,  0.02262851, -4.501125  ,\n         2.0900636 ,  0.45479965,  2.9165394 , -0.6280021 , -0.08524568,\n         1.0246084 , -1.8001449 , -1.0459023 , -0.97002685,  0.6712927 ,\n         2.3171198 ,  1.1914651 ,  1.1240342 , -3.3152409 , -1.2189142 ,\n         0.49441934,  0.22631095, -2.7034297 , -0.89698267, -4.008709  ,\n         0.02446905, -1.7504528 , -0.7303402 , -0.739669  ,  1.6770389 ,\n        -1.7043532 , -0.4933142 ,  0.59264463,  1.3827055 ,  1.0919143 ,\n         0.9983651 , -3.3085911 , -1.1881701 , -0.69396067, -1.2010529 ,\n         0.5418358 ,  1.9200835 , -0.6869177 , -1.8737466 ,  1.066166  ,\n         0.75021744, -0.5055608 ,  0.42073214, -0.16861682, -1.0117724 ,\n         2.7533536 ,  1.3552912 ,  1.0931706 , -2.7767467 ,  3.5442178 ,\n         0.00917761,  1.901938  ,  2.2283478 , -0.29091945,  1.753792  ,\n         1.6652964 , -0.15432066,  0.37858883, -2.4901702 ,  0.6896789 ,\n        -1.5432638 , -0.04280505, -2.3898315 ,  3.0626078 , -0.20380113,\n         0.18629308,  0.46827388,  1.5217943 ,  1.6780102 ,  1.1253581 ,\n         1.7763445 ,  0.62041223,  1.119591  , -0.08796244,  3.3147283 ,\n         2.0154104 , -0.00863879, -2.3483815 , -0.84713393, -0.06862397],\n       dtype=float32),\n array([-1.21078596e-01,  1.06920183e+00,  5.64147472e-01,  1.34865075e-01,\n        -1.32636026e-01, -1.68123984e+00,  1.07429767e+00,  3.69227791e+00,\n        -9.88057017e-01, -8.66865158e-01, -3.16158891e-01, -2.79103374e+00,\n        -1.26091754e+00,  6.70682311e-01,  2.24335745e-01, -8.99017751e-01,\n         4.05664802e-01, -1.02244902e+00, -3.84863801e-02, -3.27019811e+00,\n         1.49687862e+00,  2.85284877e-01,  2.10045815e+00, -4.56558555e-01,\n        -5.62863760e-02,  7.69485056e-01, -1.30649781e+00, -7.89068341e-01,\n        -7.21592903e-01,  5.69413006e-01,  1.73823941e+00,  8.67853761e-01,\n         8.66311967e-01, -2.38385034e+00, -9.06754255e-01,  3.74401420e-01,\n         8.03756490e-02, -1.96444392e+00, -6.18425250e-01, -2.98042417e+00,\n         4.28462513e-02, -1.25941372e+00, -5.63925385e-01, -5.54876149e-01,\n         1.22096586e+00, -1.30160618e+00, -3.90236825e-01,  4.17909056e-01,\n         1.02398217e+00,  7.63249516e-01,  7.27945447e-01, -2.43702388e+00,\n        -8.93857360e-01, -4.27686453e-01, -8.88710558e-01,  4.75030839e-01,\n         1.37341213e+00, -5.03076255e-01, -1.38220847e+00,  7.54935622e-01,\n         5.78749359e-01, -3.47673386e-01,  2.99712837e-01, -1.21292323e-01,\n        -7.18431830e-01,  1.98847723e+00,  1.02417219e+00,  7.83990145e-01,\n        -2.03078675e+00,  2.56331158e+00, -8.31273012e-03,  1.41898358e+00,\n         1.58620572e+00, -2.38898098e-01,  1.26976264e+00,  1.23150587e+00,\n        -1.55851439e-01,  2.75479227e-01, -1.78493786e+00,  4.99966979e-01,\n        -1.07691050e+00, -4.62231040e-02, -1.74961257e+00,  2.23909998e+00,\n        -1.61093250e-01,  1.39044017e-01,  3.81698251e-01,  1.08108914e+00,\n         1.17361546e+00,  8.42378318e-01,  1.29317248e+00,  4.98544008e-01,\n         7.65667498e-01, -6.51085302e-02,  2.41454291e+00,  1.43181169e+00,\n        -1.48804206e-03, -1.74645674e+00, -5.56017280e-01, -1.29432129e-02],\n       dtype=float32),\n array([-4.7390245e-02,  3.8617593e-01,  2.0504895e-01,  3.5185870e-02,\n        -5.0404500e-02, -6.3724601e-01,  4.0762171e-01,  1.3963981e+00,\n        -3.6377007e-01, -3.3056629e-01, -1.2192459e-01, -1.0722852e+00,\n        -4.6929353e-01,  2.5060976e-01,  1.0333767e-01, -3.5144728e-01,\n         1.5973394e-01, -3.8778198e-01,  6.3454863e-03, -1.2420568e+00,\n         5.5091226e-01,  9.2970215e-02,  8.0109012e-01, -1.8059844e-01,\n        -1.1678246e-02,  2.9093039e-01, -5.0231004e-01, -3.0428290e-01,\n        -2.7837616e-01,  1.9432060e-01,  6.6629755e-01,  3.5259047e-01,\n         3.0560273e-01, -9.0050733e-01, -3.4233463e-01,  1.3079152e-01,\n         4.9153015e-02, -7.6350796e-01, -2.4807003e-01, -1.1102166e+00,\n         1.5198806e-02, -4.9817681e-01, -2.1345013e-01, -2.3917115e-01,\n         4.6499521e-01, -4.9989337e-01, -1.6107059e-01,  1.5886393e-01,\n         3.7536746e-01,  2.8636995e-01,  2.8043208e-01, -9.2434514e-01,\n        -3.4459525e-01, -1.6946195e-01, -3.5484695e-01,  1.5085632e-01,\n         5.1584655e-01, -2.2409743e-01, -5.0476676e-01,  2.9196239e-01,\n         2.0729637e-01, -1.3614652e-01,  1.1591256e-01, -4.2255521e-02,\n        -2.9168794e-01,  7.6163441e-01,  3.7327224e-01,  2.9854256e-01,\n        -7.8717923e-01,  9.7674161e-01, -1.2269020e-03,  5.3484124e-01,\n         5.9786052e-01, -7.6683708e-02,  4.8437142e-01,  4.6409047e-01,\n        -4.3677658e-02,  1.0740751e-01, -6.6227341e-01,  1.8577191e-01,\n        -4.2362875e-01, -2.9355161e-02, -6.5109098e-01,  8.4374827e-01,\n        -5.5332035e-02,  3.4320839e-02,  1.3732521e-01,  4.1412780e-01,\n         4.5966363e-01,  3.0326670e-01,  4.9498224e-01,  1.8925160e-01,\n         3.0321312e-01, -2.7207257e-02,  9.0668952e-01,  5.4379851e-01,\n         3.8260152e-04, -6.5693235e-01, -2.1581158e-01,  3.2680461e-04],\n       dtype=float32),\n array([-1.91110402e-01,  1.37172282e+00,  6.70802891e-01,  1.65045515e-01,\n        -1.87393561e-01, -2.21906424e+00,  1.36349559e+00,  4.83620644e+00,\n        -1.24400890e+00, -1.13268125e+00, -3.41478080e-01, -3.53846097e+00,\n        -1.62638998e+00,  8.39326143e-01,  3.42635959e-01, -1.23816776e+00,\n         4.78051960e-01, -1.34792423e+00, -4.46374230e-02, -4.19039965e+00,\n         1.90300834e+00,  3.99280846e-01,  2.71450853e+00, -5.91120243e-01,\n        -8.37257355e-02,  9.05647695e-01, -1.70614529e+00, -9.46207404e-01,\n        -9.28893685e-01,  6.69861019e-01,  2.19041228e+00,  1.08539736e+00,\n         1.08562720e+00, -3.07294226e+00, -1.08262455e+00,  4.90980476e-01,\n         2.07590580e-01, -2.54530716e+00, -8.15640211e-01, -3.76370120e+00,\n        -2.03679875e-02, -1.63639665e+00, -7.42548764e-01, -7.13409603e-01,\n         1.63128173e+00, -1.62776601e+00, -4.65288967e-01,  5.75011551e-01,\n         1.30633295e+00,  1.02749538e+00,  9.49696779e-01, -3.07346725e+00,\n        -1.11189663e+00, -6.27397060e-01, -1.07521915e+00,  5.92174888e-01,\n         1.83607042e+00, -6.38183475e-01, -1.69138455e+00,  9.05242383e-01,\n         6.69363797e-01, -4.59691375e-01,  4.00950640e-01, -1.82234287e-01,\n        -9.82208490e-01,  2.57934046e+00,  1.30100179e+00,  1.09215891e+00,\n        -2.63290167e+00,  3.29308271e+00,  2.11813068e-03,  1.77854562e+00,\n         2.10929060e+00, -2.52189755e-01,  1.63988662e+00,  1.52152395e+00,\n        -1.70941457e-01,  3.47815305e-01, -2.31617904e+00,  6.00152552e-01,\n        -1.44614756e+00, -5.98903326e-03, -2.20433736e+00,  2.92074108e+00,\n        -1.92249641e-01,  1.13347009e-01,  4.49389070e-01,  1.42273927e+00,\n         1.53610945e+00,  1.08979416e+00,  1.64521933e+00,  5.93807042e-01,\n         9.81205404e-01, -1.21670514e-01,  3.14658117e+00,  1.87478733e+00,\n         7.47970631e-03, -2.21049356e+00, -7.56403983e-01, -1.06416874e-01],\n       dtype=float32),\n array([-0.03715812,  0.285992  ,  0.14498302,  0.01046669, -0.03504438,\n        -0.37400126,  0.26199132,  0.89784044, -0.22625978, -0.1757538 ,\n        -0.07149538, -0.7012863 , -0.29099214,  0.13241965,  0.07505886,\n        -0.21491288,  0.06761947, -0.2545569 , -0.00346921, -0.7842202 ,\n         0.35691398,  0.09048874,  0.5078391 , -0.10814136,  0.0193304 ,\n         0.1645444 , -0.32698774, -0.1695697 , -0.1551346 ,  0.12069524,\n         0.41920996,  0.20343505,  0.19274999, -0.5659419 , -0.19864443,\n         0.06897776,  0.04329127, -0.47010195, -0.13211577, -0.7261741 ,\n         0.00254524, -0.3131513 , -0.14565673, -0.13549118,  0.28352517,\n        -0.33238184, -0.09511472,  0.11737259,  0.20882726,  0.194504  ,\n         0.16738853, -0.55184704, -0.19641797, -0.13391332, -0.21266526,\n         0.10008452,  0.34603363, -0.10046398, -0.32791847,  0.19815424,\n         0.13122733, -0.05666866,  0.06075881, -0.00595734, -0.17178504,\n         0.46753123,  0.23531216,  0.1724427 , -0.4757118 ,  0.6000237 ,\n        -0.00361641,  0.33124253,  0.3703241 , -0.07043828,  0.310757  ,\n         0.272945  , -0.02098539,  0.05549823, -0.41023877,  0.11963058,\n        -0.2810183 , -0.03490471, -0.3854725 ,  0.5451528 , -0.05296746,\n         0.0229384 ,  0.08183149,  0.24700639,  0.28027922,  0.1977673 ,\n         0.31171834,  0.13465881,  0.17099138, -0.03821658,  0.57114273,\n         0.3517095 ,  0.01302009, -0.44144174, -0.11942361, -0.00467095],\n       dtype=float32),\n ...]"
     ]
    }
   ],
   "source": [
    "embedded_vectors = []\n",
    "\n",
    "for row in df.select('clean_review').collect():\n",
    "    embedded_vectors.append(model.wv[row.clean_review].sum(axis=0))\n",
    "\n",
    "embedded_vectors"
   ]
  },
  {
   "cell_type": "markdown",
   "metadata": {
    "application/vnd.databricks.v1+cell": {
     "cellMetadata": {},
     "inputWidgets": {},
     "nuid": "e9b9cbc5-feb8-4b3c-a4e4-2d2a8689df85",
     "showTitle": false,
     "title": ""
    }
   },
   "source": [
    "#### Oversampling"
   ]
  },
  {
   "cell_type": "code",
   "execution_count": 0,
   "metadata": {
    "application/vnd.databricks.v1+cell": {
     "cellMetadata": {
      "byteLimit": 2048000,
      "rowLimit": 10000
     },
     "inputWidgets": {},
     "nuid": "24d4a455-ae04-41ce-b54d-e0d0d77f1986",
     "showTitle": false,
     "title": ""
    }
   },
   "outputs": [],
   "source": [
    "oversample = SMOTE()\n",
    "X, y = oversample.fit_resample(np.array(embedded_vectors), np.array(df.select(\"fake_review\").collect()))\n",
    "\n",
    "df = spark.createDataFrame(pd.DataFrame({'array_reviews':X.tolist(), 'fake_review':y}))\n",
    "df = df.withColumn('vector_reviews', array_to_vector(df['array_reviews']))"
   ]
  },
  {
   "cell_type": "code",
   "execution_count": 0,
   "metadata": {
    "application/vnd.databricks.v1+cell": {
     "cellMetadata": {
      "byteLimit": 2048000,
      "rowLimit": 10000
     },
     "inputWidgets": {},
     "nuid": "67ff3050-715e-4040-9518-bb146125dae7",
     "showTitle": false,
     "title": ""
    }
   },
   "outputs": [
    {
     "output_type": "display_data",
     "data": {
      "image/png": "[encoded data removed]"
     },
     "metadata": {
      "application/vnd.databricks.v1+output": {
       "addedWidgets": {},
       "arguments": {},
       "data": "data:image/png;base64,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\n",
       "datasetInfos": [],
       "metadata": {},
       "removedWidgets": [],
       "type": "image"
      }
     },
     "output_type": "display_data"
    }
   ],
   "source": [
    "rating_count = df.groupBy(\"fake_review\").count().orderBy('fake_review')\n",
    "plt.figure(figsize =(4, 4))\n",
    "plt.bar(rating_count.rdd.map(lambda x:x['fake_review']).collect(), rating_count.rdd.map(lambda x:x['count']).collect())\n",
    "plt.title(\"Ratings distribution\",)\n",
    "plt.show()"
   ]
  },
  {
   "cell_type": "code",
   "execution_count": 0,
   "metadata": {
    "application/vnd.databricks.v1+cell": {
     "cellMetadata": {
      "byteLimit": 2048000,
      "rowLimit": 10000
     },
     "inputWidgets": {},
     "nuid": "d0212a02-a9bb-4bdd-ad10-608f4476299d",
     "showTitle": false,
     "title": ""
    }
   },
   "outputs": [
    {
     "output_type": "stream",
     "name": "stdout",
     "output_type": "stream",
     "text": [
      "Out[13]: 1888"
     ]
    }
   ],
   "source": [
    "df.count()"
   ]
  },
  {
   "cell_type": "code",
   "execution_count": 0,
   "metadata": {
    "application/vnd.databricks.v1+cell": {
     "cellMetadata": {
      "byteLimit": 2048000,
      "rowLimit": 10000
     },
     "inputWidgets": {},
     "nuid": "86e851ba-5f01-4851-9931-e4e30f3f1cf5",
     "showTitle": false,
     "title": ""
    }
   },
   "outputs": [],
   "source": [
    "train, test = df.randomSplit(weights=[0.8,0.2], seed=200)\n",
    "train = train.select(\"*\").orderBy(rand())\n",
    "test = test.select(\"*\").orderBy(rand())"
   ]
  },
  {
   "cell_type": "markdown",
   "metadata": {
    "application/vnd.databricks.v1+cell": {
     "cellMetadata": {},
     "inputWidgets": {},
     "nuid": "e4c27229-49a1-4764-ae0c-b3334c8ef1fe",
     "showTitle": false,
     "title": ""
    }
   },
   "source": [
    "#### Split into Train and Test datasets and Shuffle"
   ]
  },
  {
   "cell_type": "code",
   "execution_count": 0,
   "metadata": {
    "application/vnd.databricks.v1+cell": {
     "cellMetadata": {
      "byteLimit": 2048000,
      "rowLimit": 10000
     },
     "inputWidgets": {},
     "nuid": "f4f62c07-0089-448a-8664-a0f2111c6393",
     "showTitle": false,
     "title": ""
    }
   },
   "outputs": [
    {
     "output_type": "stream",
     "name": "stdout",
     "output_type": "stream",
     "text": [
      "Out[31]: 0.49933774834437084"
     ]
    }
   ],
   "source": [
    "train.filter(train['fake_review']==1).count()/train.count()"
   ]
  },
  {
   "cell_type": "code",
   "execution_count": 0,
   "metadata": {
    "application/vnd.databricks.v1+cell": {
     "cellMetadata": {
      "byteLimit": 2048000,
      "rowLimit": 10000
     },
     "inputWidgets": {},
     "nuid": "55b34ec4-d189-4151-87df-1d85575af600",
     "showTitle": false,
     "title": ""
    }
   },
   "outputs": [],
   "source": [
    "test.filter(test['fake_review']==1).count()/test.count()"
   ]
  },
  {
   "cell_type": "code",
   "execution_count": 0,
   "metadata": {
    "application/vnd.databricks.v1+cell": {
     "cellMetadata": {
      "byteLimit": 2048000,
      "rowLimit": 10000
     },
     "inputWidgets": {},
     "nuid": "f740f578-32ae-4bec-828b-033fddd99562",
     "showTitle": false,
     "title": ""
    }
   },
   "outputs": [],
   "source": [
    "train.printSchema()"
   ]
  },
  {
   "cell_type": "markdown",
   "metadata": {
    "application/vnd.databricks.v1+cell": {
     "cellMetadata": {},
     "inputWidgets": {},
     "nuid": "721f8cef-6bce-429d-bd19-2cc0a4265075",
     "showTitle": false,
     "title": ""
    }
   },
   "source": [
    "### Models"
   ]
  },
  {
   "cell_type": "markdown",
   "metadata": {
    "application/vnd.databricks.v1+cell": {
     "cellMetadata": {},
     "inputWidgets": {},
     "nuid": "5f4da5f4-e821-406c-9904-43f83f08b43a",
     "showTitle": false,
     "title": ""
    }
   },
   "source": [
    "##### Logistic Regression"
   ]
  },
  {
   "cell_type": "code",
   "execution_count": 0,
   "metadata": {
    "application/vnd.databricks.v1+cell": {
     "cellMetadata": {
      "byteLimit": 2048000,
      "rowLimit": 10000
     },
     "inputWidgets": {},
     "nuid": "6eb88df3-1803-46bb-b455-9abdbead111a",
     "showTitle": false,
     "title": ""
    }
   },
   "outputs": [
    {
     "output_type": "stream",
     "name": "stdout",
     "output_type": "stream",
     "text": [
      "Out[32]: 0.7052980132450332"
     ]
    }
   ],
   "source": [
    "#Train model\n",
    "\n",
    "log_reg = LogisticRegression(featuresCol='vector_reviews', labelCol='fake_review')\n",
    "log_reg = log_reg.fit(train)\n",
    "res = log_reg.transform(train)\n",
    "res.filter(res.fake_review == res.prediction).count()/res.count() ## Train Accuracy"
   ]
  },
  {
   "cell_type": "code",
   "execution_count": 0,
   "metadata": {
    "application/vnd.databricks.v1+cell": {
     "cellMetadata": {
      "byteLimit": 2048000,
      "rowLimit": 10000
     },
     "inputWidgets": {},
     "nuid": "1fcaccb9-3e4c-4c8a-81ea-2d731416437e",
     "showTitle": false,
     "title": ""
    }
   },
   "outputs": [
    {
     "output_type": "stream",
     "name": "stdout",
     "output_type": "stream",
     "text": [
      "Out[33]: 0.6851851851851852"
     ]
    }
   ],
   "source": [
    "## Test Accuracy\n",
    "res = log_reg.transform(test)\n",
    "res.filter(res.fake_review == res.prediction).count()/res.count() "
   ]
  },
  {
   "cell_type": "markdown",
   "metadata": {
    "application/vnd.databricks.v1+cell": {
     "cellMetadata": {},
     "inputWidgets": {},
     "nuid": "9ef16554-be56-47bb-992a-b3740daf9307",
     "showTitle": false,
     "title": ""
    }
   },
   "source": [
    "##### Linear SVM"
   ]
  },
  {
   "cell_type": "code",
   "execution_count": 0,
   "metadata": {
    "application/vnd.databricks.v1+cell": {
     "cellMetadata": {
      "byteLimit": 2048000,
      "rowLimit": 10000
     },
     "inputWidgets": {},
     "nuid": "350c65f6-5dba-4aff-b744-63b39130d54c",
     "showTitle": false,
     "title": ""
    }
   },
   "outputs": [
    {
     "output_type": "stream",
     "name": "stdout",
     "output_type": "stream",
     "text": [
      "Out[34]: 0.6589403973509934"
     ]
    }
   ],
   "source": [
    "# Train model\n",
    "\n",
    "lsvc = LinearSVC(featuresCol='vector_reviews', labelCol=\"fake_review\", maxIter=50)\n",
    "lsvc = lsvc.fit(train)\n",
    "res = lsvc.transform(train)\n",
    "res.filter(res.fake_review == res.prediction).count()/res.count() ## Train Accuracy"
   ]
  },
  {
   "cell_type": "code",
   "execution_count": 0,
   "metadata": {
    "application/vnd.databricks.v1+cell": {
     "cellMetadata": {
      "byteLimit": 2048000,
      "rowLimit": 10000
     },
     "inputWidgets": {},
     "nuid": "aaed058e-c78d-45c3-9cfa-1b73b4fda9e1",
     "showTitle": false,
     "title": ""
    }
   },
   "outputs": [
    {
     "output_type": "stream",
     "name": "stdout",
     "output_type": "stream",
     "text": [
      "Out[35]: 0.6534391534391535"
     ]
    }
   ],
   "source": [
    "## Test Accuracy\n",
    "res = lsvc.transform(test)\n",
    "res.filter(res.fake_review == res.prediction).count()/res.count() "
   ]
  },
  {
   "cell_type": "markdown",
   "metadata": {
    "application/vnd.databricks.v1+cell": {
     "cellMetadata": {},
     "inputWidgets": {},
     "nuid": "afd62dbf-0111-4d6d-9693-d3b7dc849256",
     "showTitle": false,
     "title": ""
    }
   },
   "source": [
    "##### Decision Tree"
   ]
  },
  {
   "cell_type": "code",
   "execution_count": 0,
   "metadata": {
    "application/vnd.databricks.v1+cell": {
     "cellMetadata": {
      "byteLimit": 2048000,
      "rowLimit": 10000
     },
     "inputWidgets": {},
     "nuid": "4f66863e-2bd3-443a-a5c1-48d8536ba10c",
     "showTitle": false,
     "title": ""
    }
   },
   "outputs": [
    {
     "output_type": "stream",
     "name": "stdout",
     "output_type": "stream",
     "text": [
      "Out[36]: 0.7245033112582782"
     ]
    }
   ],
   "source": [
    "#Train model\n",
    "\n",
    "dtc = DecisionTreeClassifier(featuresCol='vector_reviews', labelCol=\"fake_review\")\n",
    "dtc = dtc.fit(train)\n",
    "res = dtc.transform(train)\n",
    "res.filter(res.fake_review == res.prediction).count()/res.count() ## Train Accuracy"
   ]
  },
  {
   "cell_type": "code",
   "execution_count": 0,
   "metadata": {
    "application/vnd.databricks.v1+cell": {
     "cellMetadata": {
      "byteLimit": 2048000,
      "rowLimit": 10000
     },
     "inputWidgets": {},
     "nuid": "4b2a2082-cabb-4473-a5a0-eed7d21055da",
     "showTitle": false,
     "title": ""
    }
   },
   "outputs": [
    {
     "output_type": "stream",
     "name": "stdout",
     "output_type": "stream",
     "text": [
      "Out[37]: 0.701058201058201"
     ]
    }
   ],
   "source": [
    "## Test Accuracy\n",
    "res = dtc.transform(test)\n",
    "res.filter(res.fake_review == res.prediction).count()/res.count() "
   ]
  },
  {
   "cell_type": "markdown",
   "metadata": {
    "application/vnd.databricks.v1+cell": {
     "cellMetadata": {},
     "inputWidgets": {},
     "nuid": "1ea3867d-a64d-4446-9838-0fdb35483461",
     "showTitle": false,
     "title": ""
    }
   },
   "source": [
    "##### Random Forest"
   ]
  },
  {
   "cell_type": "code",
   "execution_count": 0,
   "metadata": {
    "application/vnd.databricks.v1+cell": {
     "cellMetadata": {
      "byteLimit": 2048000,
      "rowLimit": 10000
     },
     "inputWidgets": {},
     "nuid": "a0b4fef1-38c8-455f-b999-5144c179bf40",
     "showTitle": false,
     "title": ""
    }
   },
   "outputs": [
    {
     "output_type": "stream",
     "name": "stdout",
     "output_type": "stream",
     "text": [
      "Out[38]: 0.7225165562913908"
     ]
    }
   ],
   "source": [
    "#Train model\n",
    "\n",
    "rfc = RandomForestClassifier(featuresCol='vector_reviews', labelCol=\"fake_review\", numTrees=10)\n",
    "rfc = rfc.fit(train)\n",
    "res = rfc.transform(train)\n",
    "res.filter(res.fake_review == res.prediction).count()/res.count() ## Train Accuracy"
   ]
  },
  {
   "cell_type": "code",
   "execution_count": 0,
   "metadata": {
    "application/vnd.databricks.v1+cell": {
     "cellMetadata": {
      "byteLimit": 2048000,
      "rowLimit": 10000
     },
     "inputWidgets": {},
     "nuid": "64c4ae49-3d6a-4c04-ad4d-c1aec1a8a528",
     "showTitle": false,
     "title": ""
    }
   },
   "outputs": [
    {
     "output_type": "stream",
     "name": "stdout",
     "output_type": "stream",
     "text": [
      "Out[39]: 0.6851851851851852"
     ]
    }
   ],
   "source": [
    "## Test Accuracy\n",
    "res = rfc.transform(test)\n",
    "res.filter(res.fake_review == res.prediction).count()/res.count() "
   ]
  },
  {
   "cell_type": "markdown",
   "metadata": {
    "application/vnd.databricks.v1+cell": {
     "cellMetadata": {},
     "inputWidgets": {},
     "nuid": "cfa43145-2a46-42ed-9ad0-f289cdae1781",
     "showTitle": false,
     "title": ""
    }
   },
   "source": [
    "##### Gradient Boost"
   ]
  },
  {
   "cell_type": "code",
   "execution_count": 0,
   "metadata": {
    "application/vnd.databricks.v1+cell": {
     "cellMetadata": {
      "byteLimit": 2048000,
      "rowLimit": 10000
     },
     "inputWidgets": {},
     "nuid": "df086a45-e80b-4527-8d3e-48fbe28fb1a8",
     "showTitle": false,
     "title": ""
    }
   },
   "outputs": [
    {
     "output_type": "stream",
     "name": "stdout",
     "output_type": "stream",
     "text": [
      "Out[40]: 0.828476821192053"
     ]
    }
   ],
   "source": [
    "#Train model\n",
    "\n",
    "gbtc = GBTClassifier(featuresCol='vector_reviews', labelCol=\"fake_review\", maxIter=10)\n",
    "gbtc = gbtc.fit(train)\n",
    "res = gbtc.transform(train)\n",
    "res.filter(res.fake_review == res.prediction).count()/res.count() ## Train Accuracy"
   ]
  },
  {
   "cell_type": "code",
   "execution_count": 0,
   "metadata": {
    "application/vnd.databricks.v1+cell": {
     "cellMetadata": {
      "byteLimit": 2048000,
      "rowLimit": 10000
     },
     "inputWidgets": {},
     "nuid": "77aeeebe-6821-4242-976e-8df7c9f17900",
     "showTitle": false,
     "title": ""
    }
   },
   "outputs": [
    {
     "output_type": "stream",
     "name": "stdout",
     "output_type": "stream",
     "text": [
      "Out[41]: 0.7222222222222222"
     ]
    }
   ],
   "source": [
    "## Test Accuracy\n",
    "res = gbtc.transform(test)\n",
    "res.filter(res.fake_review == res.prediction).count()/res.count() "
   ]
  },
  {
   "cell_type": "markdown",
   "metadata": {
    "application/vnd.databricks.v1+cell": {
     "cellMetadata": {},
     "inputWidgets": {},
     "nuid": "e5aeb0f2-aa62-4947-89fb-6617f3e202ac",
     "showTitle": false,
     "title": ""
    }
   },
   "source": [
    "##### Multilayer Perceptron"
   ]
  },
  {
   "cell_type": "code",
   "execution_count": 0,
   "metadata": {
    "application/vnd.databricks.v1+cell": {
     "cellMetadata": {
      "byteLimit": 2048000,
      "rowLimit": 10000
     },
     "inputWidgets": {},
     "nuid": "37a23297-6b87-4670-9bae-009b9d2a88a8",
     "showTitle": false,
     "title": ""
    }
   },
   "outputs": [
    {
     "output_type": "stream",
     "name": "stdout",
     "output_type": "stream",
     "text": [
      "Out[42]: 0.8509933774834437"
     ]
    }
   ],
   "source": [
    "#Train model \n",
    "\n",
    "layers = [100, 64, 32, 8, 2]\n",
    "\n",
    "mlpc = MultilayerPerceptronClassifier(featuresCol='vector_reviews', labelCol=\"fake_review\", maxIter=1000, layers=layers, blockSize=128, seed=132)\n",
    "mlpc = mlpc.fit(train)\n",
    "res = mlpc.transform(train)\n",
    "res.filter(res.fake_review == res.prediction).count()/res.count() ## Train Accuracy"
   ]
  },
  {
   "cell_type": "code",
   "execution_count": 0,
   "metadata": {
    "application/vnd.databricks.v1+cell": {
     "cellMetadata": {
      "byteLimit": 2048000,
      "rowLimit": 10000
     },
     "inputWidgets": {},
     "nuid": "98ef6272-8f84-4402-8f32-60a2d2e76cee",
     "showTitle": false,
     "title": ""
    }
   },
   "outputs": [
    {
     "output_type": "stream",
     "name": "stdout",
     "output_type": "stream",
     "text": [
      "Out[43]: 0.7645502645502645"
     ]
    }
   ],
   "source": [
    "## Test Accuracy\n",
    "res = mlpc.transform(test)\n",
    "res.filter(res.fake_review == res.prediction).count()/res.count() "
   ]
  },
  {
   "cell_type": "code",
   "execution_count": 0,
   "metadata": {
    "application/vnd.databricks.v1+cell": {
     "cellMetadata": {},
     "inputWidgets": {},
     "nuid": "a3dcd222-a171-471a-9fff-5f33f4abcd6b",
     "showTitle": false,
     "title": ""
    }
   },
   "outputs": [],
   "source": []
  }
 ],
 "metadata": {
  "application/vnd.databricks.v1+notebook": {
   "dashboards": [],
   "language": "python",
   "notebookMetadata": {
    "pythonIndentUnit": 4
   },
   "notebookName": "2023-11-22-sentiment_score",
   "widgets": {}
  }
 },
 "nbformat": 4,
 "nbformat_minor": 0
}
