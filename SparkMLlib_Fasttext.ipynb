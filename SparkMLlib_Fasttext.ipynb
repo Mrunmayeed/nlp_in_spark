{
 "cells": [
  {
   "cell_type": "markdown",
   "metadata": {
    "application/vnd.databricks.v1+cell": {
     "cellMetadata": {},
     "inputWidgets": {},
     "nuid": "1d9b8893-69f6-4eb2-b225-75c0e0f011a1",
     "showTitle": false,
     "title": ""
    }
   },
   "source": [
    "###Sentiment Analysis of Movie Reviews"
   ]
  },
  {
   "cell_type": "code",
   "execution_count": 0,
   "metadata": {
    "application/vnd.databricks.v1+cell": {
     "cellMetadata": {
      "byteLimit": 2048000,
      "rowLimit": 10000
     },
     "inputWidgets": {},
     "nuid": "05e4be8e-c893-4fd3-9f28-11196d6557be",
     "showTitle": false,
     "title": ""
    }
   },
   "outputs": [],
   "source": [
    "from pyspark.sql.types import (StringType, BooleanType, IntegerType, FloatType, DateType, ArrayType, DoubleType) \n",
    "from pyspark.sql.functions import col, udf, array_join, split, shuffle, rand\n",
    "from pyspark.ml.feature import StopWordsRemover, Tokenizer\n",
    "from pyspark.ml.functions import array_to_vector\n",
    "from pyspark.ml.classification import LogisticRegression, LinearSVC, DecisionTreeClassifier, RandomForestClassifier, GBTClassifier, MultilayerPerceptronClassifier\n",
    "from nltk.stem import WordNetLemmatizer\n",
    "from nltk.sentiment.vader import SentimentIntensityAnalyzer\n",
    "from imblearn.over_sampling import SMOTE\n",
    "import numpy as np\n",
    "import pandas as pd\n",
    "from gensim.models import Word2Vec, FastText\n",
    "import matplotlib.pyplot as plt"
   ]
  },
  {
   "cell_type": "code",
   "execution_count": 0,
   "metadata": {
    "application/vnd.databricks.v1+cell": {
     "cellMetadata": {
      "byteLimit": 2048000,
      "rowLimit": 10000
     },
     "inputWidgets": {},
     "nuid": "d3f1b979-e65b-40cb-ab31-2ebad07c84df",
     "showTitle": false,
     "title": ""
    }
   },
   "outputs": [
    {
     "output_type": "stream",
     "name": "stderr",
     "output_type": "stream",
     "text": [
      "[nltk_data] Downloading collection 'all'\n[nltk_data]    | \n[nltk_data]    | Downloading package abc to /root/nltk_data...\n[nltk_data]    |   Package abc is already up-to-date!\n[nltk_data]    | Downloading package alpino to /root/nltk_data...\n[nltk_data]    |   Package alpino is already up-to-date!\n[nltk_data]    | Downloading package averaged_perceptron_tagger to\n[nltk_data]    |     /root/nltk_data...\n[nltk_data]    |   Package averaged_perceptron_tagger is already up-\n[nltk_data]    |       to-date!\n[nltk_data]    | Downloading package averaged_perceptron_tagger_ru to\n[nltk_data]    |     /root/nltk_data...\n[nltk_data]    |   Package averaged_perceptron_tagger_ru is already\n[nltk_data]    |       up-to-date!\n[nltk_data]    | Downloading package basque_grammars to\n[nltk_data]    |     /root/nltk_data...\n[nltk_data]    |   Package basque_grammars is already up-to-date!\n[nltk_data]    | Downloading package bcp47 to /root/nltk_data...\n[nltk_data]    |   Package bcp47 is already up-to-date!\n[nltk_data]    | Downloading package biocreative_ppi to\n[nltk_data]    |     /root/nltk_data...\n[nltk_data]    |   Package biocreative_ppi is already up-to-date!\n[nltk_data]    | Downloading package bllip_wsj_no_aux to\n[nltk_data]    |     /root/nltk_data...\n[nltk_data]    |   Package bllip_wsj_no_aux is already up-to-date!\n[nltk_data]    | Downloading package book_grammars to\n[nltk_data]    |     /root/nltk_data...\n[nltk_data]    |   Package book_grammars is already up-to-date!\n[nltk_data]    | Downloading package brown to /root/nltk_data...\n[nltk_data]    |   Package brown is already up-to-date!\n[nltk_data]    | Downloading package brown_tei to /root/nltk_data...\n[nltk_data]    |   Package brown_tei is already up-to-date!\n[nltk_data]    | Downloading package cess_cat to /root/nltk_data...\n[nltk_data]    |   Package cess_cat is already up-to-date!\n[nltk_data]    | Downloading package cess_esp to /root/nltk_data...\n[nltk_data]    |   Package cess_esp is already up-to-date!\n[nltk_data]    | Downloading package chat80 to /root/nltk_data...\n[nltk_data]    |   Package chat80 is already up-to-date!\n[nltk_data]    | Downloading package city_database to\n[nltk_data]    |     /root/nltk_data...\n[nltk_data]    |   Package city_database is already up-to-date!\n[nltk_data]    | Downloading package cmudict to /root/nltk_data...\n[nltk_data]    |   Package cmudict is already up-to-date!\n[nltk_data]    | Downloading package comparative_sentences to\n[nltk_data]    |     /root/nltk_data...\n[nltk_data]    |   Package comparative_sentences is already up-to-\n[nltk_data]    |       date!\n[nltk_data]    | Downloading package comtrans to /root/nltk_data...\n[nltk_data]    |   Package comtrans is already up-to-date!\n[nltk_data]    | Downloading package conll2000 to /root/nltk_data...\n[nltk_data]    |   Package conll2000 is already up-to-date!\n[nltk_data]    | Downloading package conll2002 to /root/nltk_data...\n[nltk_data]    |   Package conll2002 is already up-to-date!\n[nltk_data]    | Downloading package conll2007 to /root/nltk_data...\n[nltk_data]    |   Package conll2007 is already up-to-date!\n[nltk_data]    | Downloading package crubadan to /root/nltk_data...\n[nltk_data]    |   Package crubadan is already up-to-date!\n[nltk_data]    | Downloading package dependency_treebank to\n[nltk_data]    |     /root/nltk_data...\n[nltk_data]    |   Package dependency_treebank is already up-to-date!\n[nltk_data]    | Downloading package dolch to /root/nltk_data...\n[nltk_data]    |   Package dolch is already up-to-date!\n[nltk_data]    | Downloading package europarl_raw to\n[nltk_data]    |     /root/nltk_data...\n[nltk_data]    |   Package europarl_raw is already up-to-date!\n[nltk_data]    | Downloading package extended_omw to\n[nltk_data]    |     /root/nltk_data...\n[nltk_data]    |   Package extended_omw is already up-to-date!\n[nltk_data]    | Downloading package floresta to /root/nltk_data...\n[nltk_data]    |   Package floresta is already up-to-date!\n[nltk_data]    | Downloading package framenet_v15 to\n[nltk_data]    |     /root/nltk_data...\n[nltk_data]    |   Package framenet_v15 is already up-to-date!\n[nltk_data]    | Downloading package framenet_v17 to\n[nltk_data]    |     /root/nltk_data...\n[nltk_data]    |   Package framenet_v17 is already up-to-date!\n[nltk_data]    | Downloading package gazetteers to /root/nltk_data...\n[nltk_data]    |   Package gazetteers is already up-to-date!\n[nltk_data]    | Downloading package genesis to /root/nltk_data...\n[nltk_data]    |   Package genesis is already up-to-date!\n[nltk_data]    | Downloading package gutenberg to /root/nltk_data...\n[nltk_data]    |   Package gutenberg is already up-to-date!\n[nltk_data]    | Downloading package ieer to /root/nltk_data...\n[nltk_data]    |   Package ieer is already up-to-date!\n[nltk_data]    | Downloading package inaugural to /root/nltk_data...\n[nltk_data]    |   Package inaugural is already up-to-date!\n[nltk_data]    | Downloading package indian to /root/nltk_data...\n[nltk_data]    |   Package indian is already up-to-date!\n[nltk_data]    | Downloading package jeita to /root/nltk_data...\n[nltk_data]    |   Package jeita is already up-to-date!\n[nltk_data]    | Downloading package kimmo to /root/nltk_data...\n[nltk_data]    |   Package kimmo is already up-to-date!\n[nltk_data]    | Downloading package knbc to /root/nltk_data...\n[nltk_data]    |   Package knbc is already up-to-date!\n[nltk_data]    | Downloading package large_grammars to\n[nltk_data]    |     /root/nltk_data...\n[nltk_data]    |   Package large_grammars is already up-to-date!\n[nltk_data]    | Downloading package lin_thesaurus to\n[nltk_data]    |     /root/nltk_data...\n[nltk_data]    |   Package lin_thesaurus is already up-to-date!\n[nltk_data]    | Downloading package mac_morpho to /root/nltk_data...\n[nltk_data]    |   Package mac_morpho is already up-to-date!\n[nltk_data]    | Downloading package machado to /root/nltk_data...\n[nltk_data]    |   Package machado is already up-to-date!\n[nltk_data]    | Downloading package masc_tagged to /root/nltk_data...\n[nltk_data]    |   Package masc_tagged is already up-to-date!\n[nltk_data]    | Downloading package maxent_ne_chunker to\n[nltk_data]    |     /root/nltk_data...\n[nltk_data]    |   Package maxent_ne_chunker is already up-to-date!\n[nltk_data]    | Downloading package maxent_treebank_pos_tagger to\n[nltk_data]    |     /root/nltk_data...\n[nltk_data]    |   Package maxent_treebank_pos_tagger is already up-\n[nltk_data]    |       to-date!\n[nltk_data]    | Downloading package moses_sample to\n[nltk_data]    |     /root/nltk_data...\n[nltk_data]    |   Package moses_sample is already up-to-date!\n[nltk_data]    | Downloading package movie_reviews to\n[nltk_data]    |     /root/nltk_data...\n[nltk_data]    |   Package movie_reviews is already up-to-date!\n[nltk_data]    | Downloading package mte_teip5 to /root/nltk_data...\n[nltk_data]    |   Package mte_teip5 is already up-to-date!\n[nltk_data]    | Downloading package mwa_ppdb to /root/nltk_data...\n[nltk_data]    |   Package mwa_ppdb is already up-to-date!\n[nltk_data]    | Downloading package names to /root/nltk_data...\n[nltk_data]    |   Package names is already up-to-date!\n[nltk_data]    | Downloading package nombank.1.0 to /root/nltk_data...\n[nltk_data]    |   Package nombank.1.0 is already up-to-date!\n[nltk_data]    | Downloading package nonbreaking_prefixes to\n[nltk_data]    |     /root/nltk_data...\n[nltk_data]    |   Package nonbreaking_prefixes is already up-to-date!\n[nltk_data]    | Downloading package nps_chat to /root/nltk_data...\n[nltk_data]    |   Package nps_chat is already up-to-date!\n[nltk_data]    | Downloading package omw to /root/nltk_data...\n[nltk_data]    |   Package omw is already up-to-date!\n[nltk_data]    | Downloading package omw-1.4 to /root/nltk_data...\n[nltk_data]    |   Package omw-1.4 is already up-to-date!\n[nltk_data]    | Downloading package opinion_lexicon to\n[nltk_data]    |     /root/nltk_data...\n[nltk_data]    |   Package opinion_lexicon is already up-to-date!\n[nltk_data]    | Downloading package panlex_swadesh to\n[nltk_data]    |     /root/nltk_data...\n[nltk_data]    |   Package panlex_swadesh is already up-to-date!\n[nltk_data]    | Downloading package paradigms to /root/nltk_data...\n[nltk_data]    |   Package paradigms is already up-to-date!\n[nltk_data]    | Downloading package pe08 to /root/nltk_data...\n[nltk_data]    |   Package pe08 is already up-to-date!\n[nltk_data]    | Downloading package perluniprops to\n[nltk_data]    |     /root/nltk_data...\n[nltk_data]    |   Package perluniprops is already up-to-date!\n[nltk_data]    | Downloading package pil to /root/nltk_data...\n[nltk_data]    |   Package pil is already up-to-date!\n[nltk_data]    | Downloading package pl196x to /root/nltk_data...\n[nltk_data]    |   Package pl196x is already up-to-date!\n[nltk_data]    | Downloading package porter_test to /root/nltk_data...\n[nltk_data]    |   Package porter_test is already up-to-date!\n[nltk_data]    | Downloading package ppattach to /root/nltk_data...\n[nltk_data]    |   Package ppattach is already up-to-date!\n[nltk_data]    | Downloading package problem_reports to\n[nltk_data]    |     /root/nltk_data...\n[nltk_data]    |   Package problem_reports is already up-to-date!\n[nltk_data]    | Downloading package product_reviews_1 to\n[nltk_data]    |     /root/nltk_data...\n[nltk_data]    |   Package product_reviews_1 is already up-to-date!\n[nltk_data]    | Downloading package product_reviews_2 to\n[nltk_data]    |     /root/nltk_data...\n[nltk_data]    |   Package product_reviews_2 is already up-to-date!\n[nltk_data]    | Downloading package propbank to /root/nltk_data...\n[nltk_data]    |   Package propbank is already up-to-date!\n[nltk_data]    | Downloading package pros_cons to /root/nltk_data...\n[nltk_data]    |   Package pros_cons is already up-to-date!\n[nltk_data]    | Downloading package ptb to /root/nltk_data...\n[nltk_data]    |   Package ptb is already up-to-date!\n[nltk_data]    | Downloading package punkt to /root/nltk_data...\n[nltk_data]    |   Package punkt is already up-to-date!\n[nltk_data]    | Downloading package qc to /root/nltk_data...\n[nltk_data]    |   Package qc is already up-to-date!\n[nltk_data]    | Downloading package reuters to /root/nltk_data...\n[nltk_data]    |   Package reuters is already up-to-date!\n[nltk_data]    | Downloading package rslp to /root/nltk_data...\n[nltk_data]    |   Package rslp is already up-to-date!\n[nltk_data]    | Downloading package rte to /root/nltk_data...\n[nltk_data]    |   Package rte is already up-to-date!\n[nltk_data]    | Downloading package sample_grammars to\n[nltk_data]    |     /root/nltk_data...\n[nltk_data]    |   Package sample_grammars is already up-to-date!\n[nltk_data]    | Downloading package semcor to /root/nltk_data...\n[nltk_data]    |   Package semcor is already up-to-date!\n[nltk_data]    | Downloading package senseval to /root/nltk_data...\n[nltk_data]    |   Package senseval is already up-to-date!\n[nltk_data]    | Downloading package sentence_polarity to\n[nltk_data]    |     /root/nltk_data...\n[nltk_data]    |   Package sentence_polarity is already up-to-date!\n[nltk_data]    | Downloading package sentiwordnet to\n[nltk_data]    |     /root/nltk_data...\n[nltk_data]    |   Package sentiwordnet is already up-to-date!\n[nltk_data]    | Downloading package shakespeare to /root/nltk_data...\n[nltk_data]    |   Package shakespeare is already up-to-date!\n[nltk_data]    | Downloading package sinica_treebank to\n[nltk_data]    |     /root/nltk_data...\n[nltk_data]    |   Package sinica_treebank is already up-to-date!\n[nltk_data]    | Downloading package smultron to /root/nltk_data...\n[nltk_data]    |   Package smultron is already up-to-date!\n[nltk_data]    | Downloading package snowball_data to\n[nltk_data]    |     /root/nltk_data...\n[nltk_data]    |   Package snowball_data is already up-to-date!\n[nltk_data]    | Downloading package spanish_grammars to\n[nltk_data]    |     /root/nltk_data...\n[nltk_data]    |   Package spanish_grammars is already up-to-date!\n[nltk_data]    | Downloading package state_union to /root/nltk_data...\n[nltk_data]    |   Package state_union is already up-to-date!\n[nltk_data]    | Downloading package stopwords to /root/nltk_data...\n[nltk_data]    |   Package stopwords is already up-to-date!\n[nltk_data]    | Downloading package subjectivity to\n[nltk_data]    |     /root/nltk_data...\n[nltk_data]    |   Package subjectivity is already up-to-date!\n[nltk_data]    | Downloading package swadesh to /root/nltk_data...\n[nltk_data]    |   Package swadesh is already up-to-date!\n[nltk_data]    | Downloading package switchboard to /root/nltk_data...\n[nltk_data]    |   Package switchboard is already up-to-date!\n[nltk_data]    | Downloading package tagsets to /root/nltk_data...\n[nltk_data]    |   Package tagsets is already up-to-date!\n[nltk_data]    | Downloading package timit to /root/nltk_data...\n[nltk_data]    |   Package timit is already up-to-date!\n[nltk_data]    | Downloading package toolbox to /root/nltk_data...\n[nltk_data]    |   Package toolbox is already up-to-date!\n[nltk_data]    | Downloading package treebank to /root/nltk_data...\n[nltk_data]    |   Package treebank is already up-to-date!\n[nltk_data]    | Downloading package twitter_samples to\n[nltk_data]    |     /root/nltk_data...\n[nltk_data]    |   Package twitter_samples is already up-to-date!\n[nltk_data]    | Downloading package udhr to /root/nltk_data...\n[nltk_data]    |   Package udhr is already up-to-date!\n[nltk_data]    | Downloading package udhr2 to /root/nltk_data...\n[nltk_data]    |   Package udhr2 is already up-to-date!\n[nltk_data]    | Downloading package unicode_samples to\n[nltk_data]    |     /root/nltk_data...\n[nltk_data]    |   Package unicode_samples is already up-to-date!\n[nltk_data]    | Downloading package universal_tagset to\n[nltk_data]    |     /root/nltk_data...\n[nltk_data]    |   Package universal_tagset is already up-to-date!\n[nltk_data]    | Downloading package universal_treebanks_v20 to\n[nltk_data]    |     /root/nltk_data...\n[nltk_data]    |   Package universal_treebanks_v20 is already up-to-\n[nltk_data]    |       date!\n[nltk_data]    | Downloading package vader_lexicon to\n[nltk_data]    |     /root/nltk_data...\n[nltk_data]    |   Package vader_lexicon is already up-to-date!\n[nltk_data]    | Downloading package verbnet to /root/nltk_data...\n[nltk_data]    |   Package verbnet is already up-to-date!\n[nltk_data]    | Downloading package verbnet3 to /root/nltk_data...\n[nltk_data]    |   Package verbnet3 is already up-to-date!\n[nltk_data]    | Downloading package webtext to /root/nltk_data...\n[nltk_data]    |   Package webtext is already up-to-date!\n[nltk_data]    | Downloading package wmt15_eval to /root/nltk_data...\n[nltk_data]    |   Package wmt15_eval is already up-to-date!\n[nltk_data]    | Downloading package word2vec_sample to\n[nltk_data]    |     /root/nltk_data...\n[nltk_data]    |   Package word2vec_sample is already up-to-date!\n[nltk_data]    | Downloading package wordnet to /root/nltk_data...\n[nltk_data]    |   Package wordnet is already up-to-date!\n[nltk_data]    | Downloading package wordnet2021 to /root/nltk_data...\n[nltk_data]    |   Package wordnet2021 is already up-to-date!\n[nltk_data]    | Downloading package wordnet2022 to /root/nltk_data...\n[nltk_data]    |   Package wordnet2022 is already up-to-date!\n[nltk_data]    | Downloading package wordnet31 to /root/nltk_data...\n[nltk_data]    |   Package wordnet31 is already up-to-date!\n[nltk_data]    | Downloading package wordnet_ic to /root/nltk_data...\n[nltk_data]    |   Package wordnet_ic is already up-to-date!\n[nltk_data]    | Downloading package words to /root/nltk_data...\n[nltk_data]    |   Package words is already up-to-date!\n[nltk_data]    | Downloading package ycoe to /root/nltk_data...\n[nltk_data]    |   Package ycoe is already up-to-date!\n[nltk_data]    | \n[nltk_data]  Done downloading collection all\n"
     ]
    },
    {
     "output_type": "stream",
     "name": "stdout",
     "output_type": "stream",
     "text": [
      "Out[49]: True"
     ]
    }
   ],
   "source": [
    "import nltk\n",
    "\n",
    "nltk.download('all')"
   ]
  },
  {
   "cell_type": "code",
   "execution_count": 0,
   "metadata": {
    "application/vnd.databricks.v1+cell": {
     "cellMetadata": {
      "byteLimit": 2048000,
      "rowLimit": 10000
     },
     "inputWidgets": {},
     "nuid": "6482be4c-f067-47c9-b0ac-35c938b94601",
     "showTitle": false,
     "title": ""
    }
   },
   "outputs": [],
   "source": [
    "# File location and type\n",
    "file_location = \"/FileStore/tables/movie_reviews.csv\"\n",
    "file_type = \"csv\"\n",
    "\n",
    "# CSV options\n",
    "infer_schema = \"true\"\n",
    "first_row_is_header = \"true\"\n",
    "delimiter = \",\"\n",
    "\n",
    "# The applied options are for CSV files. For other file types, these will be ignored.\n",
    "df = spark.read.format(file_type) \\\n",
    "  .option(\"inferSchema\", infer_schema) \\\n",
    "  .option(\"header\", first_row_is_header) \\\n",
    "  .option(\"sep\", delimiter) \\\n",
    "  .load(file_location)"
   ]
  },
  {
   "cell_type": "code",
   "execution_count": 0,
   "metadata": {
    "application/vnd.databricks.v1+cell": {
     "cellMetadata": {
      "byteLimit": 2048000,
      "rowLimit": 10000
     },
     "inputWidgets": {},
     "nuid": "ff4b4806-04bb-486c-bd95-5a341e47144d",
     "showTitle": false,
     "title": ""
    }
   },
   "outputs": [
    {
     "output_type": "stream",
     "name": "stdout",
     "output_type": "stream",
     "text": [
      "+--------------------+--------------------+--------------------+\n|                name|             reviews|             ratings|\n+--------------------+--------------------+--------------------+\n|      21 Jump Street|I thoroughly enjo...|                 4.5|\n|      21 Jump Street|A great work of c...|                 4.0|\n|      21 Jump Street|Infantile. Cringe...|                 0.5|\n|      21 Jump Street|A classic in mode...|                 5.0|\n|      21 Jump Street|LOL, the funniest...|                 5.0|\n|      21 Jump Street|Absolutely hilari...|                 5.0|\n|      21 Jump Street|Absolutely hilari...|                 4.5|\n|      21 Jump Street|Great self-aware ...|                 4.0|\n|      21 Jump Street|Wasn't sure how a...|                null|\n|One of 2012's bes...|                 4.0|                null|\n|      21 Jump Street|Very funny movie,...|                 4.5|\n|      21 Jump Street|Instant classic. ...|                 4.0|\n|      21 Jump Street|\"Super fun, it wo...| and I love those...|\n|      21 Jump Street|LOL, the funniest...|                 5.0|\n|      21 Jump Street|THEY THOUGHT THE ...|                null|\n|21 Jump Street is...|                null|                null|\n|                 Meh| it passed the ti...|                null|\n|            Just. 😐|                null|                null|\n|            👍🏼👎🏼|                null|                null|\n|      In high school| Schmidt was a do...| both of them joi...|\n+--------------------+--------------------+--------------------+\nonly showing top 20 rows\n\n"
     ]
    }
   ],
   "source": [
    "df.show()"
   ]
  },
  {
   "cell_type": "code",
   "execution_count": 0,
   "metadata": {
    "application/vnd.databricks.v1+cell": {
     "cellMetadata": {
      "byteLimit": 2048000,
      "rowLimit": 10000
     },
     "inputWidgets": {},
     "nuid": "0598c383-1cdb-4dee-a36c-3e2ee3bf4a50",
     "showTitle": false,
     "title": ""
    }
   },
   "outputs": [
    {
     "output_type": "stream",
     "name": "stdout",
     "output_type": "stream",
     "text": [
      "root\n |-- name: string (nullable = true)\n |-- reviews: string (nullable = true)\n |-- ratings: string (nullable = true)\n\n"
     ]
    }
   ],
   "source": [
    "df.printSchema()"
   ]
  },
  {
   "cell_type": "code",
   "execution_count": 0,
   "metadata": {
    "application/vnd.databricks.v1+cell": {
     "cellMetadata": {
      "byteLimit": 2048000,
      "rowLimit": 10000
     },
     "inputWidgets": {},
     "nuid": "f1c37cfb-dcb9-4854-8b05-04ea81f7bbde",
     "showTitle": false,
     "title": ""
    }
   },
   "outputs": [],
   "source": [
    "df.count()"
   ]
  },
  {
   "cell_type": "markdown",
   "metadata": {
    "application/vnd.databricks.v1+cell": {
     "cellMetadata": {},
     "inputWidgets": {},
     "nuid": "6ccecf08-d5f3-40c8-84bb-06e438abae9c",
     "showTitle": false,
     "title": ""
    }
   },
   "source": [
    "#### Data Cleaning"
   ]
  },
  {
   "cell_type": "code",
   "execution_count": 0,
   "metadata": {
    "application/vnd.databricks.v1+cell": {
     "cellMetadata": {
      "byteLimit": 2048000,
      "rowLimit": 10000
     },
     "inputWidgets": {},
     "nuid": "3470aa15-f77b-425c-8962-2b1a4495741f",
     "showTitle": false,
     "title": ""
    }
   },
   "outputs": [
    {
     "output_type": "stream",
     "name": "stdout",
     "output_type": "stream",
     "text": [
      "Out[51]: 1271"
     ]
    }
   ],
   "source": [
    "df = df.withColumn('cleaned_rating', df['ratings'].cast(\"double\")).drop('ratings')\n",
    "df = df.filter( (df.cleaned_rating.isNotNull()) & (df.cleaned_rating<5.1) & (df.cleaned_rating>-0.1) )\n",
    "df = df.select(df.reviews, df.cleaned_rating)\n",
    "df.count()"
   ]
  },
  {
   "cell_type": "code",
   "execution_count": 0,
   "metadata": {
    "application/vnd.databricks.v1+cell": {
     "cellMetadata": {
      "byteLimit": 2048000,
      "rowLimit": 10000
     },
     "inputWidgets": {},
     "nuid": "a129cc8c-62de-429e-ab0c-56777d163120",
     "showTitle": false,
     "title": ""
    }
   },
   "outputs": [
    {
     "output_type": "display_data",
     "data": {
      "image/png": "[encoded data removed]"
     },
     "metadata": {
      "application/vnd.databricks.v1+output": {
       "addedWidgets": {},
       "arguments": {},
       "data": "data:image/png;base64,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\n",
       "datasetInfos": [],
       "metadata": {},
       "removedWidgets": [],
       "type": "image"
      }
     },
     "output_type": "display_data"
    }
   ],
   "source": [
    "rating_count = df.groupBy(\"cleaned_rating\").count().orderBy('cleaned_rating')\n",
    "plt.bar(rating_count.rdd.map(lambda x:x['cleaned_rating']).collect(), rating_count.rdd.map(lambda x:x['count']).collect())\n",
    "plt.title(\"Ratings distribution\",)\n",
    "plt.show()"
   ]
  },
  {
   "cell_type": "code",
   "execution_count": 0,
   "metadata": {
    "application/vnd.databricks.v1+cell": {
     "cellMetadata": {
      "byteLimit": 2048000,
      "rowLimit": 10000
     },
     "inputWidgets": {},
     "nuid": "c46fda92-9768-4e2a-8eac-1cec755d8217",
     "showTitle": false,
     "title": ""
    }
   },
   "outputs": [],
   "source": [
    "@udf\n",
    "def lower_clean_str(x):\n",
    "  punc='!\"#$%&\\'()*+,-./:;<=>?@[\\\\]^_`{|}~'\n",
    "  lowercased_str = x.lower()\n",
    "  for ch in punc:\n",
    "    lowercased_str = lowercased_str.replace(ch, '')\n",
    "  return lowercased_str\n",
    "\n",
    "df = df.withColumn('cleaned_review', lower_clean_str(df[\"reviews\"])).drop('reviews')"
   ]
  },
  {
   "cell_type": "markdown",
   "metadata": {
    "application/vnd.databricks.v1+cell": {
     "cellMetadata": {},
     "inputWidgets": {},
     "nuid": "eef2b61c-03d1-4011-8cbd-6fac6ad76a2b",
     "showTitle": false,
     "title": ""
    }
   },
   "source": [
    "#### Calculate Sentiment Score and Assign Label"
   ]
  },
  {
   "cell_type": "code",
   "execution_count": 0,
   "metadata": {
    "application/vnd.databricks.v1+cell": {
     "cellMetadata": {
      "byteLimit": 2048000,
      "rowLimit": 10000
     },
     "inputWidgets": {},
     "nuid": "fe4b4916-317d-4059-9369-045d2179f049",
     "showTitle": false,
     "title": ""
    }
   },
   "outputs": [
    {
     "output_type": "stream",
     "name": "stdout",
     "output_type": "stream",
     "text": [
      "+--------------+--------------------+-----------+\n|cleaned_rating|      cleaned_review|fake_review|\n+--------------+--------------------+-----------+\n|           4.5|i thoroughly enjo...|          0|\n|           4.0|a great work of c...|          0|\n|           0.5|infantile cringew...|          0|\n|           5.0|a classic in mode...|          0|\n|           5.0|lol the funniest ...|          0|\n|           5.0|absolutely hilari...|          0|\n|           4.5|absolutely hilari...|          0|\n|           4.0|great selfaware a...|          0|\n|           4.5|very funny movie ...|          0|\n|           4.0|instant classic i...|          0|\n|           5.0|lol the funniest ...|          0|\n|           0.5|they changed my b...|          0|\n|           5.0|best movie of tgu...|          0|\n|           5.0|thank you jonah f...|          0|\n|           5.0|amazing movie fan...|          0|\n|           3.5|2nd watch 67 defi...|          1|\n|           3.5|21 jump street is...|          1|\n|           4.0|this movie is so ...|          0|\n|           5.0|there is so much ...|          0|\n|           1.0|childish and moro...|          1|\n+--------------+--------------------+-----------+\nonly showing top 20 rows\n\n"
     ]
    }
   ],
   "source": [
    "# Create sentiment score\n",
    "\n",
    "analyzer = SentimentIntensityAnalyzer()\n",
    "@udf\n",
    "def fake_review(text, ratings):\n",
    "    scores = analyzer.polarity_scores(text)\n",
    "    if scores['pos'] > 0 and ratings<4:\n",
    "        return 1\n",
    "    elif scores['pos'] < 0 and ratings>=4:\n",
    "        return 1\n",
    "    return 0\n",
    "\n",
    "df = df.withColumn('fake_review', fake_review(df[\"cleaned_review\"], df['cleaned_rating']))\n",
    "df = df.withColumn('fake_review',df['fake_review'].cast('int'))\n",
    "df.show()"
   ]
  },
  {
   "cell_type": "code",
   "execution_count": 0,
   "metadata": {
    "application/vnd.databricks.v1+cell": {
     "cellMetadata": {
      "byteLimit": 2048000,
      "rowLimit": 10000
     },
     "inputWidgets": {},
     "nuid": "a4eee73b-6a4d-4703-bdc4-e2fdaf2845fa",
     "showTitle": false,
     "title": ""
    }
   },
   "outputs": [],
   "source": [
    "df.printSchema()"
   ]
  },
  {
   "cell_type": "code",
   "execution_count": 0,
   "metadata": {
    "application/vnd.databricks.v1+cell": {
     "cellMetadata": {
      "byteLimit": 2048000,
      "rowLimit": 10000
     },
     "inputWidgets": {},
     "nuid": "552df317-d9de-4e4a-8699-79f69f369b23",
     "showTitle": false,
     "title": ""
    }
   },
   "outputs": [],
   "source": [
    "rating_count = df.groupBy(\"fake_review\").count().orderBy('fake_review')\n",
    "plt.figure(figsize =(4, 4))\n",
    "plt.bar(rating_count.rdd.map(lambda x:x['fake_review']).collect(), rating_count.rdd.map(lambda x:x['count']).collect())\n",
    "plt.title(\"Ratings distribution\",)\n",
    "plt.ylabel('Count')\n",
    "plt.xlabel('Fake Review')\n",
    "plt.xticks(rating_count.rdd.map(lambda x:x['fake_review']).collect(), labels=['False', 'True'])\n",
    "\n",
    "plt.show()"
   ]
  },
  {
   "cell_type": "code",
   "execution_count": 0,
   "metadata": {
    "application/vnd.databricks.v1+cell": {
     "cellMetadata": {
      "byteLimit": 2048000,
      "rowLimit": 10000
     },
     "inputWidgets": {},
     "nuid": "aa49d12e-92e4-4abf-83a3-7837aecb5f48",
     "showTitle": false,
     "title": ""
    }
   },
   "outputs": [],
   "source": [
    "df.filter(df['fake_review']==1).count()/df.count()"
   ]
  },
  {
   "cell_type": "markdown",
   "metadata": {
    "application/vnd.databricks.v1+cell": {
     "cellMetadata": {},
     "inputWidgets": {},
     "nuid": "75bfae6e-442a-4457-857f-6496b2683877",
     "showTitle": false,
     "title": ""
    }
   },
   "source": [
    "#### Text Preprocessing\n",
    "1. Tokenize\n",
    "2. Lemmatize\n",
    "3. Remove Stopwords"
   ]
  },
  {
   "cell_type": "code",
   "execution_count": 0,
   "metadata": {
    "application/vnd.databricks.v1+cell": {
     "cellMetadata": {
      "byteLimit": 2048000,
      "rowLimit": 10000
     },
     "inputWidgets": {},
     "nuid": "122bd3cf-9d3f-482a-a006-318bfa0a0387",
     "showTitle": false,
     "title": ""
    }
   },
   "outputs": [],
   "source": [
    "# Tokenize\n",
    "tokenizer = Tokenizer(inputCol=\"cleaned_review\", outputCol=\"tokens\")\n",
    "df = tokenizer.transform(df)"
   ]
  },
  {
   "cell_type": "code",
   "execution_count": 0,
   "metadata": {
    "application/vnd.databricks.v1+cell": {
     "cellMetadata": {
      "byteLimit": 2048000,
      "rowLimit": 10000
     },
     "inputWidgets": {},
     "nuid": "f097d98f-41f8-4fb9-af01-b79deb8fbde3",
     "showTitle": false,
     "title": ""
    }
   },
   "outputs": [],
   "source": [
    "# Lemmatize\n",
    "lemmatizer = WordNetLemmatizer()\n",
    "@udf\n",
    "def lemmatize_tokens(tokens):\n",
    "    lemmatized_tokens = ' '.join([lemmatizer.lemmatize(token) for token in tokens])\n",
    "    return lemmatized_tokens\n",
    "\n",
    "df = df.withColumn('lemmatized_tokens', lemmatize_tokens(df[\"tokens\"]))\n",
    "tokenizer2 = Tokenizer(inputCol=\"lemmatized_tokens\", outputCol=\"lemmatized_tokens_array\")\n",
    "df = tokenizer2.transform(df)"
   ]
  },
  {
   "cell_type": "code",
   "execution_count": 0,
   "metadata": {
    "application/vnd.databricks.v1+cell": {
     "cellMetadata": {
      "byteLimit": 2048000,
      "rowLimit": 10000
     },
     "inputWidgets": {},
     "nuid": "88f13f48-bf04-4453-ab73-d95ada8b9a90",
     "showTitle": false,
     "title": ""
    }
   },
   "outputs": [],
   "source": [
    "# remove stopwords\n",
    "\n",
    "stop = StopWordsRemover.loadDefaultStopWords(\"english\")\n",
    "remover = StopWordsRemover(stopWords=stop, inputCol=\"lemmatized_tokens_array\", outputCol=\"clean_review\")\n",
    "\n",
    "df = remover.transform(df)"
   ]
  },
  {
   "cell_type": "code",
   "execution_count": 0,
   "metadata": {
    "application/vnd.databricks.v1+cell": {
     "cellMetadata": {
      "byteLimit": 2048000,
      "rowLimit": 10000
     },
     "inputWidgets": {},
     "nuid": "68ef1a1b-b9e2-45f4-8512-f608378a8ed9",
     "showTitle": false,
     "title": ""
    }
   },
   "outputs": [],
   "source": [
    "df.show()"
   ]
  },
  {
   "cell_type": "markdown",
   "metadata": {
    "application/vnd.databricks.v1+cell": {
     "cellMetadata": {},
     "inputWidgets": {},
     "nuid": "73446c18-3c4d-448e-9b19-2d569df2ca47",
     "showTitle": false,
     "title": ""
    }
   },
   "source": [
    "####Embedding Word2Vec"
   ]
  },
  {
   "cell_type": "code",
   "execution_count": 0,
   "metadata": {
    "application/vnd.databricks.v1+cell": {
     "cellMetadata": {
      "byteLimit": 2048000,
      "rowLimit": 10000
     },
     "inputWidgets": {},
     "nuid": "51991abb-e3cf-4c1a-80f5-ee538903e28a",
     "showTitle": false,
     "title": ""
    }
   },
   "outputs": [],
   "source": [
    "# Convert PySpark DataFrame to a Gensim-friendly format\n",
    "documents = df.rdd.map(lambda r: r[\"clean_review\"]).collect()\n",
    "\n",
    "# Train a Gensim Word2Vec model\n",
    "model = FastText(sentences=documents, vector_size=100, window=5, min_count=1, sg=1)"
   ]
  },
  {
   "cell_type": "code",
   "execution_count": 0,
   "metadata": {
    "application/vnd.databricks.v1+cell": {
     "cellMetadata": {
      "byteLimit": 2048000,
      "rowLimit": 10000
     },
     "inputWidgets": {},
     "nuid": "a2e13b23-227d-4b4e-96d8-f199bc8e0164",
     "showTitle": false,
     "title": ""
    }
   },
   "outputs": [
    {
     "output_type": "stream",
     "name": "stdout",
     "output_type": "stream",
     "text": [
      "Out[58]: [array([-15.468523  ,   3.3523204 ,  -3.8834555 ,   7.754147  ,\n         15.160472  ,  14.507773  ,  -0.57607996,  35.92083   ,\n         27.541578  , -20.562431  ,   0.803238  ,   5.1789794 ,\n        -21.215874  ,  22.333904  ,  17.006023  ,  10.518144  ,\n         -0.07885373,   1.1266794 , -19.616869  , -27.467365  ,\n        -17.14144   ,   5.0270753 ,  -4.6437454 , -17.412565  ,\n        -12.274587  ,  -3.8198893 ,   1.6914004 ,   2.7450807 ,\n         16.395975  ,  -6.4902    ,  -5.8521867 ,  -0.31160137,\n          9.325584  ,  -3.3206189 , -13.109565  ,  17.582958  ,\n         11.820335  ,  21.287367  , -12.722846  ,  -7.301315  ,\n         12.867511  , -13.6312    ,  -2.4422665 , -16.992687  ,\n         -7.3470283 ,  -2.8870554 ,  -2.6297212 , -14.137699  ,\n         -0.7639425 ,   1.7270086 ,  18.846172  ,  -4.676466  ,\n          4.1811337 ,  -0.13359001,  -4.482543  , -22.625214  ,\n         -8.828624  ,   5.7995014 ,  -8.302737  ,   1.0225881 ,\n          9.006466  , -20.728762  , -16.100712  ,  21.87196   ,\n         -1.3761619 ,  29.44626   ,  12.853651  ,  -4.0377216 ,\n          9.1354    ,  23.015558  ,  -7.152033  ,   1.0845774 ,\n        -10.260262  , -14.175523  ,   9.800187  ,  -5.0296917 ,\n          4.757823  ,   2.208456  ,   0.9475014 ,  -2.5353618 ,\n        -11.553037  ,  -0.23987912,  -2.82816   ,  -4.110969  ,\n        -15.746443  , -10.700836  ,  -3.4379866 ,  -0.29659632,\n         -7.7187223 , -14.282172  , -14.371705  , -12.130787  ,\n        -10.181979  ,   8.769255  ,  -3.176259  ,  12.715096  ,\n         -4.690977  ,  10.258403  ,  -8.623872  ,   3.222788  ],\n       dtype=float32),\n array([-4.7338166e+00,  1.0616710e+00, -1.2061146e+00,  2.3709409e+00,\n         4.6812773e+00,  4.4398985e+00, -1.4664109e-01,  1.1018797e+01,\n         8.4221125e+00, -6.3563957e+00,  2.6737794e-01,  1.5740795e+00,\n        -6.5471992e+00,  6.8429050e+00,  5.1969528e+00,  3.2742763e+00,\n         1.0178804e-02,  3.4395906e-01, -6.0229797e+00, -8.4349699e+00,\n        -5.2535229e+00,  1.5381190e+00, -1.4071444e+00, -5.3600483e+00,\n        -3.7475669e+00, -1.1901615e+00,  5.0836408e-01,  8.3897448e-01,\n         5.0061402e+00, -1.9850787e+00, -1.7497591e+00, -1.0833203e-01,\n         2.8736579e+00, -1.0415668e+00, -4.0460186e+00,  5.4063582e+00,\n         3.6290085e+00,  6.5577111e+00, -3.8699517e+00, -2.2398155e+00,\n         3.9664416e+00, -4.2189903e+00, -7.2895360e-01, -5.2368507e+00,\n        -2.2468836e+00, -9.0294540e-01, -8.1263310e-01, -4.3446040e+00,\n        -2.2937335e-01,  5.0048560e-01,  5.8073034e+00, -1.4525579e+00,\n         1.2815664e+00, -4.8882551e-02, -1.3619787e+00, -6.9469581e+00,\n        -2.7406242e+00,  1.7953293e+00, -2.5277779e+00,  3.1106815e-01,\n         2.7335019e+00, -6.3563051e+00, -4.9651942e+00,  6.6880312e+00,\n        -3.9965391e-01,  9.0514746e+00,  3.9763770e+00, -1.2447273e+00,\n         2.8145752e+00,  7.1058769e+00, -2.1945512e+00,  2.9744467e-01,\n        -3.1578455e+00, -4.3417339e+00,  2.9951847e+00, -1.5518303e+00,\n         1.4186749e+00,  6.5475374e-01,  2.7702829e-01, -7.8821439e-01,\n        -3.5255418e+00, -5.9206795e-02, -8.6853635e-01, -1.3095573e+00,\n        -4.8087773e+00, -3.2792146e+00, -1.0483876e+00, -1.1827067e-01,\n        -2.3456657e+00, -4.4134469e+00, -4.3975487e+00, -3.7509274e+00,\n        -3.1122341e+00,  2.7020605e+00, -9.8153818e-01,  3.8943677e+00,\n        -1.4403460e+00,  3.1509392e+00, -2.6442814e+00,  9.7932661e-01],\n       dtype=float32),\n array([-4.50917721e-01,  1.00384280e-01, -1.12735599e-01,  2.26588517e-01,\n         4.43110168e-01,  4.21830118e-01, -1.49769858e-02,  1.04606783e+00,\n         8.03440154e-01, -6.02083981e-01,  2.02243403e-02,  1.50604069e-01,\n        -6.17563844e-01,  6.48791432e-01,  4.94455099e-01,  3.05577993e-01,\n         1.03913283e-03,  3.21286470e-02, -5.72260618e-01, -8.03489685e-01,\n        -4.95429516e-01,  1.47238880e-01, -1.34277478e-01, -5.07933974e-01,\n        -3.56946349e-01, -1.10305518e-01,  4.50375937e-02,  7.58861229e-02,\n         4.78262663e-01, -1.87149152e-01, -1.71931118e-01, -8.95952992e-03,\n         2.69489765e-01, -9.79699045e-02, -3.82932603e-01,  5.13120532e-01,\n         3.44149530e-01,  6.21280551e-01, -3.70129168e-01, -2.13491023e-01,\n         3.74245971e-01, -3.99067640e-01, -7.44478554e-02, -4.98240888e-01,\n        -2.16147393e-01, -8.80806893e-02, -7.89761841e-02, -4.10428405e-01,\n        -2.00321954e-02,  5.14004901e-02,  5.49898684e-01, -1.34189010e-01,\n         1.23889416e-01, -2.57345359e-03, -1.31220639e-01, -6.59795165e-01,\n        -2.58076787e-01,  1.66014776e-01, -2.39887208e-01,  3.20835114e-02,\n         2.61286736e-01, -6.00931883e-01, -4.71631736e-01,  6.38051331e-01,\n        -3.72646600e-02,  8.58202755e-01,  3.76934886e-01, -1.17739640e-01,\n         2.66503990e-01,  6.72263265e-01, -2.06416935e-01,  2.94629335e-02,\n        -3.02550465e-01, -4.12173063e-01,  2.85158515e-01, -1.50463253e-01,\n         1.37875885e-01,  6.29713237e-02,  2.97366697e-02, -7.77796581e-02,\n        -3.35772306e-01, -9.55437496e-03, -8.13088194e-02, -1.22738183e-01,\n        -4.59044635e-01, -3.11082661e-01, -1.01720616e-01, -6.42155204e-03,\n        -2.26004511e-01, -4.17076945e-01, -4.18801904e-01, -3.56180429e-01,\n        -2.97650397e-01,  2.55199432e-01, -9.26386863e-02,  3.70558858e-01,\n        -1.37512729e-01,  3.01928371e-01, -2.50017285e-01,  9.41657871e-02],\n       dtype=float32),\n array([-2.8884218 ,  0.6082255 , -0.7287197 ,  1.4351484 ,  2.838349  ,\n         2.7157462 , -0.1146908 ,  6.747938  ,  5.1718183 , -3.8012428 ,\n         0.16316375,  1.0138216 , -3.9700868 ,  4.213456  ,  3.1936023 ,\n         1.9794166 , -0.06363785,  0.22779168, -3.6584806 , -5.1252475 ,\n        -3.2414074 ,  0.9521157 , -0.8718466 , -3.275958  , -2.3109317 ,\n        -0.73081255,  0.35734367,  0.57018644,  3.0752788 , -1.2492613 ,\n        -1.0816336 , -0.03180866,  1.7324634 , -0.59472877, -2.4288192 ,\n         3.270168  ,  2.1994739 ,  3.9751961 , -2.3914146 , -1.358843  ,\n         2.4109366 , -2.5232182 , -0.43699414, -3.1637468 , -1.3784881 ,\n        -0.4954309 , -0.47397494, -2.6494188 , -0.15253964,  0.3332089 ,\n         3.5419137 , -0.905664  ,  0.7804511 , -0.02277476, -0.8192396 ,\n        -4.203857  , -1.6375874 ,  1.1255956 , -1.5564002 ,  0.17111273,\n         1.6886791 , -3.8667064 , -3.0160563 ,  4.099833  , -0.30805507,\n         5.493434  ,  2.425742  , -0.7477664 ,  1.7099395 ,  4.2892365 ,\n        -1.3407503 ,  0.20113981, -1.8951428 , -2.6596498 ,  1.8600135 ,\n        -0.9140713 ,  0.9016733 ,  0.42189133,  0.18514007, -0.46815446,\n        -2.1935372 , -0.05125222, -0.5080286 , -0.7394649 , -2.9655633 ,\n        -1.9856958 , -0.6421158 , -0.05949748, -1.4368016 , -2.6766803 ,\n        -2.69042   , -2.2338517 , -1.8891064 ,  1.657048  , -0.60577345,\n         2.317531  , -0.85426134,  1.9336588 , -1.6140251 ,  0.6181857 ],\n       dtype=float32),\n array([-3.125234  , -0.12868658, -0.7588794 ,  1.368371  ,  2.5623186 ,\n         3.0790277 , -0.16731426,  7.6217723 ,  5.9774795 , -2.8490338 ,\n         0.8567268 ,  1.6501749 , -3.2453835 ,  4.7199264 ,  3.9782014 ,\n         2.237357  , -0.333782  , -0.09233727, -3.391198  , -5.407313  ,\n        -3.745554  ,  1.4930142 , -1.3792058 , -3.728385  , -2.5981452 ,\n        -0.59875315,  1.1396471 ,  0.8054475 ,  3.4233608 , -2.5298822 ,\n        -1.4149761 , -0.05062877,  2.0987406 ,  0.02847453, -2.4316983 ,\n         3.2589464 ,  2.3584592 ,  3.5299196 , -2.8800986 , -1.2262948 ,\n         2.994882  , -2.0234594 , -0.626388  , -2.8347719 , -1.9118525 ,\n         0.25287327, -0.57303345, -2.7408195 , -0.38361225,  1.1293876 ,\n         3.6110377 , -1.5457747 ,  0.45379758,  0.24728714, -0.7122251 ,\n        -3.549645  , -0.91652733,  1.6913234 , -1.6705321 , -0.03885068,\n         2.2099369 , -3.8169477 , -2.763492  ,  4.242665  , -1.0267174 ,\n         5.344368  ,  2.2064552 , -0.8018176 ,  1.3379204 ,  3.8615608 ,\n        -1.5017407 , -0.20447977, -1.3627518 , -2.7820582 ,  2.118699  ,\n        -1.0928713 ,  1.1631902 ,  0.5078599 ,  0.87614816, -0.12787244,\n        -3.0220098 ,  0.07282412,  0.4247676 ,  0.24088317, -3.7831078 ,\n        -2.0463066 , -0.46511838, -0.23635872, -1.3755502 , -2.7523952 ,\n        -2.4048574 , -1.7212267 , -1.7029817 ,  1.7407241 , -0.9270997 ,\n         1.8739737 , -0.42366642,  2.2968428 , -1.3425529 ,  0.7814296 ],\n       dtype=float32),\n array([-3.7792096 ,  0.78798085, -0.9491984 ,  1.8829527 ,  3.6892529 ,\n         3.55258   , -0.13697052,  8.795388  ,  6.7368264 , -4.9683113 ,\n         0.23888893,  1.2792711 , -5.141227  ,  5.463909  ,  4.167371  ,\n         2.5852304 , -0.03854137,  0.255236  , -4.7709184 , -6.7087493 ,\n        -4.212987  ,  1.2604655 , -1.1535015 , -4.2664933 , -3.0080628 ,\n        -0.92555726,  0.45227188,  0.68466216,  4.0098376 , -1.6200961 ,\n        -1.4455845 , -0.07625113,  2.2909489 , -0.7904247 , -3.1818647 ,\n         4.3006506 ,  2.879987  ,  5.1745605 , -3.1179142 , -1.7731026 ,\n         3.1582499 , -3.2970905 , -0.596431  , -4.1236315 , -1.8013568 ,\n        -0.6667245 , -0.65025723, -3.4446282 , -0.19326821,  0.44760823,\n         4.609043  , -1.1584294 ,  1.0145328 , -0.01303856, -1.0770638 ,\n        -5.486432  , -2.1105692 ,  1.4411695 , -2.0273921 ,  0.2343092 ,\n         2.1953397 , -5.051206  , -3.915541  ,  5.331244  , -0.3768944 ,\n         7.1638937 ,  3.1149697 , -1.0026475 ,  2.1974533 ,  5.5810003 ,\n        -1.7416774 ,  0.2365649 , -2.4707994 , -3.4536521 ,  2.3973901 ,\n        -1.2518276 ,  1.1512525 ,  0.5521793 ,  0.25235602, -0.6156254 ,\n        -2.842979  , -0.04542016, -0.64967537, -0.95378554, -3.8641746 ,\n        -2.5948677 , -0.82299477, -0.08401291, -1.8651378 , -3.4854703 ,\n        -3.4798586 , -2.9313374 , -2.463119  ,  2.1456623 , -0.7824831 ,\n         3.072176  , -1.110211  ,  2.5075047 , -2.085668  ,  0.7787189 ],\n       dtype=float32),\n array([-1.4319594e+00,  3.3148760e-01, -3.6631960e-01,  7.1752965e-01,\n         1.4151099e+00,  1.3417954e+00, -4.8576109e-02,  3.3285353e+00,\n         2.5484185e+00, -1.9272177e+00,  7.0542492e-02,  4.7013667e-01,\n        -1.9804835e+00,  2.0666480e+00,  1.5726123e+00,  9.7932291e-01,\n        -1.5538074e-03,  1.0894488e-01, -1.8240743e+00, -2.5530560e+00,\n        -1.5915087e+00,  4.6151522e-01, -4.2707965e-01, -1.6230948e+00,\n        -1.1383518e+00, -3.6071396e-01,  1.4583609e-01,  2.5069159e-01,\n         1.5194764e+00, -5.9167546e-01, -5.3219634e-01, -2.6928499e-02,\n         8.6448371e-01, -3.1887758e-01, -1.2235591e+00,  1.6408570e+00,\n         1.0997031e+00,  1.9843284e+00, -1.1775937e+00, -6.7597270e-01,\n         1.1960493e+00, -1.2813194e+00, -2.2222723e-01, -1.5832230e+00,\n        -6.7879796e-01, -2.7970052e-01, -2.4821916e-01, -1.3172805e+00,\n        -7.2509199e-02,  1.5034805e-01,  1.7573143e+00, -4.3152747e-01,\n         3.9594185e-01, -1.1148422e-02, -4.1212574e-01, -2.1131670e+00,\n        -8.3291638e-01,  5.3113091e-01, -7.6988983e-01,  9.8465115e-02,\n         8.2600433e-01, -1.9287684e+00, -1.4999186e+00,  2.0255039e+00,\n        -1.1645915e-01,  2.7366319e+00,  1.2043390e+00, -3.7515652e-01,\n         8.5009027e-01,  2.1465657e+00, -6.6278255e-01,  9.2668742e-02,\n        -9.6301049e-01, -1.3125002e+00,  9.0466112e-01, -4.6780699e-01,\n         4.3309301e-01,  2.0617014e-01,  8.0895975e-02, -2.4264535e-01,\n        -1.0617939e+00, -1.7543657e-02, -2.6934752e-01, -3.9870924e-01,\n        -1.4560173e+00, -9.8937136e-01, -3.1846285e-01, -2.0169072e-02,\n        -7.1368343e-01, -1.3346143e+00, -1.3278749e+00, -1.1362243e+00,\n        -9.4679701e-01,  8.1214654e-01, -2.9830721e-01,  1.1851866e+00,\n        -4.3412548e-01,  9.5022404e-01, -7.9621297e-01,  2.9464760e-01],\n       dtype=float32),\n array([-1.4183232e+00,  3.3366421e-01, -3.6161864e-01,  7.1263319e-01,\n         1.4053847e+00,  1.3282425e+00, -4.2220093e-02,  3.2902601e+00,\n         2.5098889e+00, -1.9122784e+00,  7.3718816e-02,  4.5798951e-01,\n        -1.9685072e+00,  2.0472598e+00,  1.5468475e+00,  9.7619998e-01,\n         8.3124125e-04,  1.1319223e-01, -1.8051268e+00, -2.5200911e+00,\n        -1.5786765e+00,  4.5132023e-01, -4.1155848e-01, -1.6022077e+00,\n        -1.1187232e+00, -3.5941255e-01,  1.4301702e-01,  2.5094923e-01,\n         1.4999135e+00, -5.7531285e-01, -5.1367837e-01, -2.7389785e-02,\n         8.5204226e-01, -3.1733143e-01, -1.2086662e+00,  1.6234704e+00,\n         1.0913451e+00,  1.9709044e+00, -1.1600378e+00, -6.6514397e-01,\n         1.1843113e+00, -1.2733539e+00, -2.1492058e-01, -1.5696340e+00,\n        -6.7059845e-01, -2.7477166e-01, -2.4007706e-01, -1.3026701e+00,\n        -6.8927102e-02,  1.3966088e-01,  1.7444788e+00, -4.2846358e-01,\n         3.8610488e-01, -1.1627788e-02, -4.0520468e-01, -2.0874996e+00,\n        -8.2634425e-01,  5.2817011e-01, -7.5978720e-01,  9.6860155e-02,\n         8.0566627e-01, -1.9065510e+00, -1.4944854e+00,  2.0029941e+00,\n        -1.1049456e-01,  2.7116823e+00,  1.1946259e+00, -3.7343010e-01,\n         8.4658456e-01,  2.1297383e+00, -6.5581334e-01,  9.1826983e-02,\n        -9.4439399e-01, -1.2922819e+00,  8.9783466e-01, -4.5803922e-01,\n         4.1897547e-01,  1.9704936e-01,  7.8273967e-02, -2.3841859e-01,\n        -1.0463126e+00, -2.2864053e-02, -2.6916239e-01, -4.0592131e-01,\n        -1.4250237e+00, -9.7630364e-01, -3.1187716e-01, -2.8836371e-02,\n        -6.9735450e-01, -1.3232714e+00, -1.3163989e+00, -1.1270386e+00,\n        -9.3150210e-01,  8.0578512e-01, -2.9644811e-01,  1.1716436e+00,\n        -4.3049395e-01,  9.4133466e-01, -7.9117405e-01,  2.9392907e-01],\n       dtype=float32),\n array([-2.1483736 ,  0.3226949 , -0.5633587 ,  1.0591282 ,  2.0338771 ,\n         2.0533879 , -0.09485441,  5.109292  ,  3.9246686 , -2.674343  ,\n         0.24143818,  0.8316373 , -2.8367348 ,  3.183951  ,  2.4567525 ,\n         1.5125383 , -0.10028849,  0.11681916, -2.6674218 , -3.8221955 ,\n        -2.4937701 ,  0.7998948 , -0.699168  , -2.4808202 , -1.7689488 ,\n        -0.5144725 ,  0.40760362,  0.46095794,  2.326668  , -1.1112516 ,\n        -0.84114844, -0.03755802,  1.335857  , -0.32490253, -1.7730817 ,\n         2.3984706 ,  1.6384709 ,  2.8683035 , -1.8292193 , -0.97260135,\n         1.8380547 , -1.7799416 , -0.344415  , -2.2808332 , -1.0953493 ,\n        -0.21914442, -0.3466812 , -1.9891367 , -0.14684153,  0.3574041 ,\n         2.599613  , -0.73610455,  0.4857453 ,  0.03222648, -0.5882506 ,\n        -2.99987   , -1.0849645 ,  0.9224949 , -1.1543131 ,  0.08840321,\n         1.2911124 , -2.8376148 , -2.2041512 ,  3.0581007 , -0.3505926 ,\n         4.0333805 ,  1.7461671 , -0.56548053,  1.197953  ,  3.084198  ,\n        -1.0222871 ,  0.08250064, -1.2844889 , -1.9932697 ,  1.4221892 ,\n        -0.69628596,  0.69867086,  0.314426  ,  0.22665916, -0.28666872,\n        -1.724365  , -0.02797706, -0.2422302 , -0.36191705, -2.276036  ,\n        -1.4557571 , -0.43433017, -0.07460991, -1.0499713 , -1.9633074 ,\n        -1.9554732 , -1.5314652 , -1.3451982 ,  1.2404394 , -0.4819439 ,\n         1.6103684 , -0.5756649 ,  1.4848287 , -1.1701163 ,  0.4811861 ],\n       dtype=float32),\n array([-2.0901928 ,  0.4528562 , -0.5262871 ,  1.0528064 ,  2.0498607 ,\n         1.9536309 , -0.07912703,  4.8485837 ,  3.718543  , -2.7794251 ,\n         0.10865427,  0.69653904, -2.864121  ,  3.0239794 ,  2.2948244 ,\n         1.4215652 , -0.0073784 ,  0.15764634, -2.65442   , -3.7138252 ,\n        -2.3118286 ,  0.6745391 , -0.61168885, -2.3564548 , -1.6526078 ,\n        -0.5174383 ,  0.22206031,  0.3751248 ,  2.2153943 , -0.87450314,\n        -0.78518677, -0.04249096,  1.2612891 , -0.44834143, -1.7679663 ,\n         2.374763  ,  1.5918062 ,  2.8790443 , -1.7117349 , -0.9824835 ,\n         1.7399349 , -1.86076   , -0.3260625 , -2.291395  , -0.9908874 ,\n        -0.39482695, -0.36078072, -1.9134012 , -0.10669593,  0.2229768 ,\n         2.546954  , -0.6283581 ,  0.5656838 , -0.0123623 , -0.615588  ,\n        -3.04788   , -1.1928543 ,  0.78735805, -1.1213416 ,  0.14581884,\n         1.2127873 , -2.792739  , -2.1780312 ,  2.95104   , -0.18750185,\n         3.9876568 ,  1.7354915 , -0.54198945,  1.2431129 ,  3.109167  ,\n        -0.9663682 ,  0.14260884, -1.3925288 , -1.9145561 ,  1.3341321 ,\n        -0.67512107,  0.6441511 ,  0.30153656,  0.12951292, -0.34774578,\n        -1.5654602 , -0.04635366, -0.39338505, -0.55474573, -2.1329887 ,\n        -1.4462761 , -0.4704059 , -0.04228576, -1.0427091 , -1.9307891 ,\n        -1.9337585 , -1.6400349 , -1.3752482 ,  1.1796912 , -0.4334333 ,\n         1.7129999 , -0.63306946,  1.3986071 , -1.161005  ,  0.43744045],\n       dtype=float32),\n array([-2.2730956 , -0.2731046 , -0.5467637 ,  0.94815385,  1.7458208 ,\n         2.283058  , -0.13298973,  5.637235  ,  4.4341416 , -1.7663741 ,\n         0.77997196,  1.3376775 , -2.1163144 ,  3.4904785 ,  3.016544  ,\n         1.6586937 , -0.31710315, -0.13912904, -2.332209  , -3.8919    ,\n        -2.8000255 ,  1.1972736 , -1.1032572 , -2.7666364 , -1.9134947 ,\n        -0.40634334,  1.0251951 ,  0.6509351 ,  2.5123668 , -2.119719  ,\n        -1.0773234 , -0.0287942 ,  1.5715777 ,  0.18088354, -1.7185988 ,\n         2.2993429 ,  1.709764  ,  2.391482  , -2.162992  , -0.8325489 ,\n         2.2712042 , -1.2934526 , -0.475699  , -1.9237909 , -1.484305  ,\n         0.37126082, -0.42810476, -1.9719001 , -0.33240703,  1.0011418 ,\n         2.585712  , -1.2665147 ,  0.2297319 ,  0.24342704, -0.47489232,\n        -2.347696  , -0.4678529 ,  1.3536651 , -1.207802  , -0.08863266,\n         1.6858648 , -2.6889372 , -1.9034979 ,  3.0462523 , -0.9276841 ,\n         3.7575078 ,  1.5218756 , -0.5853783 ,  0.8574345 ,  2.6219704 ,\n        -1.1048386 , -0.23938334, -0.8162758 , -2.0049508 ,  1.5739622 ,\n        -0.80547744,  0.8913317 ,  0.39055812,  0.7922927 , -0.01056048,\n        -2.3618755 ,  0.07511197,  0.54140806,  0.4311043 , -2.8876731 ,\n        -1.4541476 , -0.28557774, -0.20552737, -0.95464045, -1.9652891 ,\n        -1.634037  , -1.0797802 , -1.1479477 ,  1.2603545 , -0.74369395,\n         1.1978047 , -0.18563987,  1.7252272 , -0.88729185,  0.59924   ],\n       dtype=float32),\n array([-2.8340123 ,  0.58816206, -0.71179074,  1.4235162 ,  2.761617  ,\n         2.6589072 , -0.10424951,  6.5807705 ,  5.0553026 , -3.7154312 ,\n         0.1624857 ,  0.9613588 , -3.8588862 ,  4.097258  ,  3.1258826 ,\n         1.9191501 , -0.03039209,  0.18625836, -3.5838203 , -5.039254  ,\n        -3.1327863 ,  0.94496405, -0.86684847, -3.1833162 , -2.2392235 ,\n        -0.677056  ,  0.3227409 ,  0.50547504,  3.005125  , -1.2278439 ,\n        -1.0921539 , -0.06037619,  1.7155554 , -0.58126104, -2.391943  ,\n         3.2193754 ,  2.1551144 ,  3.8699367 , -2.3285797 , -1.3177208 ,\n         2.350249  , -2.46268   , -0.4416796 , -3.095479  , -1.3613567 ,\n        -0.4914047 , -0.4909898 , -2.571964  , -0.14178097,  0.34278923,\n         3.4254432 , -0.8716592 ,  0.76338917, -0.02597982, -0.8054132 ,\n        -4.102832  , -1.5864462 ,  1.0727105 , -1.5320647 ,  0.18879482,\n         1.6671238 , -3.7647104 , -2.9272766 ,  4.001394  , -0.27834585,\n         5.382268  ,  2.324034  , -0.7342245 ,  1.6589845 ,  4.193074  ,\n        -1.303731  ,  0.19664969, -1.8761762 , -2.5881062 ,  1.8029311 ,\n        -0.93510044,  0.8771686 ,  0.40487874,  0.18271923, -0.44706047,\n        -2.125709  , -0.05016438, -0.49513358, -0.7166559 , -2.8987389 ,\n        -1.9574224 , -0.62787145, -0.06105522, -1.411524  , -2.6123714 ,\n        -2.6213408 , -2.2090402 , -1.8418299 ,  1.6013122 , -0.58439666,\n         2.316633  , -0.8470609 ,  1.9009168 , -1.5759696 ,  0.59654427],\n       dtype=float32),\n array([-4.92292   ,  0.9749454 , -1.2319353 ,  2.4873424 ,  4.7862473 ,\n         4.656225  , -0.20352098, 11.518145  ,  8.837838  , -6.421811  ,\n         0.31548718,  1.6861264 , -6.685232  ,  7.1554775 ,  5.4850974 ,\n         3.3698192 , -0.05814688,  0.34253144, -6.201791  , -8.765671  ,\n        -5.5190983 ,  1.6608334 , -1.5458664 , -5.5660334 , -3.917129  ,\n        -1.2090621 ,  0.6120595 ,  0.92848027,  5.234766  , -2.210864  ,\n        -1.8990617 , -0.09478313,  3.0026126 , -0.96926135, -4.1559234 ,\n         5.5727043 ,  3.7604132 ,  6.7051816 , -4.089168  , -2.3121922 ,\n         4.127584  , -4.2569084 , -0.7753191 , -5.377664  , -2.3871531 ,\n        -0.82118416, -0.8517577 , -4.513449  , -0.28282374,  0.6266334 ,\n         5.9803295 , -1.5553428 ,  1.2994323 , -0.02286848, -1.4065962 ,\n        -7.106005  , -2.7294385 ,  1.8961322 , -2.6408138 ,  0.30884224,\n         2.9278483 , -6.575337  , -5.090071  ,  6.9682364 , -0.53177524,\n         9.350146  ,  4.0588727 , -1.2864869 ,  2.879672  ,  7.2720222 ,\n        -2.2820725 ,  0.30360907, -3.230809  , -4.522508  ,  3.1761744 ,\n        -1.6002519 ,  1.5401543 ,  0.68229127,  0.36047634, -0.7699471 ,\n        -3.7326632 , -0.07596437, -0.8046217 , -1.1804085 , -5.073593  ,\n        -3.4143724 , -1.0868424 , -0.10135549, -2.474168  , -4.544025  ,\n        -4.5433307 , -3.8071623 , -3.191688  ,  2.8013673 , -1.0277885 ,\n         3.9674246 , -1.4605418 ,  3.3401113 , -2.7102325 ,  1.0656257 ],\n       dtype=float32),\n array([ -5.7588863 ,   1.2471393 ,  -1.4469004 ,   2.917966  ,\n          5.6567307 ,   5.3971286 ,  -0.20928276,  13.367555  ,\n         10.240738  ,  -7.656264  ,   0.29414618,   1.9110768 ,\n         -7.892442  ,   8.3294325 ,   6.3271823 ,   3.8987484 ,\n         -0.04769052,   0.41242334,  -7.320248  , -10.228161  ,\n         -6.3902802 ,   1.8677014 ,  -1.7236513 ,  -6.481517  ,\n         -4.5836573 ,  -1.4201533 ,   0.60398895,   1.0336683 ,\n          6.108323  ,  -2.3962212 ,  -2.1851664 ,  -0.13189794,\n          3.4807336 ,  -1.2368368 ,  -4.868576  ,   6.552701  ,\n          4.397326  ,   7.9417615 ,  -4.7394032 ,  -2.7114646 ,\n          4.7789316 ,  -5.0669155 ,  -0.8994232 ,  -6.322379  ,\n         -2.7494354 ,  -1.0811229 ,  -0.9702439 ,  -5.2480865 ,\n         -0.2737169 ,   0.6482674 ,   7.01487   ,  -1.7441502 ,\n          1.5751681 ,  -0.04266282,  -1.6751698 ,  -8.408599  ,\n         -3.2749941 ,   2.1512783 ,  -3.0902274 ,   0.38475615,\n          3.3534741 ,  -7.708946  ,  -6.01521   ,   8.146504  ,\n         -0.4994613 ,  10.972587  ,   4.7939644 ,  -1.5184277 ,\n          3.4017053 ,   8.564327  ,  -2.6457472 ,   0.40637386,\n         -3.8181632 ,  -5.268087  ,   3.6554606 ,  -1.868636  ,\n          1.7500086 ,   0.808361  ,   0.33790636,  -0.93785363,\n         -4.3038354 ,  -0.08817517,  -1.0721614 ,  -1.5307082 ,\n         -5.849749  ,  -3.9750383 ,  -1.2917112 ,  -0.10800632,\n         -2.883388  ,  -5.3236775 ,  -5.366045  ,  -4.5205855 ,\n         -3.779677  ,   3.2847812 ,  -1.1859409 ,   4.7368674 ,\n         -1.7426337 ,   3.832047  ,  -3.226324  ,   1.2085723 ],\n       dtype=float32),\n array([-5.0545673 ,  1.1165731 , -1.2478391 ,  2.5453172 ,  4.999078  ,\n         4.665811  , -0.19301552, 11.702509  ,  8.8989725 , -6.7326345 ,\n         0.26725748,  1.6398115 , -6.9530373 ,  7.3077874 ,  5.5260987 ,\n         3.4738982 , -0.02446661,  0.42345276, -6.3916693 , -8.927745  ,\n        -5.607295  ,  1.6083443 , -1.4377885 , -5.714938  , -3.9520962 ,\n        -1.2166973 ,  0.5195853 ,  0.92087513,  5.3182044 , -2.0363226 ,\n        -1.8203875 , -0.13034931,  3.0136144 , -1.1282446 , -4.187235  ,\n         5.7316456 ,  3.877388  ,  7.010129  , -4.0703254 , -2.3220031 ,\n         4.18797   , -4.4669538 , -0.8223228 , -5.500162  , -2.4001443 ,\n        -0.8614691 , -0.7974917 , -4.5869393 , -0.20043293,  0.56674993,\n         6.17325   , -1.5734588 ,  1.353664  , -0.01292103, -1.4586953 ,\n        -7.284807  , -2.8086307 ,  1.9415886 , -2.6841302 ,  0.37636662,\n         2.8205373 , -6.714258  , -5.2883067 ,  7.0839834 , -0.42040458,\n         9.598     ,  4.219881  , -1.3527236 ,  3.0183492 ,  7.494538  ,\n        -2.324604  ,  0.32665688, -3.2729282 , -4.579295  ,  3.1891465 ,\n        -1.6394596 ,  1.4732645 ,  0.7017814 ,  0.34196216, -0.84873104,\n        -3.7943106 , -0.06393038, -0.895453  , -1.4009597 , -5.0677786 ,\n        -3.4414215 , -1.109273  , -0.15430056, -2.475739  , -4.6715183 ,\n        -4.681145  , -3.9510279 , -3.270632  ,  2.8255718 , -1.0490657 ,\n         4.109494  , -1.4887223 ,  3.3124514 , -2.8622544 ,  1.0723159 ],\n       dtype=float32),\n array([-4.4630303 ,  0.92323536, -1.1153045 ,  2.2407124 ,  4.36264   ,\n         4.1822248 , -0.1354192 , 10.352925  ,  7.9408817 , -5.904837  ,\n         0.26682478,  1.5105879 , -6.0871553 ,  6.4436297 ,  4.9058847 ,\n         3.0398026 , -0.05607282,  0.30051938, -5.6498165 , -7.9248757 ,\n        -4.9616423 ,  1.4924386 , -1.3214493 , -5.027856  , -3.537546  ,\n        -1.0739385 ,  0.49996418,  0.7847776 ,  4.72909   , -1.8344301 ,\n        -1.701489  , -0.09565216,  2.6819534 , -0.9375997 , -3.7223022 ,\n         5.09243   ,  3.4093025 ,  6.170644  , -3.685253  , -2.0808773 ,\n         3.6649613 , -3.9091635 , -0.7001165 , -4.853262  , -2.1079068 ,\n        -0.801976  , -0.76322013, -4.053177  , -0.21110426,  0.51574564,\n         5.417584  , -1.3471129 ,  1.2104762 , -0.02600372, -1.3071777 ,\n        -6.506368  , -2.502011  ,  1.6604812 , -2.3768864 ,  0.2671019 ,\n         2.5618305 , -5.9747715 , -4.6478057 ,  6.308631  , -0.41494548,\n         8.469197  ,  3.686282  , -1.17902\n\n*** WARNING: max output size exceeded, skipping output. ***\n\n1,  9.6191430e-01,\n        -3.5350055e-01,  7.6648605e-01, -6.7495328e-01,  2.5151920e-01],\n       dtype=float32),\n array([-5.546422  ,  1.1671331 , -1.3425492 ,  2.7636352 ,  5.4492044 ,\n         5.1131525 , -0.18701942, 12.857502  ,  9.768089  , -7.255508  ,\n         0.37748903,  1.8476471 , -7.5130725 ,  8.014917  ,  6.0984287 ,\n         3.8237042 , -0.03465304,  0.43914887, -6.9779916 , -9.777636  ,\n        -6.1678762 ,  1.8135525 , -1.5828182 , -6.2779393 , -4.320342  ,\n        -1.2926501 ,  0.6420626 ,  0.9923831 ,  5.845138  , -2.3189664 ,\n        -2.0042443 , -0.16693097,  3.3303108 , -1.1755271 , -4.5498867 ,\n         6.293543  ,  4.2648535 ,  7.6302676 , -4.4830623 , -2.4926903 ,\n         4.606539  , -4.8364606 , -0.90706366, -5.975246  , -2.6714046 ,\n        -0.8598479 , -0.9084287 , -5.0124645 , -0.251323  ,  0.69121635,\n         6.756427  , -1.7785593 ,  1.4513675 ,  0.04430866, -1.5913314 ,\n        -7.8853254 , -2.979936  ,  2.152851  , -2.9284885 ,  0.38241175,\n         3.117969  , -7.338692  , -5.749917  ,  7.729141  , -0.4795556 ,\n        10.461883  ,  4.578339  , -1.4996969 ,  3.270769  ,  8.148453  ,\n        -2.5717378 ,  0.3088931 , -3.499113  , -4.984645  ,  3.4751568 ,\n        -1.8243018 ,  1.6021037 ,  0.77655107,  0.43451494, -0.8864551 ,\n        -4.223723  , -0.04392635, -0.8884971 , -1.4389685 , -5.583291  ,\n        -3.7706156 , -1.2007916 , -0.19125704, -2.6853645 , -5.109442  ,\n        -5.0874906 , -4.2737803 , -3.5335877 ,  3.0840907 , -1.1698493 ,\n         4.4587946 , -1.5781494 ,  3.6501381 , -3.1141841 ,  1.190117  ],\n       dtype=float32),\n array([-5.9796224e+00,  1.2819073e+00, -1.4810147e+00,  2.9961941e+00,\n         5.8468347e+00,  5.5846553e+00, -1.9993596e-01,  1.3874288e+01,\n         1.0632692e+01, -7.8886638e+00,  3.5652727e-01,  1.9945531e+00,\n        -8.1452694e+00,  8.6291351e+00,  6.5734410e+00,  4.1080451e+00,\n        -1.3190298e-02,  4.2513305e-01, -7.5499988e+00, -1.0605657e+01,\n        -6.6062894e+00,  1.9579755e+00, -1.7838275e+00, -6.7371788e+00,\n        -4.6948080e+00, -1.4687788e+00,  6.7059392e-01,  1.0622855e+00,\n         6.3222318e+00, -2.5395648e+00, -2.2388370e+00, -1.5386638e-01,\n         3.6043122e+00, -1.2698293e+00, -5.0518398e+00,  6.7909107e+00,\n         4.5686092e+00,  8.2025423e+00, -4.9018970e+00, -2.7860026e+00,\n         5.0100465e+00, -5.2459631e+00, -9.6361697e-01, -6.5363450e+00,\n        -2.8705945e+00, -1.0732006e+00, -1.0118155e+00, -5.4448805e+00,\n        -2.8976843e-01,  6.9983923e-01,  7.2864327e+00, -1.8662108e+00,\n         1.5970136e+00, -2.0496340e-02, -1.7079610e+00, -8.6644716e+00,\n        -3.3569527e+00,  2.2675712e+00, -3.1802039e+00,  3.9185569e-01,\n         3.4658854e+00, -7.9706206e+00, -6.2123404e+00,  8.4045248e+00,\n        -5.3012013e-01,  1.1346312e+01,  4.9611602e+00, -1.5706922e+00,\n         3.5155385e+00,  8.8580313e+00, -2.7679307e+00,  3.7045717e-01,\n        -3.9251647e+00, -5.4239426e+00,  3.7812309e+00, -1.9667530e+00,\n         1.7945268e+00,  8.4600252e-01,  4.0214339e-01, -9.7584420e-01,\n        -4.4928436e+00, -8.1025496e-02, -1.0445911e+00, -1.5636356e+00,\n        -6.0912542e+00, -4.1180072e+00, -1.3163071e+00, -1.5067895e-01,\n        -2.9555700e+00, -5.5304961e+00, -5.5033646e+00, -4.6772237e+00,\n        -3.9003208e+00,  3.3668551e+00, -1.2500868e+00,  4.8846011e+00,\n        -1.7806530e+00,  3.9573205e+00, -3.3214054e+00,  1.2531080e+00],\n       dtype=float32),\n array([-21.942327  ,   4.74462   ,  -5.437264  ,  11.032589  ,\n         21.515951  ,  20.57645   ,  -0.81223166,  50.936695  ,\n         39.157856  , -29.06977   ,   1.1257825 ,   7.378755  ,\n        -30.052713  ,  31.763689  ,  24.186644  ,  14.911463  ,\n         -0.21726276,   1.5509641 , -27.879614  , -38.979565  ,\n        -24.330849  ,   7.159761  ,  -6.567843  , -24.70048   ,\n        -17.393232  ,  -5.3983235 ,   2.4194753 ,   3.8827465 ,\n         23.306524  ,  -9.144505  ,  -8.392965  ,  -0.41566548,\n         13.2462435 ,  -4.6476126 , -18.549213  ,  25.03789   ,\n         16.808487  ,  30.2729    , -18.061678  , -10.344977  ,\n         18.202936  , -19.297102  ,  -3.5069094 , -24.083235  ,\n        -10.469704  ,  -4.126276  ,  -3.8073552 , -19.997421  ,\n         -1.0780541 ,   2.5353625 ,  26.690157  ,  -6.6291137 ,\n          6.014191  ,  -0.17562792,  -6.410852  , -32.119373  ,\n        -12.479059  ,   8.202969  , -11.74812   ,   1.3792948 ,\n         12.843069  , -29.392178  , -22.831453  ,  31.034792  ,\n         -1.9189224 ,  41.767235  ,  18.232965  ,  -5.7701445 ,\n         12.96267   ,  32.61115   , -10.147978  ,   1.5351014 ,\n        -14.502823  , -20.07495   ,  13.858085  ,  -7.164185  ,\n          6.7785788 ,   3.1318085 ,   1.3388457 ,  -3.557379  ,\n        -16.447151  ,  -0.37977022,  -4.0022855 ,  -5.8027477 ,\n        -22.38405   , -15.157896  ,  -4.849042  ,  -0.42650437,\n        -10.943507  , -20.280624  , -20.437466  , -17.249279  ,\n        -14.408724  ,  12.455806  ,  -4.5229735 ,  18.015419  ,\n         -6.6911106 ,  14.601725  , -12.229085  ,   4.626499  ],\n       dtype=float32),\n array([-3.1920488 ,  0.64938575, -0.79429334,  1.5919002 ,  3.1065364 ,\n         2.9919233 , -0.1039984 ,  7.391148  ,  5.675463  , -4.181035  ,\n         0.19765611,  1.0945433 , -4.322982  ,  4.6165504 ,  3.5153015 ,\n         2.16573   , -0.03800058,  0.20820946, -4.021489  , -5.6561694 ,\n        -3.534079  ,  1.0694761 , -0.9624431 , -3.580369  , -2.523864  ,\n        -0.77340657,  0.38114452,  0.5686661 ,  3.3919425 , -1.349782  ,\n        -1.227074  , -0.08963278,  1.916742  , -0.64785826, -2.6670997 ,\n         3.6437314 ,  2.4547338 ,  4.379704  , -2.6313238 , -1.4972613 ,\n         2.635692  , -2.78129   , -0.50874794, -3.4667401 , -1.5308913 ,\n        -0.5625751 , -0.550467  , -2.894794  , -0.14960124,  0.38989502,\n         3.861918  , -0.97054195,  0.86103225, -0.00912955, -0.9244931 ,\n        -4.6277275 , -1.7754261 ,  1.208964  , -1.7060978 ,  0.18846567,\n         1.8528651 , -4.230308  , -3.3051555 ,  4.4972157 , -0.30949515,\n         6.0216184 ,  2.6308603 , -0.8438225 ,  1.8572408 ,  4.702626  ,\n        -1.4684635 ,  0.19558878, -2.0649745 , -2.906913  ,  2.0018382 ,\n        -1.0518863 ,  0.9693434 ,  0.45958245,  0.20939614, -0.51302284,\n        -2.4041622 , -0.0510685 , -0.5559299 , -0.8038421 , -3.2572289 ,\n        -2.198167  , -0.6918786 , -0.06417103, -1.5769601 , -2.946711  ,\n        -2.9396715 , -2.470996  , -2.0678437 ,  1.8105026 , -0.65213877,\n         2.5865223 , -0.954418  ,  2.1253936 , -1.7742302 ,  0.6597704 ],\n       dtype=float32),\n array([-9.92040873e-01,  1.89642549e-01, -2.47280225e-01,  4.97690111e-01,\n         9.61344957e-01,  9.27564025e-01, -4.36757505e-02,  2.31950474e+00,\n         1.78301203e+00, -1.27885962e+00,  7.64563829e-02,  3.50907415e-01,\n        -1.32917714e+00,  1.44758511e+00,  1.11442208e+00,  6.77371502e-01,\n        -1.63180344e-02,  5.21423072e-02, -1.24140429e+00, -1.75310755e+00,\n        -1.10340405e+00,  3.39920878e-01, -3.11645329e-01, -1.12776351e+00,\n        -7.92928994e-01, -2.34954014e-01,  1.32789209e-01,  1.97651297e-01,\n         1.06118953e+00, -4.65702176e-01, -3.86763930e-01, -1.87948812e-02,\n         6.11986399e-01, -1.91579387e-01, -8.41991067e-01,  1.12119198e+00,\n         7.55125880e-01,  1.33583915e+00, -8.31445694e-01, -4.62217599e-01,\n         8.45131576e-01, -8.47771466e-01, -1.61903054e-01, -1.07529116e+00,\n        -4.91401315e-01, -1.70756996e-01, -1.66251108e-01, -9.00535107e-01,\n        -5.16743734e-02,  1.45870268e-01,  1.20921409e+00, -3.21637988e-01,\n         2.56452769e-01,  1.97116798e-03, -2.78006792e-01, -1.42342246e+00,\n        -5.38006544e-01,  3.87807548e-01, -5.36162853e-01,  6.20074943e-02,\n         6.00045085e-01, -1.31407356e+00, -1.01619005e+00,  1.40520096e+00,\n        -1.07794866e-01,  1.88163471e+00,  8.17298174e-01, -2.57039607e-01,\n         5.66111267e-01,  1.45404172e+00, -4.53574479e-01,  5.15130721e-02,\n        -6.38507783e-01, -9.00508285e-01,  6.34389043e-01, -3.21869105e-01,\n         3.12243998e-01,  1.40095949e-01,  7.95357823e-02, -1.53936058e-01,\n        -7.66630828e-01, -1.05056092e-02, -1.44535601e-01, -2.32002005e-01,\n        -1.04482424e+00, -6.82010531e-01, -2.19251573e-01, -1.81240886e-02,\n        -4.87597167e-01, -9.23948765e-01, -9.01901245e-01, -7.59357929e-01,\n        -6.49247527e-01,  5.66428781e-01, -2.12585866e-01,  7.99243927e-01,\n        -2.80313313e-01,  6.62841916e-01, -5.43248355e-01,  2.12079376e-01],\n       dtype=float32),\n array([-1.9941455e+00,  4.4788983e-01, -4.9422097e-01,  9.9696600e-01,\n         1.9513775e+00,  1.8590153e+00, -6.7793339e-02,  4.6098881e+00,\n         3.5348752e+00, -2.6806984e+00,  7.4388102e-02,  6.5274400e-01,\n        -2.7522092e+00,  2.8634253e+00,  2.1876781e+00,  1.3442075e+00,\n        -8.0522423e-04,  1.3917941e-01, -2.5353734e+00, -3.5339217e+00,\n        -2.1943269e+00,  6.4264739e-01, -5.8469248e-01, -2.2263494e+00,\n        -1.5677482e+00, -4.8836720e-01,  2.0205738e-01,  3.3685139e-01,\n         2.1112680e+00, -7.8443944e-01, -7.5966471e-01, -5.5984721e-02,\n         1.1989863e+00, -4.5123038e-01, -1.6858649e+00,  2.2938819e+00,\n         1.5256772e+00,  2.7587478e+00, -1.6278141e+00, -9.4453263e-01,\n         1.6437322e+00, -1.7738925e+00, -3.0645829e-01, -2.1975865e+00,\n        -9.3699408e-01, -4.0127090e-01, -3.4894422e-01, -1.8175735e+00,\n        -8.6787373e-02,  2.0054156e-01,  2.4294963e+00, -5.8157343e-01,\n         5.5692500e-01, -2.4189500e-02, -5.7887644e-01, -2.9369736e+00,\n        -1.1524606e+00,  7.3125809e-01, -1.0574098e+00,  1.2861803e-01,\n         1.1430972e+00, -2.6803029e+00, -2.0819383e+00,  2.8187580e+00,\n        -1.4945994e-01,  3.7986372e+00,  1.6611097e+00, -5.3249186e-01,\n         1.1848712e+00,  2.9787145e+00, -9.1903406e-01,  1.5017435e-01,\n        -1.3327804e+00, -1.8148521e+00,  1.2407058e+00, -6.5250379e-01,\n         6.0140681e-01,  2.9148704e-01,  9.7576819e-02, -3.3989465e-01,\n        -1.4706838e+00, -4.1171886e-02, -4.0121707e-01, -5.6857753e-01,\n        -1.9978436e+00, -1.3791997e+00, -4.5594186e-01, -3.4284838e-02,\n        -9.9263763e-01, -1.8433807e+00, -1.8766716e+00, -1.5973678e+00,\n        -1.3169005e+00,  1.1366630e+00, -3.9101815e-01,  1.6656396e+00,\n        -6.2789953e-01,  1.3098813e+00, -1.1293499e+00,  4.1060534e-01],\n       dtype=float32),\n array([-5.345445  ,  1.1497438 , -1.3336436 ,  2.6835592 ,  5.2637687 ,\n         5.0114594 , -0.18704346, 12.42724   ,  9.501021  , -7.104758  ,\n         0.28698096,  1.818     , -7.359453  ,  7.7527304 ,  5.876461  ,\n         3.6524522 , -0.05946542,  0.38522774, -6.79436   , -9.484873  ,\n        -5.960471  ,  1.7512711 , -1.571924  , -6.037405  , -4.248626  ,\n        -1.322161  ,  0.59407395,  0.96102303,  5.676068  , -2.2109797 ,\n        -1.9982165 , -0.11877213,  3.213607  , -1.1401575 , -4.4797916 ,\n         6.1100206 ,  4.0965123 ,  7.4327364 , -4.387848  , -2.4999313 ,\n         4.417018  , -4.71227   , -0.8177095 , -5.857299  , -2.527973  ,\n        -0.9757246 , -0.89359087, -4.88943   , -0.24290343,  0.5877822 ,\n         6.5303054 , -1.6270651 ,  1.4579214 , -0.04168953, -1.5533452 ,\n        -7.825723  , -3.0466146 ,  2.0367253 , -2.8546076 ,  0.32736066,\n         3.0832298 , -7.165669  , -5.611306  ,  7.576196  , -0.49919695,\n        10.189518  ,  4.4617076 , -1.4026008 ,  3.1647182 ,  7.95265   ,\n        -2.468937  ,  0.37699336, -3.5094497 , -4.890009  ,  3.4032524 ,\n        -1.7270046 ,  1.608986  ,  0.7850648 ,  0.3186126 , -0.8692253 ,\n        -3.9976292 , -0.08661184, -0.9803325 , -1.4311771 , -5.418665  ,\n        -3.6727648 , -1.1864091 , -0.13120496, -2.6537635 , -4.94913   ,\n        -4.992243  , -4.1848273 , -3.4953814 ,  3.0486262 , -1.104556  ,\n         4.354755  , -1.6078215 ,  3.5556283 , -2.9889753 ,  1.126688  ],\n       dtype=float32),\n array([-3.004353  ,  0.5529557 , -0.7680388 ,  1.4818057 ,  2.9006104 ,\n         2.843711  , -0.12649192,  7.0762777 ,  5.4413714 , -3.84906   ,\n         0.24849796,  1.1056933 , -4.0326133 ,  4.4087167 ,  3.3787005 ,\n         2.0843027 , -0.07198369,  0.19192897, -3.7597985 , -5.340761  ,\n        -3.408411  ,  1.0469384 , -0.9601608 , -3.444776  , -2.431731  ,\n        -0.7354159 ,  0.4491456 ,  0.5971382 ,  3.2210112 , -1.4394631 ,\n        -1.1500789 , -0.04745233,  1.8358916 , -0.54758006, -2.5117166 ,\n         3.3773274 ,  2.2872064 ,  4.0709724 , -2.529571  , -1.3901833 ,\n         2.561009  , -2.5642016 , -0.48398924, -3.2372403 , -1.4811763 ,\n        -0.43321955, -0.49522018, -2.767023  , -0.19508547,  0.43219414,\n         3.6633325 , -1.0046579 ,  0.75328684,  0.0144348 , -0.8454159 ,\n        -4.2861466 , -1.6163807 ,  1.2167645 , -1.6183678 ,  0.16459578,\n         1.7969675 , -3.995142  , -3.105033  ,  4.2714353 , -0.38872194,\n         5.680573  ,  2.4767687 , -0.7850466 ,  1.7226925 ,  4.3902874 ,\n        -1.4041083 ,  0.15879746, -1.9075012 , -2.7708066 ,  1.9605589 ,\n        -0.9573317 ,  0.9581363 ,  0.44163996,  0.26639777, -0.44753012,\n        -2.3459537 , -0.02549798, -0.4227724 , -0.64955455, -3.1460583 ,\n        -2.0571508 , -0.64391196, -0.08243126, -1.4806895 , -2.75311   ,\n        -2.7471476 , -2.2453651 , -1.9395839 ,  1.7212323 , -0.6628624 ,\n         2.3466148 , -0.8375304 ,  2.0414655 , -1.6382958 ,  0.6505021 ],\n       dtype=float32),\n array([-2.054657  ,  0.38409728, -0.5048007 ,  1.0189931 ,  1.9852897 ,\n         1.9077878 , -0.07772432,  4.7812    ,  3.6460261 , -2.6254778 ,\n         0.1577569 ,  0.7161344 , -2.7318292 ,  2.981419  ,  2.2879455 ,\n         1.4178343 , -0.03181424,  0.13947067, -2.5499387 , -3.6021223 ,\n        -2.2896285 ,  0.6962591 , -0.62201476, -2.3228505 , -1.6193566 ,\n        -0.4818126 ,  0.27739593,  0.3930231 ,  2.1734767 , -0.9224802 ,\n        -0.76243615, -0.05836898,  1.2405821 , -0.39907965, -1.6922909 ,\n         2.311192  ,  1.566738  ,  2.786261  , -1.6783623 , -0.92440736,\n         1.7206949 , -1.7576793 , -0.33669513, -2.1964548 , -1.0043254 ,\n        -0.28784624, -0.32823542, -1.8667431 , -0.10261717,  0.28202853,\n         2.495457  , -0.6784313 ,  0.52358836,  0.01500409, -0.56916726,\n        -2.888467  , -1.0736387 ,  0.8156303 , -1.0865613 ,  0.12428804,\n         1.1755576 , -2.7038586 , -2.1058931 ,  2.875147  , -0.2222739 ,\n         3.8464572 ,  1.6776221 , -0.55331045,  1.1783701 ,  2.9829407 ,\n        -0.95137995,  0.09910548, -1.281455  , -1.8578894 ,  1.3013985 ,\n        -0.67742866,  0.611199  ,  0.2940742 ,  0.18382582, -0.31626543,\n        -1.5913501 , -0.01331652, -0.29050595, -0.4798345 , -2.1022027 ,\n        -1.3966444 , -0.43740043, -0.07535457, -0.9921335 , -1.8792679 ,\n        -1.85147   , -1.553369  , -1.2961776 ,  1.1569636 , -0.44445968,\n         1.6186153 , -0.5641858 ,  1.3575175 , -1.1368704 ,  0.44660556],\n       dtype=float32),\n array([ -9.054074  ,   1.9158608 ,  -2.2476647 ,   4.551787  ,\n          8.870014  ,   8.493173  ,  -0.32270283,  21.023157  ,\n         16.119564  , -12.006199  ,   0.48733112,   3.0466971 ,\n        -12.435992  ,  13.1136055 ,   9.976989  ,   6.174592  ,\n         -0.10500193,   0.6311801 , -11.5206585 , -16.066715  ,\n        -10.095195  ,   2.9845085 ,  -2.6993594 , -10.194168  ,\n         -7.198725  ,  -2.1891248 ,   1.0093341 ,   1.5736899 ,\n          9.623657  ,  -3.7361243 ,  -3.4810426 ,  -0.22232465,\n          5.4786215 ,  -1.91794   ,  -7.609519  ,  10.358137  ,\n          6.965098  ,  12.540006  ,  -7.4567585 ,  -4.2305665 ,\n          7.440523  ,  -7.936235  ,  -1.4234579 ,  -9.933818  ,\n         -4.3305473 ,  -1.6572312 ,  -1.5470313 ,  -8.245363  ,\n         -0.4159818 ,   1.0464057 ,  11.029415  ,  -2.7173588 ,\n          2.4640167 ,  -0.08267637,  -2.6390646 , -13.235862  ,\n         -5.1057014 ,   3.4026434 ,  -4.840999  ,   0.56681263,\n          5.239425  , -12.131894  ,  -9.435104  ,  12.844307  ,\n         -0.80227005,  17.213963  ,   7.4940734 ,  -2.405429  ,\n          5.3342104 ,  13.422979  ,  -4.1535788 ,   0.6494428 ,\n         -5.9277334 ,  -8.290383  ,   5.7084165 ,  -2.9456627 ,\n          2.735878  ,   1.3073484 ,   0.5421497 ,  -1.4737508 ,\n         -6.790974  ,  -0.16273004,  -1.6524819 ,  -2.4106138 ,\n         -9.179481  ,  -6.2260723 ,  -2.0084321 ,  -0.17556946,\n         -4.471329  ,  -8.369228  ,  -8.454006  ,  -7.0980983 ,\n         -5.918456  ,   5.1656666 ,  -1.8312464 ,   7.4400783 ,\n         -2.7504578 ,   6.0064907 ,  -5.0676317 ,   1.9030207 ],\n       dtype=float32),\n array([-5.151567  ,  1.112617  , -1.3033572 ,  2.5908277 ,  5.0623846 ,\n         4.8352785 , -0.17651089, 11.960279  ,  9.165072  , -6.846962  ,\n         0.2837135 ,  1.7383537 , -7.0768642 ,  7.4400167 ,  5.668114  ,\n         3.518203  , -0.03038931,  0.3457007 , -6.5494967 , -9.155529  ,\n        -5.727399  ,  1.7021409 , -1.5308154 , -5.79011   , -4.08452   ,\n        -1.2557063 ,  0.5797892 ,  0.91616166,  5.4706483 , -2.1369183 ,\n        -1.9597436 , -0.13165535,  3.0966048 , -1.0877948 , -4.331782  ,\n         5.902995  ,  3.9667566 ,  7.1394143 , -4.2317295 , -2.415435  ,\n         4.266221  , -4.543873  , -0.8125688 , -5.647146  , -2.4548821 ,\n        -0.9344291 , -0.8823707 , -4.6800528 , -0.23449999,  0.5873547 ,\n         6.2627587 , -1.5447373 ,  1.402699  , -0.03220034, -1.5017805 ,\n        -7.541802  , -2.9281242 ,  1.9357144 , -2.7587829 ,  0.33192244,\n         2.974959  , -6.9043865 , -5.3816204 ,  7.30531   , -0.45802426,\n         9.792624  ,  4.289821  , -1.3842351 ,  3.0433993 ,  7.655151  ,\n        -2.3797839 ,  0.34437805, -3.3654542 , -4.703987  ,  3.243999  ,\n        -1.67791   ,  1.5599871 ,  0.7470978 ,  0.3063876 , -0.8516892 ,\n        -3.8369226 , -0.07692991, -0.9599165 , -1.378527  , -5.2123938 ,\n        -3.543062  , -1.1385846 , -0.09530857, -2.5419633 , -4.759416  ,\n        -4.813586  , -4.042055  , -3.3636014 ,  2.9497182 , -1.0530368 ,\n         4.2255073 , -1.5777575 ,  3.4168625 , -2.8922772 ,  1.0744356 ],\n       dtype=float32),\n array([-3.29925394e+00,  6.63978696e-01, -8.27024817e-01,  1.64520192e+00,\n         3.22172642e+00,  3.10207438e+00, -1.11036606e-01,  7.67476273e+00,\n         5.89531326e+00, -4.32379103e+00,  2.06235290e-01,  1.13854408e+00,\n        -4.47285938e+00,  4.78378391e+00,  3.65232706e+00,  2.26801538e+00,\n        -4.71432097e-02,  2.28162050e-01, -4.17281532e+00, -5.86948776e+00,\n        -3.67783618e+00,  1.10503888e+00, -9.99501467e-01, -3.72716928e+00,\n        -2.62744689e+00, -7.85656989e-01,  4.03901458e-01,  6.06438994e-01,\n         3.50521922e+00, -1.41545248e+00, -1.25197911e+00, -7.65501708e-02,\n         2.00193691e+00, -6.73887253e-01, -2.76560616e+00,  3.75056767e+00,\n         2.51738143e+00,  4.51624489e+00, -2.73692083e+00, -1.53541946e+00,\n         2.75232673e+00, -2.87690926e+00, -5.19971907e-01, -3.58444405e+00,\n        -1.59076262e+00, -5.65303624e-01, -5.54668367e-01, -3.01141119e+00,\n        -1.69800386e-01,  4.08602774e-01,  4.00108624e+00, -1.02668691e+00,\n         8.79345715e-01, -4.79189027e-03, -9.47704077e-01, -4.77005720e+00,\n        -1.83530247e+00,  1.26304352e+00, -1.76386344e+00,  1.94879472e-01,\n         1.92239690e+00, -4.40541315e+00, -3.42245984e+00,  4.66891003e+00,\n        -3.24583352e-01,  6.23946714e+00,  2.72223926e+00, -8.74781668e-01,\n         1.91925526e+00,  4.86383343e+00, -1.52506328e+00,  2.08534837e-01,\n        -2.13780022e+00, -3.02428555e+00,  2.09920573e+00, -1.07859445e+00,\n         1.00330949e+00,  4.82413799e-01,  2.26153076e-01, -5.29912531e-01,\n        -2.50331020e+00, -4.83639911e-02, -5.56858540e-01, -8.13690662e-01,\n        -3.37661004e+00, -2.27055144e+00, -7.12518275e-01, -7.62912631e-02,\n        -1.63859093e+00, -3.04667878e+00, -3.04278684e+00, -2.55220103e+00,\n        -2.14388847e+00,  1.87606120e+00, -6.94729745e-01,  2.66753554e+00,\n        -9.79970038e-01,  2.20577598e+00, -1.81383264e+00,  6.95379853e-01],\n       dtype=float32),\n array([-0.98372436,  0.1674544 , -0.24394439,  0.4794411 ,  0.9346725 ,\n         0.9345876 , -0.02938729,  2.2942464 ,  1.7670205 , -1.2356932 ,\n         0.08943453,  0.36133087, -1.2889513 ,  1.4320176 ,  1.1069784 ,\n         0.679037  , -0.02527089,  0.05481076, -1.2150484 , -1.7395205 ,\n        -1.1049448 ,  0.34803337, -0.31338647, -1.112802  , -0.7871102 ,\n        -0.23602533,  0.15286937,  0.18287256,  1.0476587 , -0.4633004 ,\n        -0.3835252 , -0.02227562,  0.5995377 , -0.17148572, -0.81326234,\n         1.1134393 ,  0.7571497 ,  1.3162341 , -0.82487285, -0.45155966,\n         0.83380365, -0.8261887 , -0.16309388, -1.0434092 , -0.48946548,\n        -0.13778113, -0.16881786, -0.8909594 , -0.05505461,  0.14724575,\n         1.1892625 , -0.3236003 ,  0.24536128,  0.00876694, -0.27232376,\n        -1.3856341 , -0.5113599 ,  0.3916735 , -0.5240518 ,  0.04391833,\n         0.5805641 , -1.2944812 , -0.9959389 ,  1.3764482 , -0.12337466,\n         1.8306699 ,  0.79667395, -0.26296172,  0.5466633 ,  1.4154944 ,\n        -0.4571889 ,  0.04478746, -0.61027896, -0.88999355,  0.6222589 ,\n        -0.33261925,  0.30270487,  0.14140867,  0.09166972, -0.14941204,\n        -0.7697894 , -0.00797384, -0.12963746, -0.20829663, -1.0214815 ,\n        -0.67179954, -0.19986647, -0.02695006, -0.46506137, -0.9028476 ,\n        -0.8830409 , -0.7322688 , -0.6168075 ,  0.5585252 , -0.21233273,\n         0.7661441 , -0.27088255,  0.65968096, -0.5311436 ,  0.20609441],\n       dtype=float32),\n array([-3.37716436e+00,  6.95051074e-01, -8.61729562e-01,  1.67980146e+00,\n         3.31799722e+00,  3.19490719e+00, -1.21950224e-01,  7.91538715e+00,\n         6.05046558e+00, -4.44204473e+00,  2.23607302e-01,  1.18407404e+00,\n        -4.60823679e+00,  4.91482258e+00,  3.74973655e+00,  2.32379317e+00,\n        -4.23163883e-02,  2.26369679e-01, -4.29233932e+00, -6.01048374e+00,\n        -3.80331421e+00,  1.14985764e+00, -1.02403057e+00, -3.81810951e+00,\n        -2.71027160e+00, -8.23716700e-01,  4.22604442e-01,  6.11104190e-01,\n         3.61403322e+00, -1.46532202e+00, -1.29193127e+00, -7.99584389e-02,\n         2.05910134e+00, -6.83363080e-01, -2.83086681e+00,  3.86650467e+00,\n         2.59892440e+00,  4.66372442e+00, -2.79879951e+00, -1.57639289e+00,\n         2.81259680e+00, -2.93269563e+00, -5.32206178e-01, -3.69071674e+00,\n        -1.64902318e+00, -5.64858258e-01, -5.53199947e-01, -3.09643340e+00,\n        -1.73981011e-01,  4.16714430e-01,  4.12285709e+00, -1.05180204e+00,\n         8.84468794e-01,  1.70137582e-03, -9.74905729e-01, -4.90725088e+00,\n        -1.87241912e+00,  1.30594802e+00, -1.79955256e+00,  2.07028791e-01,\n         1.96775782e+00, -4.52616262e+00, -3.51706433e+00,  4.81013823e+00,\n        -3.34166378e-01,  6.40679407e+00,  2.79499602e+00, -9.06263232e-01,\n         1.98097134e+00,  4.98602533e+00, -1.55893815e+00,  2.11279601e-01,\n        -2.16495872e+00, -3.10845399e+00,  2.14158392e+00, -1.09312451e+00,\n         1.02065587e+00,  4.86907214e-01,  2.19355121e-01, -5.32526076e-01,\n        -2.57219863e+00, -5.25214113e-02, -5.68059385e-01, -8.47970307e-01,\n        -3.44174528e+00, -2.32195473e+00, -7.40338624e-01, -7.44408295e-02,\n        -1.66088462e+00, -3.11452603e+00, -3.14116788e+00, -2.61216402e+00,\n        -2.18154740e+00,  1.95241809e+00, -7.05221057e-01,  2.72165275e+00,\n        -1.00619709e+00,  2.25465250e+00, -1.88168168e+00,  7.20914960e-01],\n       dtype=float32),\n array([-1.7705284e+00,  3.9702255e-01, -4.3897969e-01,  8.8645810e-01,\n         1.7303038e+00,  1.6529710e+00, -6.4661503e-02,  4.0938592e+00,\n         3.1454344e+00, -2.3540518e+00,  8.6284958e-02,  5.8069801e-01,\n        -2.4234035e+00,  2.5467865e+00,  1.9359674e+00,  1.1994840e+00,\n        -4.0468620e-03,  1.2451031e-01, -2.2485318e+00, -3.1409369e+00,\n        -1.9411414e+00,  5.7353455e-01, -5.2625108e-01, -1.9791192e+00,\n        -1.3951252e+00, -4.3183872e-01,  1.8536812e-01,  3.1056431e-01,\n         1.8764670e+00, -7.3374808e-01, -6.6782045e-01, -3.8888492e-02,\n         1.0671846e+00, -3.8427180e-01, -1.4972558e+00,  2.0126417e+00,\n         1.3514905e+00,  2.4310749e+00, -1.4509306e+00, -8.2918864e-01,\n         1.4637359e+00, -1.5646167e+00, -2.8208795e-01, -1.9401484e+00,\n        -8.3495754e-01, -3.4157568e-01, -3.0620044e-01, -1.6167221e+00,\n        -8.4909804e-02,  1.9420214e-01,  2.1495411e+00, -5.2842331e-01,\n         4.8796442e-01, -2.1492213e-02, -5.1325321e-01, -2.5921695e+00,\n        -1.0198565e+00,  6.6411358e-01, -9.4517910e-01,  1.1709734e-01,\n         1.0308570e+00, -2.3647089e+00, -1.8361435e+00,  2.4897258e+00,\n        -1.4863251e-01,  3.3589654e+00,  1.4644587e+00, -4.6087328e-01,\n         1.0478886e+00,  2.6317081e+00, -8.1593138e-01,  1.2254144e-01,\n        -1.1877439e+00, -1.6103158e+00,  1.1187346e+00, -5.8294761e-01,\n         5.4580116e-01,  2.4477354e-01,  1.0638533e-01, -2.9192138e-01,\n        -1.3143308e+00, -3.9383076e-02, -3.3219829e-01, -4.7737935e-01,\n        -1.8014723e+00, -1.2276304e+00, -3.9740872e-01, -2.9385142e-02,\n        -8.8353705e-01, -1.6305547e+00, -1.6366593e+00, -1.3971061e+00,\n        -1.1658530e+00,  9.8790050e-01, -3.5982397e-01,  1.4564850e+00,\n        -5.4851735e-01,  1.1707436e+00, -9.8122209e-01,  3.7338075e-01],\n       dtype=float32),\n ...]"
     ]
    }
   ],
   "source": [
    "embedded_vectors = []\n",
    "\n",
    "for row in df.select('clean_review').collect():\n",
    "    embedded_vectors.append(model.wv[row.clean_review].sum(axis=0))\n",
    "\n",
    "embedded_vectors"
   ]
  },
  {
   "cell_type": "markdown",
   "metadata": {
    "application/vnd.databricks.v1+cell": {
     "cellMetadata": {},
     "inputWidgets": {},
     "nuid": "e9b9cbc5-feb8-4b3c-a4e4-2d2a8689df85",
     "showTitle": false,
     "title": ""
    }
   },
   "source": [
    "#### Oversampling"
   ]
  },
  {
   "cell_type": "code",
   "execution_count": 0,
   "metadata": {
    "application/vnd.databricks.v1+cell": {
     "cellMetadata": {
      "byteLimit": 2048000,
      "rowLimit": 10000
     },
     "inputWidgets": {},
     "nuid": "24d4a455-ae04-41ce-b54d-e0d0d77f1986",
     "showTitle": false,
     "title": ""
    }
   },
   "outputs": [],
   "source": [
    "oversample = SMOTE()\n",
    "X, y = oversample.fit_resample(np.array(embedded_vectors), np.array(df.select(\"fake_review\").collect()))\n",
    "\n",
    "df = spark.createDataFrame(pd.DataFrame({'array_reviews':X.tolist(), 'fake_review':y}))\n",
    "df = df.withColumn('vector_reviews', array_to_vector(df['array_reviews']))"
   ]
  },
  {
   "cell_type": "code",
   "execution_count": 0,
   "metadata": {
    "application/vnd.databricks.v1+cell": {
     "cellMetadata": {
      "byteLimit": 2048000,
      "rowLimit": 10000
     },
     "inputWidgets": {},
     "nuid": "67ff3050-715e-4040-9518-bb146125dae7",
     "showTitle": false,
     "title": ""
    }
   },
   "outputs": [
    {
     "output_type": "display_data",
     "data": {
      "image/png": "[encoded data removed]"
     },
     "metadata": {
      "application/vnd.databricks.v1+output": {
       "addedWidgets": {},
       "arguments": {},
       "data": "data:image/png;base64,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\n",
       "datasetInfos": [],
       "metadata": {},
       "removedWidgets": [],
       "type": "image"
      }
     },
     "output_type": "display_data"
    }
   ],
   "source": [
    "rating_count = df.groupBy(\"fake_review\").count().orderBy('fake_review')\n",
    "plt.figure(figsize =(4, 4))\n",
    "plt.bar(rating_count.rdd.map(lambda x:x['fake_review']).collect(), rating_count.rdd.map(lambda x:x['count']).collect())\n",
    "plt.title(\"Ratings distribution\",)\n",
    "plt.show()"
   ]
  },
  {
   "cell_type": "code",
   "execution_count": 0,
   "metadata": {
    "application/vnd.databricks.v1+cell": {
     "cellMetadata": {
      "byteLimit": 2048000,
      "rowLimit": 10000
     },
     "inputWidgets": {},
     "nuid": "d0212a02-a9bb-4bdd-ad10-608f4476299d",
     "showTitle": false,
     "title": ""
    }
   },
   "outputs": [
    {
     "output_type": "stream",
     "name": "stdout",
     "output_type": "stream",
     "text": [
      "Out[13]: 1888"
     ]
    }
   ],
   "source": [
    "df.count()"
   ]
  },
  {
   "cell_type": "code",
   "execution_count": 0,
   "metadata": {
    "application/vnd.databricks.v1+cell": {
     "cellMetadata": {
      "byteLimit": 2048000,
      "rowLimit": 10000
     },
     "inputWidgets": {},
     "nuid": "86e851ba-5f01-4851-9931-e4e30f3f1cf5",
     "showTitle": false,
     "title": ""
    }
   },
   "outputs": [],
   "source": [
    "train, test = df.randomSplit(weights=[0.8,0.2], seed=200)\n",
    "train = train.select(\"*\").orderBy(rand())\n",
    "test = test.select(\"*\").orderBy(rand())"
   ]
  },
  {
   "cell_type": "markdown",
   "metadata": {
    "application/vnd.databricks.v1+cell": {
     "cellMetadata": {},
     "inputWidgets": {},
     "nuid": "e4c27229-49a1-4764-ae0c-b3334c8ef1fe",
     "showTitle": false,
     "title": ""
    }
   },
   "source": [
    "#### Split into Train and Test datasets and Shuffle"
   ]
  },
  {
   "cell_type": "code",
   "execution_count": 0,
   "metadata": {
    "application/vnd.databricks.v1+cell": {
     "cellMetadata": {
      "byteLimit": 2048000,
      "rowLimit": 10000
     },
     "inputWidgets": {},
     "nuid": "f4f62c07-0089-448a-8664-a0f2111c6393",
     "showTitle": false,
     "title": ""
    }
   },
   "outputs": [
    {
     "output_type": "stream",
     "name": "stdout",
     "output_type": "stream",
     "text": [
      "Out[31]: 0.49933774834437084"
     ]
    }
   ],
   "source": [
    "train.filter(train['fake_review']==1).count()/train.count()"
   ]
  },
  {
   "cell_type": "code",
   "execution_count": 0,
   "metadata": {
    "application/vnd.databricks.v1+cell": {
     "cellMetadata": {
      "byteLimit": 2048000,
      "rowLimit": 10000
     },
     "inputWidgets": {},
     "nuid": "55b34ec4-d189-4151-87df-1d85575af600",
     "showTitle": false,
     "title": ""
    }
   },
   "outputs": [],
   "source": [
    "test.filter(test['fake_review']==1).count()/test.count()"
   ]
  },
  {
   "cell_type": "code",
   "execution_count": 0,
   "metadata": {
    "application/vnd.databricks.v1+cell": {
     "cellMetadata": {
      "byteLimit": 2048000,
      "rowLimit": 10000
     },
     "inputWidgets": {},
     "nuid": "f740f578-32ae-4bec-828b-033fddd99562",
     "showTitle": false,
     "title": ""
    }
   },
   "outputs": [],
   "source": [
    "train.printSchema()"
   ]
  },
  {
   "cell_type": "markdown",
   "metadata": {
    "application/vnd.databricks.v1+cell": {
     "cellMetadata": {},
     "inputWidgets": {},
     "nuid": "721f8cef-6bce-429d-bd19-2cc0a4265075",
     "showTitle": false,
     "title": ""
    }
   },
   "source": [
    "### Models"
   ]
  },
  {
   "cell_type": "markdown",
   "metadata": {
    "application/vnd.databricks.v1+cell": {
     "cellMetadata": {},
     "inputWidgets": {},
     "nuid": "5f4da5f4-e821-406c-9904-43f83f08b43a",
     "showTitle": false,
     "title": ""
    }
   },
   "source": [
    "##### Logistic Regression"
   ]
  },
  {
   "cell_type": "code",
   "execution_count": 0,
   "metadata": {
    "application/vnd.databricks.v1+cell": {
     "cellMetadata": {
      "byteLimit": 2048000,
      "rowLimit": 10000
     },
     "inputWidgets": {},
     "nuid": "6eb88df3-1803-46bb-b455-9abdbead111a",
     "showTitle": false,
     "title": ""
    }
   },
   "outputs": [
    {
     "output_type": "stream",
     "name": "stdout",
     "output_type": "stream",
     "text": [
      "Out[61]: 0.6543046357615894"
     ]
    }
   ],
   "source": [
    "#Train model\n",
    "\n",
    "log_reg = LogisticRegression(featuresCol='vector_reviews', labelCol='fake_review')\n",
    "log_reg = log_reg.fit(train)\n",
    "res = log_reg.transform(train)\n",
    "res.filter(res.fake_review == res.prediction).count()/res.count() ## Train Accuracy"
   ]
  },
  {
   "cell_type": "code",
   "execution_count": 0,
   "metadata": {
    "application/vnd.databricks.v1+cell": {
     "cellMetadata": {
      "byteLimit": 2048000,
      "rowLimit": 10000
     },
     "inputWidgets": {},
     "nuid": "1fcaccb9-3e4c-4c8a-81ea-2d731416437e",
     "showTitle": false,
     "title": ""
    }
   },
   "outputs": [
    {
     "output_type": "stream",
     "name": "stdout",
     "output_type": "stream",
     "text": [
      "Out[62]: 0.6825396825396826"
     ]
    }
   ],
   "source": [
    "## Test Accuracy\n",
    "res = log_reg.transform(test)\n",
    "res.filter(res.fake_review == res.prediction).count()/res.count() "
   ]
  },
  {
   "cell_type": "markdown",
   "metadata": {
    "application/vnd.databricks.v1+cell": {
     "cellMetadata": {},
     "inputWidgets": {},
     "nuid": "9ef16554-be56-47bb-992a-b3740daf9307",
     "showTitle": false,
     "title": ""
    }
   },
   "source": [
    "##### Linear SVM"
   ]
  },
  {
   "cell_type": "code",
   "execution_count": 0,
   "metadata": {
    "application/vnd.databricks.v1+cell": {
     "cellMetadata": {
      "byteLimit": 2048000,
      "rowLimit": 10000
     },
     "inputWidgets": {},
     "nuid": "350c65f6-5dba-4aff-b744-63b39130d54c",
     "showTitle": false,
     "title": ""
    }
   },
   "outputs": [
    {
     "output_type": "stream",
     "name": "stdout",
     "output_type": "stream",
     "text": [
      "Out[34]: 0.6589403973509934"
     ]
    }
   ],
   "source": [
    "# Train model\n",
    "\n",
    "lsvc = LinearSVC(featuresCol='vector_reviews', labelCol=\"fake_review\", maxIter=50)\n",
    "lsvc = lsvc.fit(train)\n",
    "res = lsvc.transform(train)\n",
    "res.filter(res.fake_review == res.prediction).count()/res.count() ## Train Accuracy"
   ]
  },
  {
   "cell_type": "code",
   "execution_count": 0,
   "metadata": {
    "application/vnd.databricks.v1+cell": {
     "cellMetadata": {
      "byteLimit": 2048000,
      "rowLimit": 10000
     },
     "inputWidgets": {},
     "nuid": "aaed058e-c78d-45c3-9cfa-1b73b4fda9e1",
     "showTitle": false,
     "title": ""
    }
   },
   "outputs": [
    {
     "output_type": "stream",
     "name": "stdout",
     "output_type": "stream",
     "text": [
      "Out[35]: 0.6534391534391535"
     ]
    }
   ],
   "source": [
    "## Test Accuracy\n",
    "res = lsvc.transform(test)\n",
    "res.filter(res.fake_review == res.prediction).count()/res.count() "
   ]
  },
  {
   "cell_type": "markdown",
   "metadata": {
    "application/vnd.databricks.v1+cell": {
     "cellMetadata": {},
     "inputWidgets": {},
     "nuid": "afd62dbf-0111-4d6d-9693-d3b7dc849256",
     "showTitle": false,
     "title": ""
    }
   },
   "source": [
    "##### Decision Tree"
   ]
  },
  {
   "cell_type": "code",
   "execution_count": 0,
   "metadata": {
    "application/vnd.databricks.v1+cell": {
     "cellMetadata": {
      "byteLimit": 2048000,
      "rowLimit": 10000
     },
     "inputWidgets": {},
     "nuid": "4f66863e-2bd3-443a-a5c1-48d8536ba10c",
     "showTitle": false,
     "title": ""
    }
   },
   "outputs": [
    {
     "output_type": "stream",
     "name": "stdout",
     "output_type": "stream",
     "text": [
      "Out[36]: 0.7245033112582782"
     ]
    }
   ],
   "source": [
    "#Train model\n",
    "\n",
    "dtc = DecisionTreeClassifier(featuresCol='vector_reviews', labelCol=\"fake_review\")\n",
    "dtc = dtc.fit(train)\n",
    "res = dtc.transform(train)\n",
    "res.filter(res.fake_review == res.prediction).count()/res.count() ## Train Accuracy"
   ]
  },
  {
   "cell_type": "code",
   "execution_count": 0,
   "metadata": {
    "application/vnd.databricks.v1+cell": {
     "cellMetadata": {
      "byteLimit": 2048000,
      "rowLimit": 10000
     },
     "inputWidgets": {},
     "nuid": "4b2a2082-cabb-4473-a5a0-eed7d21055da",
     "showTitle": false,
     "title": ""
    }
   },
   "outputs": [
    {
     "output_type": "stream",
     "name": "stdout",
     "output_type": "stream",
     "text": [
      "Out[37]: 0.701058201058201"
     ]
    }
   ],
   "source": [
    "## Test Accuracy\n",
    "res = dtc.transform(test)\n",
    "res.filter(res.fake_review == res.prediction).count()/res.count() "
   ]
  },
  {
   "cell_type": "markdown",
   "metadata": {
    "application/vnd.databricks.v1+cell": {
     "cellMetadata": {},
     "inputWidgets": {},
     "nuid": "1ea3867d-a64d-4446-9838-0fdb35483461",
     "showTitle": false,
     "title": ""
    }
   },
   "source": [
    "##### Random Forest"
   ]
  },
  {
   "cell_type": "code",
   "execution_count": 0,
   "metadata": {
    "application/vnd.databricks.v1+cell": {
     "cellMetadata": {
      "byteLimit": 2048000,
      "rowLimit": 10000
     },
     "inputWidgets": {},
     "nuid": "a0b4fef1-38c8-455f-b999-5144c179bf40",
     "showTitle": false,
     "title": ""
    }
   },
   "outputs": [
    {
     "output_type": "stream",
     "name": "stdout",
     "output_type": "stream",
     "text": [
      "Out[38]: 0.7225165562913908"
     ]
    }
   ],
   "source": [
    "#Train model\n",
    "\n",
    "rfc = RandomForestClassifier(featuresCol='vector_reviews', labelCol=\"fake_review\", numTrees=10)\n",
    "rfc = rfc.fit(train)\n",
    "res = rfc.transform(train)\n",
    "res.filter(res.fake_review == res.prediction).count()/res.count() ## Train Accuracy"
   ]
  },
  {
   "cell_type": "code",
   "execution_count": 0,
   "metadata": {
    "application/vnd.databricks.v1+cell": {
     "cellMetadata": {
      "byteLimit": 2048000,
      "rowLimit": 10000
     },
     "inputWidgets": {},
     "nuid": "64c4ae49-3d6a-4c04-ad4d-c1aec1a8a528",
     "showTitle": false,
     "title": ""
    }
   },
   "outputs": [
    {
     "output_type": "stream",
     "name": "stdout",
     "output_type": "stream",
     "text": [
      "Out[39]: 0.6851851851851852"
     ]
    }
   ],
   "source": [
    "## Test Accuracy\n",
    "res = rfc.transform(test)\n",
    "res.filter(res.fake_review == res.prediction).count()/res.count() "
   ]
  },
  {
   "cell_type": "markdown",
   "metadata": {
    "application/vnd.databricks.v1+cell": {
     "cellMetadata": {},
     "inputWidgets": {},
     "nuid": "cfa43145-2a46-42ed-9ad0-f289cdae1781",
     "showTitle": false,
     "title": ""
    }
   },
   "source": [
    "##### Gradient Boost"
   ]
  },
  {
   "cell_type": "code",
   "execution_count": 0,
   "metadata": {
    "application/vnd.databricks.v1+cell": {
     "cellMetadata": {
      "byteLimit": 2048000,
      "rowLimit": 10000
     },
     "inputWidgets": {},
     "nuid": "df086a45-e80b-4527-8d3e-48fbe28fb1a8",
     "showTitle": false,
     "title": ""
    }
   },
   "outputs": [
    {
     "output_type": "stream",
     "name": "stdout",
     "output_type": "stream",
     "text": [
      "Out[40]: 0.828476821192053"
     ]
    }
   ],
   "source": [
    "#Train model\n",
    "\n",
    "gbtc = GBTClassifier(featuresCol='vector_reviews', labelCol=\"fake_review\", maxIter=10)\n",
    "gbtc = gbtc.fit(train)\n",
    "res = gbtc.transform(train)\n",
    "res.filter(res.fake_review == res.prediction).count()/res.count() ## Train Accuracy"
   ]
  },
  {
   "cell_type": "code",
   "execution_count": 0,
   "metadata": {
    "application/vnd.databricks.v1+cell": {
     "cellMetadata": {
      "byteLimit": 2048000,
      "rowLimit": 10000
     },
     "inputWidgets": {},
     "nuid": "77aeeebe-6821-4242-976e-8df7c9f17900",
     "showTitle": false,
     "title": ""
    }
   },
   "outputs": [
    {
     "output_type": "stream",
     "name": "stdout",
     "output_type": "stream",
     "text": [
      "Out[41]: 0.7222222222222222"
     ]
    }
   ],
   "source": [
    "## Test Accuracy\n",
    "res = gbtc.transform(test)\n",
    "res.filter(res.fake_review == res.prediction).count()/res.count() "
   ]
  },
  {
   "cell_type": "markdown",
   "metadata": {
    "application/vnd.databricks.v1+cell": {
     "cellMetadata": {},
     "inputWidgets": {},
     "nuid": "e5aeb0f2-aa62-4947-89fb-6617f3e202ac",
     "showTitle": false,
     "title": ""
    }
   },
   "source": [
    "##### Multilayer Perceptron"
   ]
  },
  {
   "cell_type": "code",
   "execution_count": 0,
   "metadata": {
    "application/vnd.databricks.v1+cell": {
     "cellMetadata": {
      "byteLimit": 2048000,
      "rowLimit": 10000
     },
     "inputWidgets": {},
     "nuid": "37a23297-6b87-4670-9bae-009b9d2a88a8",
     "showTitle": false,
     "title": ""
    }
   },
   "outputs": [
    {
     "output_type": "stream",
     "name": "stdout",
     "output_type": "stream",
     "text": [
      "Out[42]: 0.8509933774834437"
     ]
    }
   ],
   "source": [
    "#Train model \n",
    "\n",
    "layers = [100, 64, 32, 8, 2]\n",
    "\n",
    "mlpc = MultilayerPerceptronClassifier(featuresCol='vector_reviews', labelCol=\"fake_review\", maxIter=1000, layers=layers, blockSize=128, seed=132)\n",
    "mlpc = mlpc.fit(train)\n",
    "res = mlpc.transform(train)\n",
    "res.filter(res.fake_review == res.prediction).count()/res.count() ## Train Accuracy"
   ]
  },
  {
   "cell_type": "code",
   "execution_count": 0,
   "metadata": {
    "application/vnd.databricks.v1+cell": {
     "cellMetadata": {
      "byteLimit": 2048000,
      "rowLimit": 10000
     },
     "inputWidgets": {},
     "nuid": "98ef6272-8f84-4402-8f32-60a2d2e76cee",
     "showTitle": false,
     "title": ""
    }
   },
   "outputs": [
    {
     "output_type": "stream",
     "name": "stdout",
     "output_type": "stream",
     "text": [
      "Out[43]: 0.7645502645502645"
     ]
    }
   ],
   "source": [
    "## Test Accuracy\n",
    "res = mlpc.transform(test)\n",
    "res.filter(res.fake_review == res.prediction).count()/res.count() "
   ]
  },
  {
   "cell_type": "code",
   "execution_count": 0,
   "metadata": {
    "application/vnd.databricks.v1+cell": {
     "cellMetadata": {},
     "inputWidgets": {},
     "nuid": "a3dcd222-a171-471a-9fff-5f33f4abcd6b",
     "showTitle": false,
     "title": ""
    }
   },
   "outputs": [],
   "source": []
  }
 ],
 "metadata": {
  "application/vnd.databricks.v1+notebook": {
   "dashboards": [],
   "language": "python",
   "notebookMetadata": {
    "pythonIndentUnit": 4
   },
   "notebookName": "2023-11-22-sentiment_score",
   "widgets": {}
  }
 },
 "nbformat": 4,
 "nbformat_minor": 0
}
